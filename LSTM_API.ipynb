<!DOCTYPE html>
<!-- saved from url=(0046)http://localhost:8888/notebooks/LSTM_API.ipynb -->
<html lang="en-us"><head><meta http-equiv="Content-Type" content="text/html; charset=UTF-8">
    

    <title>LSTM_API - Jupyter Notebook</title>
    
    <meta http-equiv="X-UA-Compatible" content="IE=edge">
    <link rel="stylesheet" href="./LSTM_API _files/jquery-ui.min.css" type="text/css">
    <link rel="stylesheet" href="./LSTM_API _files/jquery.typeahead.min.css" type="text/css">
    <meta name="viewport" content="width=device-width, initial-scale=1.0">
    
    


<script type="text/javascript" src="./LSTM_API _files/MathJax.js" charset="utf-8"></script>

<script type="text/javascript">
// MathJax disabled, set as null to distinguish from *missing* MathJax,
// where it will be undefined, and should prompt a dialog later.
window.mathjax_url = "/static/components/MathJax/MathJax.js";
</script>

<link rel="stylesheet" href="./LSTM_API _files/bootstrap-tour.min.css" type="text/css">
<link rel="stylesheet" href="./LSTM_API _files/codemirror.css">


    <link rel="stylesheet" href="./LSTM_API _files/style.min.css" type="text/css">
    

<link rel="stylesheet" href="./LSTM_API _files/override.css" type="text/css">
<link rel="stylesheet" href="http://localhost:8888/notebooks/LSTM_API.ipynb" id="kernel-css" type="text/css">


    <link rel="stylesheet" href="./LSTM_API _files/custom.css" type="text/css">
    <script src="./LSTM_API _files/promise.min.js" type="text/javascript" charset="utf-8"></script>
    <script src="./LSTM_API _files/react.production.min.js" type="text/javascript"></script>
    <script src="./LSTM_API _files/react-dom.production.min.js" type="text/javascript"></script>
    <script src="./LSTM_API _files/index.js" type="text/javascript"></script>
    <script src="./LSTM_API _files/require.js" type="text/javascript" charset="utf-8"></script>
    <script>
      require.config({
          
          urlArgs: "v=20200914132135",
          
          baseUrl: '/static/',
          paths: {
            'auth/js/main': 'auth/js/main.min',
            custom : '/custom',
            nbextensions : '/nbextensions',
            kernelspecs : '/kernelspecs',
            underscore : 'components/underscore/underscore-min',
            backbone : 'components/backbone/backbone-min',
            jed: 'components/jed/jed',
            jquery: 'components/jquery/jquery.min',
            json: 'components/requirejs-plugins/src/json',
            text: 'components/requirejs-text/text',
            bootstrap: 'components/bootstrap/dist/js/bootstrap.min',
            bootstraptour: 'components/bootstrap-tour/build/js/bootstrap-tour.min',
            'jquery-ui': 'components/jquery-ui/jquery-ui.min',
            moment: 'components/moment/min/moment-with-locales',
            codemirror: 'components/codemirror',
            termjs: 'components/xterm.js/xterm',
            typeahead: 'components/jquery-typeahead/dist/jquery.typeahead.min',
          },
          map: { // for backward compatibility
              "*": {
                  "jqueryui": "jquery-ui",
              }
          },
          shim: {
            typeahead: {
              deps: ["jquery"],
              exports: "typeahead"
            },
            underscore: {
              exports: '_'
            },
            backbone: {
              deps: ["underscore", "jquery"],
              exports: "Backbone"
            },
            bootstrap: {
              deps: ["jquery"],
              exports: "bootstrap"
            },
            bootstraptour: {
              deps: ["bootstrap"],
              exports: "Tour"
            },
            "jquery-ui": {
              deps: ["jquery"],
              exports: "$"
            }
          },
          waitSeconds: 30,
      });

      require.config({
          map: {
              '*':{
                'contents': 'services/contents',
              }
          }
      });

      // error-catching custom.js shim.
      define("custom", function (require, exports, module) {
          try {
              var custom = require('custom/custom');
              console.debug('loaded custom.js');
              return custom;
          } catch (e) {
              console.error("error loading custom.js", e);
              return {};
          }
      })

    document.nbjs_translations = {"domain": "nbjs", "locale_data": {"nbjs": {"": {"domain": "nbjs"}}}};
    document.documentElement.lang = navigator.language.toLowerCase();
    </script>

    
    

<script type="text/javascript" charset="utf-8" async="" data-requirecontext="_" data-requiremodule="services/contents" src="./LSTM_API _files/contents.js"></script><style type="text/css">.MathJax_Hover_Frame {border-radius: .25em; -webkit-border-radius: .25em; -moz-border-radius: .25em; -khtml-border-radius: .25em; box-shadow: 0px 0px 15px #83A; -webkit-box-shadow: 0px 0px 15px #83A; -moz-box-shadow: 0px 0px 15px #83A; -khtml-box-shadow: 0px 0px 15px #83A; border: 1px solid #A6D ! important; display: inline-block; position: absolute}
.MathJax_Menu_Button .MathJax_Hover_Arrow {position: absolute; cursor: pointer; display: inline-block; border: 2px solid #AAA; border-radius: 4px; -webkit-border-radius: 4px; -moz-border-radius: 4px; -khtml-border-radius: 4px; font-family: 'Courier New',Courier; font-size: 9px; color: #F0F0F0}
.MathJax_Menu_Button .MathJax_Hover_Arrow span {display: block; background-color: #AAA; border: 1px solid; border-radius: 3px; line-height: 0; padding: 4px}
.MathJax_Hover_Arrow:hover {color: white!important; border: 2px solid #CCC!important}
.MathJax_Hover_Arrow:hover span {background-color: #CCC!important}
</style><style type="text/css">#MathJax_About {position: fixed; left: 50%; width: auto; text-align: center; border: 3px outset; padding: 1em 2em; background-color: #DDDDDD; color: black; cursor: default; font-family: message-box; font-size: 120%; font-style: normal; text-indent: 0; text-transform: none; line-height: normal; letter-spacing: normal; word-spacing: normal; word-wrap: normal; white-space: nowrap; float: none; z-index: 201; border-radius: 15px; -webkit-border-radius: 15px; -moz-border-radius: 15px; -khtml-border-radius: 15px; box-shadow: 0px 10px 20px #808080; -webkit-box-shadow: 0px 10px 20px #808080; -moz-box-shadow: 0px 10px 20px #808080; -khtml-box-shadow: 0px 10px 20px #808080; filter: progid:DXImageTransform.Microsoft.dropshadow(OffX=2, OffY=2, Color='gray', Positive='true')}
#MathJax_About.MathJax_MousePost {outline: none}
.MathJax_Menu {position: absolute; background-color: white; color: black; width: auto; padding: 5px 0px; border: 1px solid #CCCCCC; margin: 0; cursor: default; font: menu; text-align: left; text-indent: 0; text-transform: none; line-height: normal; letter-spacing: normal; word-spacing: normal; word-wrap: normal; white-space: nowrap; float: none; z-index: 201; border-radius: 5px; -webkit-border-radius: 5px; -moz-border-radius: 5px; -khtml-border-radius: 5px; box-shadow: 0px 10px 20px #808080; -webkit-box-shadow: 0px 10px 20px #808080; -moz-box-shadow: 0px 10px 20px #808080; -khtml-box-shadow: 0px 10px 20px #808080; filter: progid:DXImageTransform.Microsoft.dropshadow(OffX=2, OffY=2, Color='gray', Positive='true')}
.MathJax_MenuItem {padding: 1px 2em; background: transparent}
.MathJax_MenuArrow {position: absolute; right: .5em; padding-top: .25em; color: #666666; font-size: .75em}
.MathJax_MenuActive .MathJax_MenuArrow {color: white}
.MathJax_MenuArrow.RTL {left: .5em; right: auto}
.MathJax_MenuCheck {position: absolute; left: .7em}
.MathJax_MenuCheck.RTL {right: .7em; left: auto}
.MathJax_MenuRadioCheck {position: absolute; left: .7em}
.MathJax_MenuRadioCheck.RTL {right: .7em; left: auto}
.MathJax_MenuLabel {padding: 1px 2em 3px 1.33em; font-style: italic}
.MathJax_MenuRule {border-top: 1px solid #DDDDDD; margin: 4px 3px}
.MathJax_MenuDisabled {color: GrayText}
.MathJax_MenuActive {background-color: #606872; color: white}
.MathJax_MenuDisabled:focus, .MathJax_MenuLabel:focus {background-color: #E8E8E8}
.MathJax_ContextMenu:focus {outline: none}
.MathJax_ContextMenu .MathJax_MenuItem:focus {outline: none}
#MathJax_AboutClose {top: .2em; right: .2em}
.MathJax_Menu .MathJax_MenuClose {top: -10px; left: -10px}
.MathJax_MenuClose {position: absolute; cursor: pointer; display: inline-block; border: 2px solid #AAA; border-radius: 18px; -webkit-border-radius: 18px; -moz-border-radius: 18px; -khtml-border-radius: 18px; font-family: 'Courier New',Courier; font-size: 24px; color: #F0F0F0}
.MathJax_MenuClose span {display: block; background-color: #AAA; border: 1.5px solid; border-radius: 18px; -webkit-border-radius: 18px; -moz-border-radius: 18px; -khtml-border-radius: 18px; line-height: 0; padding: 8px 0 6px}
.MathJax_MenuClose:hover {color: white!important; border: 2px solid #CCC!important}
.MathJax_MenuClose:hover span {background-color: #CCC!important}
.MathJax_MenuClose:hover:focus {outline: none}
</style><style type="text/css">.MathJax_Preview .MJXf-math {color: inherit!important}
</style><style type="text/css">.MJX_Assistive_MathML {position: absolute!important; top: 0; left: 0; clip: rect(1px, 1px, 1px, 1px); padding: 1px 0 0 0!important; border: 0!important; height: 1px!important; width: 1px!important; overflow: hidden!important; display: block!important; -webkit-touch-callout: none; -webkit-user-select: none; -khtml-user-select: none; -moz-user-select: none; -ms-user-select: none; user-select: none}
.MJX_Assistive_MathML.MJX_Assistive_MathML_Block {width: 100%!important}
</style><style type="text/css">#MathJax_Zoom {position: absolute; background-color: #F0F0F0; overflow: auto; display: block; z-index: 301; padding: .5em; border: 1px solid black; margin: 0; font-weight: normal; font-style: normal; text-align: left; text-indent: 0; text-transform: none; line-height: normal; letter-spacing: normal; word-spacing: normal; word-wrap: normal; white-space: nowrap; float: none; -webkit-box-sizing: content-box; -moz-box-sizing: content-box; box-sizing: content-box; box-shadow: 5px 5px 15px #AAAAAA; -webkit-box-shadow: 5px 5px 15px #AAAAAA; -moz-box-shadow: 5px 5px 15px #AAAAAA; -khtml-box-shadow: 5px 5px 15px #AAAAAA; filter: progid:DXImageTransform.Microsoft.dropshadow(OffX=2, OffY=2, Color='gray', Positive='true')}
#MathJax_ZoomOverlay {position: absolute; left: 0; top: 0; z-index: 300; display: inline-block; width: 100%; height: 100%; border: 0; padding: 0; margin: 0; background-color: white; opacity: 0; filter: alpha(opacity=0)}
#MathJax_ZoomFrame {position: relative; display: inline-block; height: 0; width: 0}
#MathJax_ZoomEventTrap {position: absolute; left: 0; top: 0; z-index: 302; display: inline-block; border: 0; padding: 0; margin: 0; background-color: white; opacity: 0; filter: alpha(opacity=0)}
</style><style type="text/css">.MathJax_Preview {color: #888}
#MathJax_Message {position: fixed; left: 1em; bottom: 1.5em; background-color: #E6E6E6; border: 1px solid #959595; margin: 0px; padding: 2px 8px; z-index: 102; color: black; font-size: 80%; width: auto; white-space: nowrap}
#MathJax_MSIE_Frame {position: absolute; top: 0; left: 0; width: 0px; z-index: 101; border: 0px; margin: 0px; padding: 0px}
.MathJax_Error {color: #CC0000; font-style: italic}
</style><script type="text/javascript" charset="utf-8" async="" data-requirecontext="_" data-requiremodule="custom/custom" src="./LSTM_API _files/custom.js"></script><style type="text/css">div.MathJax_MathML {text-align: center; margin: .75em 0px; display: block!important}
.MathJax_MathML {font-style: normal; font-weight: normal; line-height: normal; font-size: 100%; font-size-adjust: none; text-indent: 0; text-align: left; text-transform: none; letter-spacing: normal; word-spacing: normal; word-wrap: normal; white-space: nowrap; float: none; direction: ltr; max-width: none; max-height: none; min-width: 0; min-height: 0; border: 0; padding: 0; margin: 0}
span.MathJax_MathML {display: inline!important}
.MathJax_mmlExBox {display: block!important; overflow: hidden; height: 1px; width: 60ex; min-height: 0; max-height: none; padding: 0; border: 0; margin: 0}
[class="MJX-tex-oldstyle"] {font-family: MathJax_Caligraphic, MathJax_Caligraphic-WEB}
[class="MJX-tex-oldstyle-bold"] {font-family: MathJax_Caligraphic, MathJax_Caligraphic-WEB; font-weight: bold}
[class="MJX-tex-caligraphic"] {font-family: MathJax_Caligraphic, MathJax_Caligraphic-WEB}
[class="MJX-tex-caligraphic-bold"] {font-family: MathJax_Caligraphic, MathJax_Caligraphic-WEB; font-weight: bold}
@font-face /*1*/ {font-family: MathJax_Caligraphic-WEB; src: url('http://localhost:8888/static/components/MathJax/fonts/HTML-CSS/TeX/otf/MathJax_Caligraphic-Regular.otf')}
@font-face /*2*/ {font-family: MathJax_Caligraphic-WEB; font-weight: bold; src: url('http://localhost:8888/static/components/MathJax/fonts/HTML-CSS/TeX/otf/MathJax_Caligraphic-Bold.otf')}
[mathvariant="double-struck"] {font-family: MathJax_AMS, MathJax_AMS-WEB}
[mathvariant="script"] {font-family: MathJax_Script, MathJax_Script-WEB}
[mathvariant="fraktur"] {font-family: MathJax_Fraktur, MathJax_Fraktur-WEB}
[mathvariant="bold-script"] {font-family: MathJax_Script, MathJax_Caligraphic-WEB; font-weight: bold}
[mathvariant="bold-fraktur"] {font-family: MathJax_Fraktur, MathJax_Fraktur-WEB; font-weight: bold}
[mathvariant="monospace"] {font-family: monospace}
[mathvariant="sans-serif"] {font-family: sans-serif}
[mathvariant="bold-sans-serif"] {font-family: sans-serif; font-weight: bold}
[mathvariant="sans-serif-italic"] {font-family: sans-serif; font-style: italic}
[mathvariant="sans-serif-bold-italic"] {font-family: sans-serif; font-style: italic; font-weight: bold}
@font-face /*3*/ {font-family: MathJax_AMS-WEB; src: url('http://localhost:8888/static/components/MathJax/fonts/HTML-CSS/TeX/otf/MathJax_AMS-Regular.otf')}
@font-face /*4*/ {font-family: MathJax_Script-WEB; src: url('http://localhost:8888/static/components/MathJax/fonts/HTML-CSS/TeX/otf/MathJax_Script-Regular.otf')}
@font-face /*5*/ {font-family: MathJax_Fraktur-WEB; src: url('http://localhost:8888/static/components/MathJax/fonts/HTML-CSS/TeX/otf/MathJax_Fraktur-Regular.otf')}
@font-face /*6*/ {font-family: MathJax_Fraktur-WEB; font-weight: bold; src: url('http://localhost:8888/static/components/MathJax/fonts/HTML-CSS/TeX/otf/MathJax_Fraktur-Bold.otf')}
</style><style type="text/css">.MJXp-script {font-size: .8em}
.MJXp-right {-webkit-transform-origin: right; -moz-transform-origin: right; -ms-transform-origin: right; -o-transform-origin: right; transform-origin: right}
.MJXp-bold {font-weight: bold}
.MJXp-italic {font-style: italic}
.MJXp-scr {font-family: MathJax_Script,'Times New Roman',Times,STIXGeneral,serif}
.MJXp-frak {font-family: MathJax_Fraktur,'Times New Roman',Times,STIXGeneral,serif}
.MJXp-sf {font-family: MathJax_SansSerif,'Times New Roman',Times,STIXGeneral,serif}
.MJXp-cal {font-family: MathJax_Caligraphic,'Times New Roman',Times,STIXGeneral,serif}
.MJXp-mono {font-family: MathJax_Typewriter,'Times New Roman',Times,STIXGeneral,serif}
.MJXp-largeop {font-size: 150%}
.MJXp-largeop.MJXp-int {vertical-align: -.2em}
.MJXp-math {display: inline-block; line-height: 1.2; text-indent: 0; font-family: 'Times New Roman',Times,STIXGeneral,serif; white-space: nowrap; border-collapse: collapse}
.MJXp-display {display: block; text-align: center; margin: 1em 0}
.MJXp-math span {display: inline-block}
.MJXp-box {display: block!important; text-align: center}
.MJXp-box:after {content: " "}
.MJXp-rule {display: block!important; margin-top: .1em}
.MJXp-char {display: block!important}
.MJXp-mo {margin: 0 .15em}
.MJXp-mfrac {margin: 0 .125em; vertical-align: .25em}
.MJXp-denom {display: inline-table!important; width: 100%}
.MJXp-denom > * {display: table-row!important}
.MJXp-surd {vertical-align: top}
.MJXp-surd > * {display: block!important}
.MJXp-script-box > *  {display: table!important; height: 50%}
.MJXp-script-box > * > * {display: table-cell!important; vertical-align: top}
.MJXp-script-box > *:last-child > * {vertical-align: bottom}
.MJXp-script-box > * > * > * {display: block!important}
.MJXp-mphantom {visibility: hidden}
.MJXp-munderover, .MJXp-munder {display: inline-table!important}
.MJXp-over {display: inline-block!important; text-align: center}
.MJXp-over > * {display: block!important}
.MJXp-munderover > *, .MJXp-munder > * {display: table-row!important}
.MJXp-mtable {vertical-align: .25em; margin: 0 .125em}
.MJXp-mtable > * {display: inline-table!important; vertical-align: middle}
.MJXp-mtr {display: table-row!important}
.MJXp-mtd {display: table-cell!important; text-align: center; padding: .5em 0 0 .5em}
.MJXp-mtr > .MJXp-mtd:first-child {padding-left: 0}
.MJXp-mtr:first-child > .MJXp-mtd {padding-top: 0}
.MJXp-mlabeledtr {display: table-row!important}
.MJXp-mlabeledtr > .MJXp-mtd:first-child {padding-left: 0}
.MJXp-mlabeledtr:first-child > .MJXp-mtd {padding-top: 0}
.MJXp-merror {background-color: #FFFF88; color: #CC0000; border: 1px solid #CC0000; padding: 1px 3px; font-style: normal; font-size: 90%}
.MJXp-scale0 {-webkit-transform: scaleX(.0); -moz-transform: scaleX(.0); -ms-transform: scaleX(.0); -o-transform: scaleX(.0); transform: scaleX(.0)}
.MJXp-scale1 {-webkit-transform: scaleX(.1); -moz-transform: scaleX(.1); -ms-transform: scaleX(.1); -o-transform: scaleX(.1); transform: scaleX(.1)}
.MJXp-scale2 {-webkit-transform: scaleX(.2); -moz-transform: scaleX(.2); -ms-transform: scaleX(.2); -o-transform: scaleX(.2); transform: scaleX(.2)}
.MJXp-scale3 {-webkit-transform: scaleX(.3); -moz-transform: scaleX(.3); -ms-transform: scaleX(.3); -o-transform: scaleX(.3); transform: scaleX(.3)}
.MJXp-scale4 {-webkit-transform: scaleX(.4); -moz-transform: scaleX(.4); -ms-transform: scaleX(.4); -o-transform: scaleX(.4); transform: scaleX(.4)}
.MJXp-scale5 {-webkit-transform: scaleX(.5); -moz-transform: scaleX(.5); -ms-transform: scaleX(.5); -o-transform: scaleX(.5); transform: scaleX(.5)}
.MJXp-scale6 {-webkit-transform: scaleX(.6); -moz-transform: scaleX(.6); -ms-transform: scaleX(.6); -o-transform: scaleX(.6); transform: scaleX(.6)}
.MJXp-scale7 {-webkit-transform: scaleX(.7); -moz-transform: scaleX(.7); -ms-transform: scaleX(.7); -o-transform: scaleX(.7); transform: scaleX(.7)}
.MJXp-scale8 {-webkit-transform: scaleX(.8); -moz-transform: scaleX(.8); -ms-transform: scaleX(.8); -o-transform: scaleX(.8); transform: scaleX(.8)}
.MJXp-scale9 {-webkit-transform: scaleX(.9); -moz-transform: scaleX(.9); -ms-transform: scaleX(.9); -o-transform: scaleX(.9); transform: scaleX(.9)}
.MathJax_PHTML .noError {vertical-align: ; font-size: 90%; text-align: left; color: black; padding: 1px 3px; border: 1px solid}
</style><script type="text/javascript" charset="utf-8" async="" data-requirecontext="_" data-requiremodule="nbextensions/widgets/notebook/js/extension" src="./LSTM_API _files/extension.js"></script><style type="text/css">.MathJax_Display {text-align: center; margin: 0; position: relative; display: block!important; text-indent: 0; max-width: none; max-height: none; min-width: 0; min-height: 0; width: 100%}
.MathJax .merror {background-color: #FFFF88; color: #CC0000; border: 1px solid #CC0000; padding: 1px 3px; font-style: normal; font-size: 90%}
.MathJax .MJX-monospace {font-family: monospace}
.MathJax .MJX-sans-serif {font-family: sans-serif}
#MathJax_Tooltip {background-color: InfoBackground; color: InfoText; border: 1px solid black; box-shadow: 2px 2px 5px #AAAAAA; -webkit-box-shadow: 2px 2px 5px #AAAAAA; -moz-box-shadow: 2px 2px 5px #AAAAAA; -khtml-box-shadow: 2px 2px 5px #AAAAAA; filter: progid:DXImageTransform.Microsoft.dropshadow(OffX=2, OffY=2, Color='gray', Positive='true'); padding: 3px 4px; z-index: 401; position: absolute; left: 0; top: 0; width: auto; height: auto; display: none}
.MathJax {display: inline; font-style: normal; font-weight: normal; line-height: normal; font-size: 100%; font-size-adjust: none; text-indent: 0; text-align: left; text-transform: none; letter-spacing: normal; word-spacing: normal; word-wrap: normal; white-space: nowrap; float: none; direction: ltr; max-width: none; max-height: none; min-width: 0; min-height: 0; border: 0; padding: 0; margin: 0}
.MathJax:focus, body :focus .MathJax {display: inline-table}
.MathJax.MathJax_FullWidth {text-align: center; display: table-cell!important; width: 10000em!important}
.MathJax img, .MathJax nobr, .MathJax a {border: 0; padding: 0; margin: 0; max-width: none; max-height: none; min-width: 0; min-height: 0; vertical-align: 0; line-height: normal; text-decoration: none}
img.MathJax_strut {border: 0!important; padding: 0!important; margin: 0!important; vertical-align: 0!important}
.MathJax span {display: inline; position: static; border: 0; padding: 0; margin: 0; vertical-align: 0; line-height: normal; text-decoration: none; box-sizing: content-box}
.MathJax nobr {white-space: nowrap!important}
.MathJax img {display: inline!important; float: none!important}
.MathJax * {transition: none; -webkit-transition: none; -moz-transition: none; -ms-transition: none; -o-transition: none}
.MathJax_Processing {visibility: hidden; position: fixed; width: 0; height: 0; overflow: hidden}
.MathJax_Processed {display: none!important}
.MathJax_test {font-style: normal; font-weight: normal; font-size: 100%; font-size-adjust: none; text-indent: 0; text-transform: none; letter-spacing: normal; word-spacing: normal; overflow: hidden; height: 1px}
.MathJax_test.mjx-test-display {display: table!important}
.MathJax_test.mjx-test-inline {display: inline!important; margin-right: -1px}
.MathJax_test.mjx-test-default {display: block!important; clear: both}
.MathJax_ex_box {display: inline-block!important; position: absolute; overflow: hidden; min-height: 0; max-height: none; padding: 0; border: 0; margin: 0; width: 1px; height: 60ex}
.MathJax_em_box {display: inline-block!important; position: absolute; overflow: hidden; min-height: 0; max-height: none; padding: 0; border: 0; margin: 0; width: 1px; height: 60em}
.mjx-test-inline .MathJax_left_box {display: inline-block; width: 0; float: left}
.mjx-test-inline .MathJax_right_box {display: inline-block; width: 0; float: right}
.mjx-test-display .MathJax_right_box {display: table-cell!important; width: 10000em!important; min-width: 0; max-width: none; padding: 0; border: 0; margin: 0}
.MathJax .MathJax_HitBox {cursor: text; background: white; opacity: 0; filter: alpha(opacity=0)}
.MathJax .MathJax_HitBox * {filter: none; opacity: 1; background: transparent}
#MathJax_Tooltip * {filter: none; opacity: 1; background: transparent}
@font-face {font-family: MathJax_Blank; src: url('about:blank')}
.MathJax .noError {vertical-align: ; font-size: 90%; text-align: left; color: black; padding: 1px 3px; border: 1px solid}
</style><link id="favicon" type="image/x-icon" rel="shortcut icon" href="http://localhost:8888/static/base/images/favicon-notebook.ico"></head>

<body class="notebook_app command_mode modal-open" data-jupyter-api-token="d5611653a1e60a97930f5d6e2a3a0f766e3b67dee4f466a0" data-base-url="/" data-ws-url="" data-notebook-name="Untitled3.ipynb" data-notebook-path="Untitled3.ipynb" dir="ltr"><div style="visibility: hidden; overflow: hidden; position: absolute; top: 0px; height: 1px; width: auto; padding: 0px; border: 0px; margin: 0px; text-align: left; text-indent: 0px; text-transform: none; line-height: normal; letter-spacing: normal; word-spacing: normal;"><div id="MathJax_Hidden"></div></div><div id="MathJax_Message" style="display: none;"></div>

<noscript>
    <div id='noscript'>
      Jupyter Notebook requires JavaScript.<br>
      Please enable it to proceed. 
  </div>
</noscript>

<div id="header" role="navigation" aria-label="Top Menu" style="display: block;">
  <div id="header-container" class="container">
  <div id="ipython_notebook" class="nav navbar-brand"><a href="http://localhost:8888/tree?token=d5611653a1e60a97930f5d6e2a3a0f766e3b67dee4f466a0" title="dashboard">
      <img src="./LSTM_API _files/logo.png" alt="Jupyter Notebook">
  </a></div>

  


<span id="save_widget" class="save_widget">
    <span id="notebook_name" class="filename">LSTM_API</span>
    <span class="checkpoint_status" title="Tue, Sep 15, 2020 10:28 AM">Last Checkpoint: an hour ago</span>
    <span class="autosave_status">(autosaved)</span>
</span>


  

<span id="kernel_logo_widget">
  
  <img class="current_kernel_logo" alt="Current Kernel Logo" src="./LSTM_API _files/logo-64x64.png" title="Python 3" style="display: inline;">
  
</span>


  
  
  
  

    <span id="login_widget">
      
        <button id="logout" class="btn btn-sm navbar-btn">Logout</button>
      
    </span>

  

  
  
  </div>
  <div class="header-bar"></div>

  
<div id="menubar-container" class="container">
<div id="menubar">
    <div id="menus" class="navbar navbar-default" role="navigation">
        <div class="container-fluid">
            <button type="button" class="btn btn-default navbar-btn navbar-toggle" data-toggle="collapse" data-target=".navbar-collapse">
              <i class="fa fa-bars"></i>
              <span class="navbar-text">Menu</span>
            </button>
            <p id="kernel_indicator" class="navbar-text indicator_area">
              <span class="kernel_indicator_name">Python 3</span>
              <i id="kernel_indicator_icon" class="kernel_idle_icon" title="Kernel Idle"></i>
            </p>
            <i id="readonly-indicator" class="navbar-text" title="This notebook is read-only" style="display: none;">
                <span class="fa-stack">
                    <i class="fa fa-save fa-stack-1x"></i>
                    <i class="fa fa-ban fa-stack-2x text-danger"></i>
                </span>
            </i>
            <i id="modal_indicator" class="navbar-text modal_indicator" title="Command Mode"></i>
            <span id="notification_area"><div id="notification_kernel" class="notification_widget btn btn-xs navbar-btn undefined info" style="display: none;"><span></span></div><div id="notification_notebook" class="notification_widget btn btn-xs navbar-btn" style="display: none;"><span></span></div><div id="notification_trusted" class="notification_widget btn btn-xs navbar-btn" style="cursor: help;" disabled="disabled"><span title="Javascript enabled for notebook display">Trusted</span></div></span>
            <div class="navbar-collapse collapse">
              <ul class="nav navbar-nav">
                <li class="dropdown"><a href="http://localhost:8888/notebooks/LSTM_API.ipynb#" id="filelink" aria-haspopup="true" aria-controls="file_menu class=" dropdown-toggle"="" data-toggle="dropdown" aria-expanded="false">File</a>
                    <ul id="file_menu" class="dropdown-menu" role="menu" aria-labelledby="filelink">
                        <li id="new_notebook" class="dropdown-submenu" role="none">
                            <a href="http://localhost:8888/notebooks/LSTM_API.ipynb#" role="menuitem">New Notebook<span class="sr-only">Toggle Dropdown</span></a>
                            <ul class="dropdown-menu" id="menu-new-notebook-submenu"><li id="new-notebook-submenu-python3"><a href="http://localhost:8888/notebooks/LSTM_API.ipynb#">Python 3</a></li></ul>
                        </li>
                        <li id="open_notebook" role="none" title="Opens a new window with the Dashboard view">
                            <a href="http://localhost:8888/notebooks/LSTM_API.ipynb#" role="menuitem">Open...</a></li>
                        <!-- <hr/> -->
                        <li class="divider" role="none"></li>
                        <li id="copy_notebook" role="none" title="Open a copy of this notebook&#39;s contents and start a new kernel">
                            <a href="http://localhost:8888/notebooks/LSTM_API.ipynb#" role="menuitem">Make a Copy...</a></li>
                        <li id="save_notebook_as" role="none" title="Save a copy of the notebook&#39;s contents and start a new kernel">
                            <a href="http://localhost:8888/notebooks/LSTM_API.ipynb#" role="menuitem">Save as...</a></li>
                        <li id="rename_notebook" role="none"><a href="http://localhost:8888/notebooks/LSTM_API.ipynb#" role="menuitem">Rename...</a></li>
                        <li id="save_checkpoint" role="none"><a href="http://localhost:8888/notebooks/LSTM_API.ipynb#" role="menuitem">Save and Checkpoint</a></li>
                        <!-- <hr/> -->
                        <li class="divider" role="none"></li>
                        <li id="restore_checkpoint" class="dropdown-submenu" role="none"><a href="http://localhost:8888/notebooks/LSTM_API.ipynb#" role="menuitem">Revert to Checkpoint<span class="sr-only">Toggle Dropdown</span></a>
                          <ul class="dropdown-menu"><li><a href="http://localhost:8888/notebooks/LSTM_API.ipynb#">Tuesday, September 15, 2020 10:28 AM</a></li></ul>
                        </li>
                        <li class="divider" role="none"></li>
                        <li id="print_preview" role="none"><a href="http://localhost:8888/notebooks/LSTM_API.ipynb#" role="menuitem">Print Preview</a></li>
                        <li class="dropdown-submenu" role="none"><a href="http://localhost:8888/notebooks/LSTM_API.ipynb#" role="menuitem">Download as<span class="sr-only">Toggle Dropdown</span></a>
                            <ul id="download_menu" class="dropdown-menu">
                                
                                <li id="download_asciidoc">
                                    <a href="http://localhost:8888/notebooks/LSTM_API.ipynb#">AsciiDoc (.asciidoc)</a>
                                </li>
                                
                                <li id="download_html">
                                    <a href="http://localhost:8888/notebooks/LSTM_API.ipynb#">HTML (.html)</a>
                                </li>
                                
                                <li id="download_latex">
                                    <a href="http://localhost:8888/notebooks/LSTM_API.ipynb#">LaTeX (.tex)</a>
                                </li>
                                
                                <li id="download_markdown">
                                    <a href="http://localhost:8888/notebooks/LSTM_API.ipynb#">Markdown (.md)</a>
                                </li>
                                
                                <li id="download_notebook">
                                    <a href="http://localhost:8888/notebooks/LSTM_API.ipynb#">Notebook (.ipynb)</a>
                                </li>
                                
                                <li id="download_pdf">
                                    <a href="http://localhost:8888/notebooks/LSTM_API.ipynb#">PDF via LaTeX (.pdf)</a>
                                </li>
                                
                                <li id="download_rst">
                                    <a href="http://localhost:8888/notebooks/LSTM_API.ipynb#">reST (.rst)</a>
                                </li>
                                
                                <li id="download_script">
                                    <a href="http://localhost:8888/notebooks/LSTM_API.ipynb#">Python (.py)</a>
                                </li>
                                
                                <li id="download_slides">
                                    <a href="http://localhost:8888/notebooks/LSTM_API.ipynb#">Reveal.js slides (.slides.html)</a>
                                </li>
                                
                            </ul>
                        </li>
                        <li class="dropdown-submenu hidden" role="none"><a href="http://localhost:8888/notebooks/LSTM_API.ipynb#" role="menuitem">Deploy as</a>
                            <ul id="deploy_menu" class="dropdown-menu"></ul>
                        </li>
                        <li class="divider" role="none"></li>
                        <li id="trust_notebook" role="none" title="Trust the output of this notebook" class="disabled">
                            <a href="http://localhost:8888/notebooks/LSTM_API.ipynb#" role="menuitem">Trusted Notebook</a></li>
                        <li class="divider" role="none"></li>
                        <li id="close_and_halt" role="none" title="Shutdown this notebook&#39;s kernel, and close this window">
                            <a href="http://localhost:8888/notebooks/LSTM_API.ipynb#" role="menuitem">Close and Halt</a></li>
                    </ul>
                </li>

                <li class="dropdown"><a href="http://localhost:8888/notebooks/LSTM_API.ipynb#" class="dropdown-toggle" id="editlink" data-toggle="dropdown" aria-haspopup="true" aria-controls="edit_menu">Edit</a>
                    <ul id="edit_menu" class="dropdown-menu" role="menu" aria-labelledby="editlink">
                        <li id="cut_cell" role="none"><a href="http://localhost:8888/notebooks/LSTM_API.ipynb#" role="menuitem">Cut Cells</a></li>
                        <li id="copy_cell" role="none"><a href="http://localhost:8888/notebooks/LSTM_API.ipynb#" role="menuitem">Copy Cells</a></li>
                        <li id="paste_cell_above" class="disabled" role="none"><a href="http://localhost:8888/notebooks/LSTM_API.ipynb#" role="menuitem" aria-disabled="true">Paste Cells Above</a></li>
                        <li id="paste_cell_below" class="disabled" role="none"><a href="http://localhost:8888/notebooks/LSTM_API.ipynb#" role="menuitem" aria-disabled="true">Paste Cells Below</a></li>
                        <li id="paste_cell_replace" class="disabled" role="none"><a href="http://localhost:8888/notebooks/LSTM_API.ipynb#" role="menuitem" aria-disabled="true">Paste Cells &amp; Replace</a></li>
                        <li id="delete_cell" role="none"><a href="http://localhost:8888/notebooks/LSTM_API.ipynb#" role="menuitem">Delete Cells</a></li>
                        <li id="undelete_cell" class="disabled" role="none"><a href="http://localhost:8888/notebooks/LSTM_API.ipynb#" role="menuitem" aria-disabled="true">Undo Delete Cells</a></li>
                        <li class="divider" role="none"></li>
                        <li id="split_cell" role="none"><a href="http://localhost:8888/notebooks/LSTM_API.ipynb#" role="menuitem">Split Cell</a></li>
                        <li id="merge_cell_above" role="none"><a href="http://localhost:8888/notebooks/LSTM_API.ipynb#" role="menuitem">Merge Cell Above</a></li>
                        <li id="merge_cell_below" role="none"><a href="http://localhost:8888/notebooks/LSTM_API.ipynb#" role="menuitem">Merge Cell Below</a></li>
                        <li class="divider" role="none"></li>
                        <li id="move_cell_up" role="none"><a href="http://localhost:8888/notebooks/LSTM_API.ipynb#" role="menuitem">Move Cell Up</a></li>
                        <li id="move_cell_down" role="none"><a href="http://localhost:8888/notebooks/LSTM_API.ipynb#" role="menuitem">Move Cell Down</a></li>
                        <li class="divider" role="none"></li>
                        <li id="edit_nb_metadata" role="none"><a href="http://localhost:8888/notebooks/LSTM_API.ipynb#" role="menuitem">Edit Notebook Metadata</a></li>
                        <li class="divider" role="none"></li>
                        <li id="find_and_replace" role="none"><a href="http://localhost:8888/notebooks/LSTM_API.ipynb#" role="menuitem"> Find and Replace </a></li>
                        <li class="divider" role="none"></li>
                        <li id="cut_cell_attachments" role="none"><a href="http://localhost:8888/notebooks/LSTM_API.ipynb#" role="menuitem">Cut Cell Attachments</a></li>
                        <li id="copy_cell_attachments" role="none"><a href="http://localhost:8888/notebooks/LSTM_API.ipynb#" role="menuitem">Copy Cell Attachments</a></li>
                        <li id="paste_cell_attachments" class="disabled" role="none"><a href="http://localhost:8888/notebooks/LSTM_API.ipynb#" role="menuitem" aria-disabled="true">Paste Cell Attachments</a></li>
                        <li class="divider" role="none"></li>
                        <li id="insert_image" class="disabled" role="none"><a href="http://localhost:8888/notebooks/LSTM_API.ipynb#" role="menuitem" aria-disabled="true">  Insert Image </a></li>
                    </ul>
                </li>
                <li class="dropdown"><a href="http://localhost:8888/notebooks/LSTM_API.ipynb#" class="dropdown-toggle" id="viewlink" data-toggle="dropdown" aria-haspopup="true" aria-controls="view_menu">View</a>
                    <ul id="view_menu" class="dropdown-menu" role="menu" aria-labelledby="viewlink">
                        <li id="toggle_header" role="none" title="Show/Hide the logo and notebook title (above menu bar)">
                            <a href="http://localhost:8888/notebooks/LSTM_API.ipynb#" role="menuitem">Toggle Header</a>
                        </li>
                        <li id="toggle_toolbar" role="none" title="Show/Hide the action icons (below menu bar)">
                            <a href="http://localhost:8888/notebooks/LSTM_API.ipynb#" role="menuitem">Toggle Toolbar</a>
                        </li>
                        <li id="toggle_line_numbers" role="none" title="Show/Hide line numbers in cells">
                            <a href="http://localhost:8888/notebooks/LSTM_API.ipynb#" role="menuitem">Toggle Line Numbers</a>
                        </li>
                        <li id="menu-cell-toolbar" class="dropdown-submenu" role="none">
                            <a href="http://localhost:8888/notebooks/LSTM_API.ipynb#" role="menuitem">Cell Toolbar</a>
                            <ul class="dropdown-menu" id="menu-cell-toolbar-submenu"><li data-name="None"><a href="http://localhost:8888/notebooks/LSTM_API.ipynb#">None</a></li><li data-name="Edit%20Metadata"><a href="http://localhost:8888/notebooks/LSTM_API.ipynb#">Edit Metadata</a></li><li data-name="Raw%20Cell%20Format"><a href="http://localhost:8888/notebooks/LSTM_API.ipynb#">Raw Cell Format</a></li><li data-name="Slideshow"><a href="http://localhost:8888/notebooks/LSTM_API.ipynb#">Slideshow</a></li><li data-name="Attachments"><a href="http://localhost:8888/notebooks/LSTM_API.ipynb#">Attachments</a></li><li data-name="Tags"><a href="http://localhost:8888/notebooks/LSTM_API.ipynb#">Tags</a></li></ul>
                        </li>
                    </ul>
                </li>
                <li class="dropdown"><a href="http://localhost:8888/notebooks/LSTM_API.ipynb#" class="dropdown-toggle" id="insertlink" data-toggle="dropdown" aria-haspopup="true" aria-controls="insert_menu">Insert</a>
                    <ul id="insert_menu" class="dropdown-menu" role="menu" aria-labelledby="insertlink">
                        <li id="insert_cell_above" role="none" title="Insert an empty Code cell above the currently active cell">
                            <a href="http://localhost:8888/notebooks/LSTM_API.ipynb#" role="menuitem">Insert Cell Above</a></li>
                        <li id="insert_cell_below" role="none" title="Insert an empty Code cell below the currently active cell">
                            <a href="http://localhost:8888/notebooks/LSTM_API.ipynb#" role="menuitem">Insert Cell Below</a></li>
                    </ul>
                </li>
                <li class="dropdown"><a href="http://localhost:8888/notebooks/LSTM_API.ipynb#" class="dropdown-toggle" data-toggle="dropdown">Cell</a>
                    <ul id="cell_menu" class="dropdown-menu">
                        <li id="run_cell" title="Run this cell, and move cursor to the next one">
                            <a href="http://localhost:8888/notebooks/LSTM_API.ipynb#">Run Cells</a></li>
                        <li id="run_cell_select_below" title="Run this cell, select below">
                            <a href="http://localhost:8888/notebooks/LSTM_API.ipynb#">Run Cells and Select Below</a></li>
                        <li id="run_cell_insert_below" title="Run this cell, insert below">
                            <a href="http://localhost:8888/notebooks/LSTM_API.ipynb#">Run Cells and Insert Below</a></li>
                        <li id="run_all_cells" title="Run all cells in the notebook">
                            <a href="http://localhost:8888/notebooks/LSTM_API.ipynb#">Run All</a></li>
                        <li id="run_all_cells_above" title="Run all cells above (but not including) this cell">
                            <a href="http://localhost:8888/notebooks/LSTM_API.ipynb#">Run All Above</a></li>
                        <li id="run_all_cells_below" title="Run this cell and all cells below it">
                            <a href="http://localhost:8888/notebooks/LSTM_API.ipynb#">Run All Below</a></li>
                        <li class="divider"></li>
                        <li id="change_cell_type" class="dropdown-submenu" title="All cells in the notebook have a cell type. By default, new cells are created as &#39;Code&#39; cells">
                            <a href="http://localhost:8888/notebooks/LSTM_API.ipynb#">Cell Type</a>
                            <ul class="dropdown-menu">
                              <li id="to_code" title="Contents will be sent to the kernel for execution, and output will display in the footer of cell">
                                  <a href="http://localhost:8888/notebooks/LSTM_API.ipynb#">Code</a></li>
                              <li id="to_markdown" title="Contents will be rendered as HTML and serve as explanatory text">
                                  <a href="http://localhost:8888/notebooks/LSTM_API.ipynb#">Markdown</a></li>
                              <li id="to_raw" title="Contents will pass through nbconvert unmodified">
                                  <a href="http://localhost:8888/notebooks/LSTM_API.ipynb#">Raw NBConvert</a></li>
                            </ul>
                        </li>
                        <li class="divider"></li>
                        <li id="current_outputs" class="dropdown-submenu"><a href="http://localhost:8888/notebooks/LSTM_API.ipynb#">Current Outputs</a>
                            <ul class="dropdown-menu">
                                <li id="toggle_current_output" title="Hide/Show the output of the current cell">
                                    <a href="http://localhost:8888/notebooks/LSTM_API.ipynb#">Toggle</a>
                                </li>
                                <li id="toggle_current_output_scroll" title="Scroll the output of the current cell">
                                    <a href="http://localhost:8888/notebooks/LSTM_API.ipynb#">Toggle Scrolling</a>
                                </li>
                                <li id="clear_current_output" title="Clear the output of the current cell">
                                    <a href="http://localhost:8888/notebooks/LSTM_API.ipynb#">Clear</a>
                                </li>
                            </ul>
                        </li>
                        <li id="all_outputs" class="dropdown-submenu"><a href="http://localhost:8888/notebooks/LSTM_API.ipynb#">All Output</a>
                            <ul class="dropdown-menu">
                                <li id="toggle_all_output" title="Hide/Show the output of all cells">
                                    <a href="http://localhost:8888/notebooks/LSTM_API.ipynb#">Toggle</a>
                                </li>
                                <li id="toggle_all_output_scroll" title="Scroll the output of all cells">
                                    <a href="http://localhost:8888/notebooks/LSTM_API.ipynb#">Toggle Scrolling</a>
                                </li>
                                <li id="clear_all_output" title="Clear the output of all cells">
                                    <a href="http://localhost:8888/notebooks/LSTM_API.ipynb#">Clear</a>
                                </li>
                            </ul>
                        </li>
                    </ul>
                </li>
                <li class="dropdown"><a href="http://localhost:8888/notebooks/LSTM_API.ipynb#" class="dropdown-toggle" data-toggle="dropdown" id="kernellink">Kernel</a>
                    <ul id="kernel_menu" class="dropdown-menu" aria-labelledby="kernellink">
                        <li id="int_kernel" title="Send Keyboard Interrupt (CTRL-C) to the Kernel">
                            <a href="http://localhost:8888/notebooks/LSTM_API.ipynb#">Interrupt</a>
                        </li>
                        <li id="restart_kernel" title="Restart the Kernel">
                            <a href="http://localhost:8888/notebooks/LSTM_API.ipynb#">Restart</a>
                        </li>
                        <li id="restart_clear_output" title="Restart the Kernel and clear all output">
                            <a href="http://localhost:8888/notebooks/LSTM_API.ipynb#">Restart &amp; Clear Output</a>
                        </li>
                        <li id="restart_run_all" title="Restart the Kernel and re-run the notebook">
                            <a href="http://localhost:8888/notebooks/LSTM_API.ipynb#">Restart &amp; Run All</a>
                        </li>
                        <li id="reconnect_kernel" title="Reconnect to the Kernel">
                            <a href="http://localhost:8888/notebooks/LSTM_API.ipynb#">Reconnect</a>
                        </li>
                        <li id="shutdown_kernel" title="Shutdown the Kernel">
                            <a href="http://localhost:8888/notebooks/LSTM_API.ipynb#">Shutdown</a>
                        </li>
                        <li class="divider"></li>
                        <li id="menu-change-kernel" class="dropdown-submenu">
                            <a href="http://localhost:8888/notebooks/LSTM_API.ipynb#">Change kernel</a>
                            <ul class="dropdown-menu" id="menu-change-kernel-submenu"><li id="kernel-submenu-python3"><a href="http://localhost:8888/notebooks/LSTM_API.ipynb#">Python 3</a></li></ul>
                        </li>
                    </ul>
                </li>
                <li class="dropdown"><a href="http://localhost:8888/notebooks/LSTM_API.ipynb#" class="dropdown-toggle" data-toggle="dropdown">Help</a>
                    <ul id="help_menu" class="dropdown-menu">
                        
                        <li id="notebook_tour" title="A quick tour of the notebook user interface"><a href="http://localhost:8888/notebooks/LSTM_API.ipynb#">User Interface Tour</a></li>
                        <li id="keyboard_shortcuts" title="Opens a tooltip with all keyboard shortcuts"><a href="http://localhost:8888/notebooks/LSTM_API.ipynb#">Keyboard Shortcuts</a></li>
                        <li id="edit_keyboard_shortcuts" title="Opens a dialog allowing you to edit Keyboard shortcuts"><a href="http://localhost:8888/notebooks/LSTM_API.ipynb#">Edit Keyboard Shortcuts</a></li>
                        <li class="divider"></li>
                        

						
                        
                            
                                <li><a rel="noreferrer" href="http://nbviewer.jupyter.org/github/ipython/ipython/blob/3.x/examples/Notebook/Index.ipynb" target="_blank" title="Opens in a new window">
                                
                                    <i class="fa fa-external-link menu-icon pull-right"></i>
                                

                                Notebook Help
                                </a></li>
                            
                                <li><a rel="noreferrer" href="https://help.github.com/articles/markdown-basics/" target="_blank" title="Opens in a new window">
                                
                                    <i class="fa fa-external-link menu-icon pull-right"></i>
                                

                                Markdown
                                </a></li>
                            
                            
                        
                        <li id="kernel-help-links" class="divider"></li><li><a target="_blank" title="Opens in a new window" href="https://docs.python.org/3.8?v=20200914132135"><i class="fa fa-external-link menu-icon pull-right"></i><span>Python Reference</span></a></li><li><a target="_blank" title="Opens in a new window" href="https://ipython.org/documentation.html?v=20200914132135"><i class="fa fa-external-link menu-icon pull-right"></i><span>IPython Reference</span></a></li><li><a target="_blank" title="Opens in a new window" href="https://docs.scipy.org/doc/numpy/reference/?v=20200914132135"><i class="fa fa-external-link menu-icon pull-right"></i><span>NumPy Reference</span></a></li><li><a target="_blank" title="Opens in a new window" href="https://docs.scipy.org/doc/scipy/reference/?v=20200914132135"><i class="fa fa-external-link menu-icon pull-right"></i><span>SciPy Reference</span></a></li><li><a target="_blank" title="Opens in a new window" href="https://matplotlib.org/contents.html?v=20200914132135"><i class="fa fa-external-link menu-icon pull-right"></i><span>Matplotlib Reference</span></a></li><li><a target="_blank" title="Opens in a new window" href="http://docs.sympy.org/latest/index.html?v=20200914132135"><i class="fa fa-external-link menu-icon pull-right"></i><span>SymPy Reference</span></a></li><li><a target="_blank" title="Opens in a new window" href="https://pandas.pydata.org/pandas-docs/stable/?v=20200914132135"><i class="fa fa-external-link menu-icon pull-right"></i><span>pandas Reference</span></a></li><li class="divider"></li>
                        <li title="About Jupyter Notebook"><a id="notebook_about" href="http://localhost:8888/notebooks/LSTM_API.ipynb#">About</a></li>
                        
                    </ul>
                </li>
              </ul>
            </div>
        </div>
    </div>
</div>

<div id="maintoolbar" class="navbar">
  <div class="toolbar-inner navbar-inner navbar-nobg">
    <div id="maintoolbar-container" class="container toolbar"><div class="btn-group" id="save-notbook"><button class="btn btn-default" title="Save and Checkpoint" data-jupyter-action="jupyter-notebook:save-notebook"><i class="fa-save fa"></i></button></div><div class="btn-group" id="insert_above_below"><button class="btn btn-default" title="insert cell below" data-jupyter-action="jupyter-notebook:insert-cell-below"><i class="fa-plus fa"></i></button></div><div class="btn-group" id="cut_copy_paste"><button class="btn btn-default" title="cut selected cells" data-jupyter-action="jupyter-notebook:cut-cell"><i class="fa-cut fa"></i></button><button class="btn btn-default" title="copy selected cells" data-jupyter-action="jupyter-notebook:copy-cell"><i class="fa-copy fa"></i></button><button class="btn btn-default" title="paste cells below" data-jupyter-action="jupyter-notebook:paste-cell-below"><i class="fa-paste fa"></i></button></div><div class="btn-group" id="move_up_down"><button class="btn btn-default" title="move selected cells up" data-jupyter-action="jupyter-notebook:move-cell-up"><i class="fa-arrow-up fa"></i></button><button class="btn btn-default" title="move selected cells down" data-jupyter-action="jupyter-notebook:move-cell-down"><i class="fa-arrow-down fa"></i></button></div><div class="btn-group" id="run_int"><button class="btn btn-default" title="Run" data-jupyter-action="jupyter-notebook:run-cell-and-select-next"><i class="fa-step-forward fa"></i><span class="toolbar-btn-label">Run</span></button><button class="btn btn-default" title="interrupt the kernel" data-jupyter-action="jupyter-notebook:interrupt-kernel"><i class="fa-stop fa"></i></button><button class="btn btn-default" title="restart the kernel (with dialog)" data-jupyter-action="jupyter-notebook:confirm-restart-kernel"><i class="fa-repeat fa"></i></button><button class="btn btn-default" title="restart the kernel, then re-run the whole notebook (with dialog)" data-jupyter-action="jupyter-notebook:confirm-restart-kernel-and-run-all-cells"><i class="fa-forward fa"></i></button></div><select id="cell_type" aria-label="combobox, select cell type" role="combobox" class="form-control select-xs"><option value="code">Code</option><option value="markdown">Markdown</option><option value="raw">Raw NBConvert</option><option value="heading">Heading</option><option value="multiselect" disabled="disabled" style="display: none;">-</option></select><div class="btn-group" id="cmd_palette"><button class="btn btn-default" title="open the command palette" data-jupyter-action="jupyter-notebook:show-command-palette"><i class="fa-keyboard-o fa"></i></button></div></div>
  </div>
</div>
</div>

<div class="lower-header-bar"></div>

</div>

<div id="site" style="display: block; height: 787px;">


<div id="ipython-main-app">
    <div id="notebook_panel">
        <div id="notebook" tabindex="-1"><div class="container" id="notebook-container"><div class="cell code_cell rendered unselected" tabindex="2"><div class="input"><div class="prompt_container"><div class="prompt input_prompt"><bdi>In</bdi>&nbsp;[4]:</div><div class="run_this_cell" title="Run this cell"><i class="fa-step-forward fa"></i></div></div><div class="inner_cell"><div class="ctb_hideshow"><div class="celltoolbar"></div></div><div class="input_area" aria-label="Edit code here"><div class="CodeMirror cm-s-ipython"><div style="overflow: hidden; position: relative; width: 3px; height: 0px; top: 22.5938px; left: 391.75px;"><textarea autocorrect="off" autocapitalize="off" spellcheck="false" tabindex="0" style="position: absolute; bottom: -1em; padding: 0px; width: 1000px; height: 1em; outline: none;"></textarea></div><div class="CodeMirror-vscrollbar" tabindex="-1" cm-not-content="true"><div style="min-width: 1px; height: 0px;"></div></div><div class="CodeMirror-hscrollbar" tabindex="-1" cm-not-content="true"><div style="height: 100%; min-height: 1px; width: 0px;"></div></div><div class="CodeMirror-scrollbar-filler" cm-not-content="true"></div><div class="CodeMirror-gutter-filler" cm-not-content="true"></div><div class="CodeMirror-scroll" tabindex="-1"><div class="CodeMirror-sizer" style="margin-left: 0px; min-width: 394.75px; margin-bottom: -15px; border-right-width: 15px; min-height: 45px; padding-right: 0px; padding-bottom: 0px;"><div style="position: relative; top: 0px;"><div class="CodeMirror-lines" role="presentation"><div role="presentation" style="position: relative; outline: none;"><div class="CodeMirror-measure"></div><div class="CodeMirror-measure"></div><div style="position: relative; z-index: 1;"></div><div class="CodeMirror-cursors" style="visibility: hidden;"><div class="CodeMirror-cursor" style="left: 391.75px; top: 17px; height: 17px;">&nbsp;</div></div><div class="CodeMirror-code" role="presentation"><pre class=" CodeMirror-line " role="presentation"><span role="presentation" style="padding-right: 0.1px;"><span class="cm-keyword">import</span> <span class="cm-variable">pandas_datareader</span> <span class="cm-keyword">as</span> <span class="cm-variable">pdr</span></span></pre><pre class=" CodeMirror-line " role="presentation"><span role="presentation" style="padding-right: 0.1px;"><span class="cm-variable">key</span><span class="cm-operator">=</span><span class="cm-string">"e4551cbff1d29666d6fd3e47a901c540da4078da"</span></span></pre></div></div></div></div></div><div style="position: absolute; height: 15px; width: 1px; border-bottom: 0px solid transparent; top: 45px;"></div><div class="CodeMirror-gutters" style="display: none; height: 60px;"></div></div></div></div></div></div><div class="output_wrapper"><div class="out_prompt_overlay prompt" title="click to scroll output; double click to hide"></div><div class="output"></div><div class="btn btn-default output_collapsed" title="click to expand output" style="display: none;">. . .</div></div></div><div class="cell code_cell rendered unselected" tabindex="2"><div class="input"><div class="prompt_container"><div class="prompt input_prompt"><bdi>In</bdi>&nbsp;[5]:</div><div class="run_this_cell" title="Run this cell"><i class="fa-step-forward fa"></i></div></div><div class="inner_cell"><div class="ctb_hideshow"><div class="celltoolbar"></div></div><div class="input_area" aria-label="Edit code here"><div class="CodeMirror cm-s-ipython"><div style="overflow: hidden; position: relative; width: 3px; height: 0px; top: 5.59375px; left: 383.406px;"><textarea autocorrect="off" autocapitalize="off" spellcheck="false" tabindex="0" style="position: absolute; bottom: -1em; padding: 0px; width: 1000px; height: 1em; outline: none;"></textarea></div><div class="CodeMirror-vscrollbar" tabindex="-1" cm-not-content="true"><div style="min-width: 1px; height: 0px;"></div></div><div class="CodeMirror-hscrollbar" tabindex="-1" cm-not-content="true"><div style="height: 100%; min-height: 1px; width: 0px;"></div></div><div class="CodeMirror-scrollbar-filler" cm-not-content="true"></div><div class="CodeMirror-gutter-filler" cm-not-content="true"></div><div class="CodeMirror-scroll" tabindex="-1"><div class="CodeMirror-sizer" style="margin-left: 0px; min-width: 386.406px; margin-bottom: -15px; border-right-width: 15px; min-height: 28px; padding-right: 0px; padding-bottom: 0px;"><div style="position: relative; top: 0px;"><div class="CodeMirror-lines" role="presentation"><div role="presentation" style="position: relative; outline: none;"><div class="CodeMirror-measure"></div><div class="CodeMirror-measure"></div><div style="position: relative; z-index: 1;"></div><div class="CodeMirror-cursors" style=""><div class="CodeMirror-cursor" style="left: 383.406px; top: 0px; height: 17px;">&nbsp;</div></div><div class="CodeMirror-code" role="presentation"><pre class=" CodeMirror-line " role="presentation"><span role="presentation" style="padding-right: 0.1px;"><span class="cm-variable">df</span> <span class="cm-operator">=</span> <span class="cm-variable">pdr</span>.<span class="cm-property">get_data_tiingo</span><span class=" CodeMirror-matchingbracket">(</span><span class="cm-string">'GOOG'</span>, <span class="cm-variable">api_key</span><span class="cm-operator">=</span><span class="cm-variable">key</span><span class=" CodeMirror-matchingbracket">)</span></span></pre></div></div></div></div></div><div style="position: absolute; height: 15px; width: 1px; border-bottom: 0px solid transparent; top: 28px;"></div><div class="CodeMirror-gutters" style="display: none; height: 43px;"></div></div></div></div></div></div><div class="output_wrapper"><div class="out_prompt_overlay prompt" title="click to scroll output; double click to hide"></div><div class="output"></div><div class="btn btn-default output_collapsed" title="click to expand output" style="display: none;">. . .</div></div></div><div class="cell code_cell rendered unselected" tabindex="2"><div class="input"><div class="prompt_container"><div class="prompt input_prompt"><bdi>In</bdi>&nbsp;[6]:</div><div class="run_this_cell" title="Run this cell"><i class="fa-step-forward fa"></i></div></div><div class="inner_cell"><div class="ctb_hideshow"><div class="celltoolbar"></div></div><div class="input_area" aria-label="Edit code here"><div class="CodeMirror cm-s-ipython"><div style="overflow: hidden; position: relative; width: 3px; height: 0px; top: 5.59375px; left: 130.453px;"><textarea autocorrect="off" autocapitalize="off" spellcheck="false" tabindex="0" style="position: absolute; bottom: -1em; padding: 0px; width: 1000px; height: 1em; outline: none;"></textarea></div><div class="CodeMirror-vscrollbar" tabindex="-1" cm-not-content="true"><div style="min-width: 1px; height: 0px;"></div></div><div class="CodeMirror-hscrollbar" tabindex="-1" cm-not-content="true"><div style="height: 100%; min-height: 1px; width: 0px;"></div></div><div class="CodeMirror-scrollbar-filler" cm-not-content="true"></div><div class="CodeMirror-gutter-filler" cm-not-content="true"></div><div class="CodeMirror-scroll" tabindex="-1"><div class="CodeMirror-sizer" style="margin-left: 0px; min-width: 184.047px; margin-bottom: -15px; border-right-width: 15px; min-height: 28px; padding-right: 0px; padding-bottom: 0px;"><div style="position: relative; top: 0px;"><div class="CodeMirror-lines" role="presentation"><div role="presentation" style="position: relative; outline: none;"><div class="CodeMirror-measure"></div><div class="CodeMirror-measure"></div><div style="position: relative; z-index: 1;"></div><div class="CodeMirror-cursors" style=""><div class="CodeMirror-cursor" style="left: 130.453px; top: 0px; height: 17px;">&nbsp;</div></div><div class="CodeMirror-code" role="presentation"><pre class=" CodeMirror-line " role="presentation"><span role="presentation" style="padding-right: 0.1px;"><span class="cm-variable">df</span>.<span class="cm-property">to_csv</span>(<span class="cm-string">'GOOG.csv'</span>)</span></pre></div></div></div></div></div><div style="position: absolute; height: 15px; width: 1px; border-bottom: 0px solid transparent; top: 28px;"></div><div class="CodeMirror-gutters" style="display: none; height: 43px;"></div></div></div></div></div></div><div class="output_wrapper"><div class="out_prompt_overlay prompt" title="click to scroll output; double click to hide"></div><div class="output"></div><div class="btn btn-default output_collapsed" title="click to expand output" style="display: none;">. . .</div></div></div><div class="cell code_cell rendered unselected" tabindex="2"><div class="input"><div class="prompt_container"><div class="prompt input_prompt"><bdi>In</bdi>&nbsp;[7]:</div><div class="run_this_cell" title="Run this cell"><i class="fa-step-forward fa"></i></div></div><div class="inner_cell"><div class="ctb_hideshow"><div class="celltoolbar"></div></div><div class="input_area" aria-label="Edit code here"><div class="CodeMirror cm-s-ipython"><div style="overflow: hidden; position: relative; width: 3px; height: 0px; top: 5.59375px; left: 164.188px;"><textarea autocorrect="off" autocapitalize="off" spellcheck="false" tabindex="0" style="position: absolute; bottom: -1em; padding: 0px; width: 1000px; height: 1em; outline: none;"></textarea></div><div class="CodeMirror-vscrollbar" tabindex="-1" cm-not-content="true"><div style="min-width: 1px; height: 0px;"></div></div><div class="CodeMirror-hscrollbar" tabindex="-1" cm-not-content="true"><div style="height: 100%; min-height: 1px; width: 0px;"></div></div><div class="CodeMirror-scrollbar-filler" cm-not-content="true"></div><div class="CodeMirror-gutter-filler" cm-not-content="true"></div><div class="CodeMirror-scroll" tabindex="-1"><div class="CodeMirror-sizer" style="margin-left: 0px; min-width: 167.188px; margin-bottom: -15px; border-right-width: 15px; min-height: 28px; padding-right: 0px; padding-bottom: 0px;"><div style="position: relative; top: 0px;"><div class="CodeMirror-lines" role="presentation"><div role="presentation" style="position: relative; outline: none;"><div class="CodeMirror-measure"></div><div class="CodeMirror-measure"></div><div style="position: relative; z-index: 1;"></div><div class="CodeMirror-cursors" style="visibility: hidden;"><div class="CodeMirror-cursor" style="left: 164.188px; top: 0px; height: 17px;">&nbsp;</div></div><div class="CodeMirror-code" role="presentation"><pre class=" CodeMirror-line " role="presentation"><span role="presentation" style="padding-right: 0.1px;"><span class="cm-keyword">import</span> <span class="cm-variable">pandas</span> <span class="cm-keyword">as</span> <span class="cm-variable">pd</span></span></pre></div></div></div></div></div><div style="position: absolute; height: 15px; width: 1px; border-bottom: 0px solid transparent; top: 28px;"></div><div class="CodeMirror-gutters" style="display: none; height: 43px;"></div></div></div></div></div></div><div class="output_wrapper"><div class="out_prompt_overlay prompt" title="click to scroll output; double click to hide"></div><div class="output"></div><div class="btn btn-default output_collapsed" title="click to expand output" style="display: none;">. . .</div></div></div><div class="cell code_cell rendered unselected" tabindex="2"><div class="input"><div class="prompt_container"><div class="prompt input_prompt"><bdi>In</bdi>&nbsp;[8]:</div><div class="run_this_cell" title="Run this cell"><i class="fa-step-forward fa"></i></div></div><div class="inner_cell"><div class="ctb_hideshow"><div class="celltoolbar"></div></div><div class="input_area" aria-label="Edit code here"><div class="CodeMirror cm-s-ipython"><div style="overflow: hidden; position: relative; width: 3px; height: 0px; top: 5.59375px; left: 223.203px;"><textarea autocorrect="off" autocapitalize="off" spellcheck="false" tabindex="0" style="position: absolute; bottom: -1em; padding: 0px; width: 1000px; height: 1em; outline: none;"></textarea></div><div class="CodeMirror-vscrollbar" tabindex="-1" cm-not-content="true"><div style="min-width: 1px; height: 0px;"></div></div><div class="CodeMirror-hscrollbar" tabindex="-1" cm-not-content="true"><div style="height: 100%; min-height: 1px; width: 0px;"></div></div><div class="CodeMirror-scrollbar-filler" cm-not-content="true"></div><div class="CodeMirror-gutter-filler" cm-not-content="true"></div><div class="CodeMirror-scroll" tabindex="-1"><div class="CodeMirror-sizer" style="margin-left: 0px; min-width: 226.203px; margin-bottom: -15px; border-right-width: 15px; min-height: 28px; padding-right: 0px; padding-bottom: 0px;"><div style="position: relative; top: 0px;"><div class="CodeMirror-lines" role="presentation"><div role="presentation" style="position: relative; outline: none;"><div class="CodeMirror-measure"></div><div class="CodeMirror-measure"></div><div style="position: relative; z-index: 1;"></div><div class="CodeMirror-cursors" style="visibility: hidden;"><div class="CodeMirror-cursor" style="left: 223.203px; top: 0px; height: 17px;">&nbsp;</div></div><div class="CodeMirror-code" role="presentation"><pre class=" CodeMirror-line " role="presentation"><span role="presentation" style="padding-right: 0.1px;"><span class="cm-variable">df</span><span class="cm-operator">=</span><span class="cm-variable">pd</span>.<span class="cm-property">read_csv</span><span class=" CodeMirror-matchingbracket">(</span><span class="cm-string">'GOOG.csv'</span><span class=" CodeMirror-matchingbracket">)</span></span></pre></div></div></div></div></div><div style="position: absolute; height: 15px; width: 1px; border-bottom: 0px solid transparent; top: 28px;"></div><div class="CodeMirror-gutters" style="display: none; height: 43px;"></div></div></div></div></div></div><div class="output_wrapper"><div class="out_prompt_overlay prompt" title="click to scroll output; double click to hide"></div><div class="output"></div><div class="btn btn-default output_collapsed" title="click to expand output" style="display: none;">. . .</div></div></div><div class="cell code_cell rendered unselected" tabindex="2"><div class="input"><div class="prompt_container"><div class="prompt input_prompt"><bdi>In</bdi>&nbsp;[9]:</div><div class="run_this_cell" title="Run this cell"><i class="fa-step-forward fa"></i></div></div><div class="inner_cell"><div class="ctb_hideshow"><div class="celltoolbar"></div></div><div class="input_area" aria-label="Edit code here"><div class="CodeMirror cm-s-ipython"><div style="overflow: hidden; position: relative; width: 3px; height: 0px; top: 5.59375px; left: 79.8906px;"><textarea autocorrect="off" autocapitalize="off" spellcheck="false" tabindex="0" style="position: absolute; bottom: -1em; padding: 0px; width: 1000px; height: 1em; outline: none;"></textarea></div><div class="CodeMirror-vscrollbar" tabindex="-1" cm-not-content="true"><div style="min-width: 1px; height: 0px;"></div></div><div class="CodeMirror-hscrollbar" tabindex="-1" cm-not-content="true"><div style="height: 100%; min-height: 1px; width: 0px;"></div></div><div class="CodeMirror-scrollbar-filler" cm-not-content="true"></div><div class="CodeMirror-gutter-filler" cm-not-content="true"></div><div class="CodeMirror-scroll" tabindex="-1"><div class="CodeMirror-sizer" style="margin-left: 0px; min-width: 82.8906px; margin-bottom: -15px; border-right-width: 15px; min-height: 28px; padding-right: 0px; padding-bottom: 0px;"><div style="position: relative; top: 0px;"><div class="CodeMirror-lines" role="presentation"><div role="presentation" style="position: relative; outline: none;"><div class="CodeMirror-measure"></div><div class="CodeMirror-measure"></div><div style="position: relative; z-index: 1;"></div><div class="CodeMirror-cursors" style="visibility: hidden;"><div class="CodeMirror-cursor" style="left: 79.8906px; top: 0px; height: 17px;">&nbsp;</div></div><div class="CodeMirror-code" role="presentation"><pre class=" CodeMirror-line " role="presentation"><span role="presentation" style="padding-right: 0.1px;"><span class="cm-variable">df</span>.<span class="cm-property">head</span><span class=" CodeMirror-matchingbracket">(</span><span class=" CodeMirror-matchingbracket">)</span></span></pre></div></div></div></div></div><div style="position: absolute; height: 15px; width: 1px; border-bottom: 0px solid transparent; top: 28px;"></div><div class="CodeMirror-gutters" style="display: none; height: 43px;"></div></div></div></div></div></div><div class="output_wrapper"><div class="out_prompt_overlay prompt" title="click to scroll output; double click to hide"></div><div class="output"><div class="output_area"><div class="run_this_cell"></div><div class="prompt output_prompt"><bdi>Out[9]:</bdi></div><div class="output_subarea output_html rendered_html output_result"><div>
<style scoped="">
    .dataframe tbody tr th:only-of-type {
        vertical-align: middle;
    }

    .dataframe tbody tr th {
        vertical-align: top;
    }

    .dataframe thead th {
        text-align: right;
    }
</style>
<table border="1" class="dataframe">
  <thead>
    <tr style="text-align: right;">
      <th></th>
      <th>symbol</th>
      <th>date</th>
      <th>close</th>
      <th>high</th>
      <th>low</th>
      <th>open</th>
      <th>volume</th>
      <th>adjClose</th>
      <th>adjHigh</th>
      <th>adjLow</th>
      <th>adjOpen</th>
      <th>adjVolume</th>
      <th>divCash</th>
      <th>splitFactor</th>
    </tr>
  </thead>
  <tbody>
    <tr>
      <th>0</th>
      <td>GOOG</td>
      <td>2015-09-17 00:00:00+00:00</td>
      <td>642.90</td>
      <td>650.90</td>
      <td>635.02</td>
      <td>637.79</td>
      <td>2274690</td>
      <td>642.90</td>
      <td>650.90</td>
      <td>635.02</td>
      <td>637.79</td>
      <td>2274690</td>
      <td>0.0</td>
      <td>1.0</td>
    </tr>
    <tr>
      <th>1</th>
      <td>GOOG</td>
      <td>2015-09-18 00:00:00+00:00</td>
      <td>629.25</td>
      <td>640.00</td>
      <td>627.02</td>
      <td>636.79</td>
      <td>5133386</td>
      <td>629.25</td>
      <td>640.00</td>
      <td>627.02</td>
      <td>636.79</td>
      <td>5133386</td>
      <td>0.0</td>
      <td>1.0</td>
    </tr>
    <tr>
      <th>2</th>
      <td>GOOG</td>
      <td>2015-09-21 00:00:00+00:00</td>
      <td>635.44</td>
      <td>636.49</td>
      <td>625.94</td>
      <td>634.40</td>
      <td>1788506</td>
      <td>635.44</td>
      <td>636.49</td>
      <td>625.94</td>
      <td>634.40</td>
      <td>1788506</td>
      <td>0.0</td>
      <td>1.0</td>
    </tr>
    <tr>
      <th>3</th>
      <td>GOOG</td>
      <td>2015-09-22 00:00:00+00:00</td>
      <td>622.69</td>
      <td>627.55</td>
      <td>615.43</td>
      <td>627.00</td>
      <td>2562869</td>
      <td>622.69</td>
      <td>627.55</td>
      <td>615.43</td>
      <td>627.00</td>
      <td>2562869</td>
      <td>0.0</td>
      <td>1.0</td>
    </tr>
    <tr>
      <th>4</th>
      <td>GOOG</td>
      <td>2015-09-23 00:00:00+00:00</td>
      <td>622.36</td>
      <td>628.93</td>
      <td>620.00</td>
      <td>622.05</td>
      <td>1470949</td>
      <td>622.36</td>
      <td>628.93</td>
      <td>620.00</td>
      <td>622.05</td>
      <td>1470949</td>
      <td>0.0</td>
      <td>1.0</td>
    </tr>
  </tbody>
</table>
</div></div></div></div><div class="btn btn-default output_collapsed" title="click to expand output" style="display: none;">. . .</div></div></div><div class="cell code_cell rendered unselected" tabindex="2"><div class="input"><div class="prompt_container"><div class="prompt input_prompt"><bdi>In</bdi>&nbsp;[10]:</div><div class="run_this_cell" title="Run this cell"><i class="fa-step-forward fa"></i></div></div><div class="inner_cell"><div class="ctb_hideshow"><div class="celltoolbar"></div></div><div class="input_area" aria-label="Edit code here"><div class="CodeMirror cm-s-ipython"><div style="overflow: hidden; position: relative; width: 3px; height: 0px; top: 5.59375px; left: 79.8906px;"><textarea autocorrect="off" autocapitalize="off" spellcheck="false" tabindex="0" style="position: absolute; bottom: -1em; padding: 0px; width: 1000px; height: 1em; outline: none;"></textarea></div><div class="CodeMirror-vscrollbar" tabindex="-1" cm-not-content="true"><div style="min-width: 1px; height: 0px;"></div></div><div class="CodeMirror-hscrollbar" tabindex="-1" cm-not-content="true"><div style="height: 100%; min-height: 1px; width: 0px;"></div></div><div class="CodeMirror-scrollbar-filler" cm-not-content="true"></div><div class="CodeMirror-gutter-filler" cm-not-content="true"></div><div class="CodeMirror-scroll" tabindex="-1"><div class="CodeMirror-sizer" style="margin-left: 0px; min-width: 82.8906px; margin-bottom: -15px; border-right-width: 15px; min-height: 28px; padding-right: 0px; padding-bottom: 0px;"><div style="position: relative; top: 0px;"><div class="CodeMirror-lines" role="presentation"><div role="presentation" style="position: relative; outline: none;"><div class="CodeMirror-measure"></div><div class="CodeMirror-measure"></div><div style="position: relative; z-index: 1;"></div><div class="CodeMirror-cursors" style="visibility: hidden;"><div class="CodeMirror-cursor" style="left: 79.8906px; top: 0px; height: 17px;">&nbsp;</div></div><div class="CodeMirror-code" role="presentation"><pre class=" CodeMirror-line " role="presentation"><span role="presentation" style="padding-right: 0.1px;"><span class="cm-variable">df</span>.<span class="cm-property">tail</span><span class=" CodeMirror-matchingbracket">(</span><span class=" CodeMirror-matchingbracket">)</span></span></pre></div></div></div></div></div><div style="position: absolute; height: 15px; width: 1px; border-bottom: 0px solid transparent; top: 28px;"></div><div class="CodeMirror-gutters" style="display: none; height: 43px;"></div></div></div></div></div></div><div class="output_wrapper"><div class="out_prompt_overlay prompt" title="click to scroll output; double click to hide"></div><div class="output"><div class="output_area"><div class="run_this_cell"></div><div class="prompt output_prompt"><bdi>Out[10]:</bdi></div><div class="output_subarea output_html rendered_html output_result"><div>
<style scoped="">
    .dataframe tbody tr th:only-of-type {
        vertical-align: middle;
    }

    .dataframe tbody tr th {
        vertical-align: top;
    }

    .dataframe thead th {
        text-align: right;
    }
</style>
<table border="1" class="dataframe">
  <thead>
    <tr style="text-align: right;">
      <th></th>
      <th>symbol</th>
      <th>date</th>
      <th>close</th>
      <th>high</th>
      <th>low</th>
      <th>open</th>
      <th>volume</th>
      <th>adjClose</th>
      <th>adjHigh</th>
      <th>adjLow</th>
      <th>adjOpen</th>
      <th>adjVolume</th>
      <th>divCash</th>
      <th>splitFactor</th>
    </tr>
  </thead>
  <tbody>
    <tr>
      <th>1252</th>
      <td>GOOG</td>
      <td>2020-09-08 00:00:00+00:00</td>
      <td>1532.39</td>
      <td>1563.8650</td>
      <td>1528.0100</td>
      <td>1533.510</td>
      <td>2610884</td>
      <td>1532.39</td>
      <td>1563.8650</td>
      <td>1528.0100</td>
      <td>1533.510</td>
      <td>2610884</td>
      <td>0.0</td>
      <td>1.0</td>
    </tr>
    <tr>
      <th>1253</th>
      <td>GOOG</td>
      <td>2020-09-09 00:00:00+00:00</td>
      <td>1556.96</td>
      <td>1569.0000</td>
      <td>1536.0511</td>
      <td>1557.530</td>
      <td>1774704</td>
      <td>1556.96</td>
      <td>1569.0000</td>
      <td>1536.0511</td>
      <td>1557.530</td>
      <td>1774704</td>
      <td>0.0</td>
      <td>1.0</td>
    </tr>
    <tr>
      <th>1254</th>
      <td>GOOG</td>
      <td>2020-09-10 00:00:00+00:00</td>
      <td>1532.02</td>
      <td>1584.0810</td>
      <td>1525.8050</td>
      <td>1560.640</td>
      <td>1618557</td>
      <td>1532.02</td>
      <td>1584.0810</td>
      <td>1525.8050</td>
      <td>1560.640</td>
      <td>1618557</td>
      <td>0.0</td>
      <td>1.0</td>
    </tr>
    <tr>
      <th>1255</th>
      <td>GOOG</td>
      <td>2020-09-11 00:00:00+00:00</td>
      <td>1520.72</td>
      <td>1575.2000</td>
      <td>1497.3600</td>
      <td>1536.000</td>
      <td>1597087</td>
      <td>1520.72</td>
      <td>1575.2000</td>
      <td>1497.3600</td>
      <td>1536.000</td>
      <td>1597087</td>
      <td>0.0</td>
      <td>1.0</td>
    </tr>
    <tr>
      <th>1256</th>
      <td>GOOG</td>
      <td>2020-09-14 00:00:00+00:00</td>
      <td>1519.28</td>
      <td>1563.9999</td>
      <td>1515.7400</td>
      <td>1539.005</td>
      <td>1696589</td>
      <td>1519.28</td>
      <td>1563.9999</td>
      <td>1515.7400</td>
      <td>1539.005</td>
      <td>1696589</td>
      <td>0.0</td>
      <td>1.0</td>
    </tr>
  </tbody>
</table>
</div></div></div></div><div class="btn btn-default output_collapsed" title="click to expand output" style="display: none;">. . .</div></div></div><div class="cell code_cell rendered unselected" tabindex="2"><div class="input"><div class="prompt_container"><div class="prompt input_prompt"><bdi>In</bdi>&nbsp;[11]:</div><div class="run_this_cell" title="Run this cell"><i class="fa-step-forward fa"></i></div></div><div class="inner_cell"><div class="ctb_hideshow"><div class="celltoolbar"></div></div><div class="input_area" aria-label="Edit code here"><div class="CodeMirror cm-s-ipython"><div style="overflow: hidden; position: relative; width: 3px; height: 0px; top: 5.59375px; left: 248.5px;"><textarea autocorrect="off" autocapitalize="off" spellcheck="false" tabindex="0" style="position: absolute; bottom: -1em; padding: 0px; width: 1000px; height: 1em; outline: none;"></textarea></div><div class="CodeMirror-vscrollbar" tabindex="-1" cm-not-content="true"><div style="min-width: 1px; height: 0px;"></div></div><div class="CodeMirror-hscrollbar" tabindex="-1" cm-not-content="true"><div style="height: 100%; min-height: 1px; width: 0px;"></div></div><div class="CodeMirror-scrollbar-filler" cm-not-content="true"></div><div class="CodeMirror-gutter-filler" cm-not-content="true"></div><div class="CodeMirror-scroll" tabindex="-1"><div class="CodeMirror-sizer" style="margin-left: 0px; min-width: 251.5px; margin-bottom: -15px; border-right-width: 15px; min-height: 28px; padding-right: 0px; padding-bottom: 0px;"><div style="position: relative; top: 0px;"><div class="CodeMirror-lines" role="presentation"><div role="presentation" style="position: relative; outline: none;"><div class="CodeMirror-measure"></div><div class="CodeMirror-measure"></div><div style="position: relative; z-index: 1;"></div><div class="CodeMirror-cursors" style=""><div class="CodeMirror-cursor" style="left: 248.5px; top: 0px; height: 17px;">&nbsp;</div></div><div class="CodeMirror-code" role="presentation"><pre class=" CodeMirror-line " role="presentation"><span role="presentation" style="padding-right: 0.1px;"><span class="cm-variable">df1</span><span class="cm-operator">=</span><span class="cm-variable">df</span>.<span class="cm-property">reset_index</span>()<span class=" CodeMirror-matchingbracket">[</span><span class="cm-string">'close'</span><span class=" CodeMirror-matchingbracket">]</span></span></pre></div></div></div></div></div><div style="position: absolute; height: 15px; width: 1px; border-bottom: 0px solid transparent; top: 28px;"></div><div class="CodeMirror-gutters" style="display: none; height: 43px;"></div></div></div></div></div></div><div class="output_wrapper"><div class="out_prompt_overlay prompt" title="click to scroll output; double click to hide"></div><div class="output"></div><div class="btn btn-default output_collapsed" title="click to expand output" style="display: none;">. . .</div></div></div><div class="cell code_cell rendered unselected" tabindex="2"><div class="input"><div class="prompt_container"><div class="prompt input_prompt"><bdi>In</bdi>&nbsp;[12]:</div><div class="run_this_cell" title="Run this cell"><i class="fa-step-forward fa"></i></div></div><div class="inner_cell"><div class="ctb_hideshow"><div class="celltoolbar"></div></div><div class="input_area" aria-label="Edit code here"><div class="CodeMirror cm-s-ipython"><div style="overflow: hidden; position: relative; width: 3px; height: 0px; top: 5.59375px; left: 29.2969px;"><textarea autocorrect="off" autocapitalize="off" spellcheck="false" tabindex="0" style="position: absolute; bottom: -1em; padding: 0px; width: 1000px; height: 1em; outline: none;"></textarea></div><div class="CodeMirror-vscrollbar" tabindex="-1" cm-not-content="true"><div style="min-width: 1px; height: 0px;"></div></div><div class="CodeMirror-hscrollbar" tabindex="-1" cm-not-content="true"><div style="height: 100%; min-height: 1px; width: 0px;"></div></div><div class="CodeMirror-scrollbar-filler" cm-not-content="true"></div><div class="CodeMirror-gutter-filler" cm-not-content="true"></div><div class="CodeMirror-scroll" tabindex="-1"><div class="CodeMirror-sizer" style="margin-left: 0px; min-width: 32.2969px; margin-bottom: -15px; border-right-width: 15px; min-height: 28px; padding-right: 0px; padding-bottom: 0px;"><div style="position: relative; top: 0px;"><div class="CodeMirror-lines" role="presentation"><div role="presentation" style="position: relative; outline: none;"><div class="CodeMirror-measure"></div><div class="CodeMirror-measure"></div><div style="position: relative; z-index: 1;"></div><div class="CodeMirror-cursors" style=""><div class="CodeMirror-cursor" style="left: 29.2969px; top: 0px; height: 17px;">&nbsp;</div></div><div class="CodeMirror-code" role="presentation"><pre class=" CodeMirror-line " role="presentation"><span role="presentation" style="padding-right: 0.1px;"><span class="cm-variable">df1</span></span></pre></div></div></div></div></div><div style="position: absolute; height: 15px; width: 1px; border-bottom: 0px solid transparent; top: 28px;"></div><div class="CodeMirror-gutters" style="display: none; height: 43px;"></div></div></div></div></div></div><div class="output_wrapper"><div class="out_prompt_overlay prompt" title="click to scroll output; double click to hide"></div><div class="output"><div class="output_area"><div class="run_this_cell"></div><div class="prompt output_prompt"><bdi>Out[12]:</bdi></div><div class="output_subarea output_text output_result"><pre>0        642.90
1        629.25
2        635.44
3        622.69
4        622.36
         ...   
1252    1532.39
1253    1556.96
1254    1532.02
1255    1520.72
1256    1519.28
Name: close, Length: 1257, dtype: float64</pre></div></div></div><div class="btn btn-default output_collapsed" title="click to expand output" style="display: none;">. . .</div></div></div><div class="cell code_cell rendered unselected" tabindex="2"><div class="input"><div class="prompt_container"><div class="prompt input_prompt"><bdi>In</bdi>&nbsp;[13]:</div><div class="run_this_cell" title="Run this cell"><i class="fa-step-forward fa"></i></div></div><div class="inner_cell"><div class="ctb_hideshow"><div class="celltoolbar"></div></div><div class="input_area" aria-label="Edit code here"><div class="CodeMirror cm-s-ipython"><div style="overflow: hidden; position: relative; width: 3px; height: 0px; top: 22.5938px; left: 113.625px;"><textarea autocorrect="off" autocapitalize="off" spellcheck="false" tabindex="0" style="position: absolute; bottom: -1em; padding: 0px; width: 1000px; height: 1em; outline: none;"></textarea></div><div class="CodeMirror-vscrollbar" tabindex="-1" cm-not-content="true"><div style="min-width: 1px; height: 0px;"></div></div><div class="CodeMirror-hscrollbar" tabindex="-1" cm-not-content="true"><div style="height: 100%; min-height: 1px; width: 0px;"></div></div><div class="CodeMirror-scrollbar-filler" cm-not-content="true"></div><div class="CodeMirror-gutter-filler" cm-not-content="true"></div><div class="CodeMirror-scroll" tabindex="-1"><div class="CodeMirror-sizer" style="margin-left: 0px; min-width: 268.359px; margin-bottom: -15px; border-right-width: 15px; min-height: 45px; padding-right: 0px; padding-bottom: 0px;"><div style="position: relative; top: 0px;"><div class="CodeMirror-lines" role="presentation"><div role="presentation" style="position: relative; outline: none;"><div class="CodeMirror-measure"></div><div class="CodeMirror-measure"></div><div style="position: relative; z-index: 1;"></div><div class="CodeMirror-cursors" style=""><div class="CodeMirror-cursor" style="left: 113.625px; top: 17px; height: 17px;">&nbsp;</div></div><div class="CodeMirror-code" role="presentation"><pre class=" CodeMirror-line " role="presentation"><span role="presentation" style="padding-right: 0.1px;"><span class="cm-keyword">import</span> <span class="cm-variable">matplotlib</span>.<span class="cm-property">pyplot</span> <span class="cm-keyword">as</span> <span class="cm-variable">plt</span></span></pre><pre class=" CodeMirror-line " role="presentation"><span role="presentation" style="padding-right: 0.1px;"><span class="cm-variable">plt</span>.<span class="cm-property">plot</span><span class=" CodeMirror-matchingbracket">(</span><span class="cm-variable">df1</span><span class=" CodeMirror-matchingbracket">)</span></span></pre></div></div></div></div></div><div style="position: absolute; height: 15px; width: 1px; border-bottom: 0px solid transparent; top: 45px;"></div><div class="CodeMirror-gutters" style="display: none; height: 60px;"></div></div></div></div></div></div><div class="output_wrapper"><div class="out_prompt_overlay prompt" title="click to scroll output; double click to hide"></div><div class="output"><div class="output_area"><div class="run_this_cell"></div><div class="prompt output_prompt"><bdi>Out[13]:</bdi></div><div class="output_subarea output_text output_result"><pre>[&lt;matplotlib.lines.Line2D at 0x7fdf4db4f3a0&gt;]</pre></div></div><div class="output_area"><div class="run_this_cell"></div><div class="prompt"></div><div class="output_subarea output_png"><img src="data:image/png;base64,iVBORw0KGgoAAAANSUhEUgAAAX0AAAD4CAYAAAAAczaOAAAABHNCSVQICAgIfAhkiAAAAAlwSFlzAAALEgAACxIB0t1+/AAAADh0RVh0U29mdHdhcmUAbWF0cGxvdGxpYiB2ZXJzaW9uMy4yLjIsIGh0dHA6Ly9tYXRwbG90bGliLm9yZy+WH4yJAAAgAElEQVR4nO3deXxcVfn48c+TyZ60WZruSZsWutDSvbSAlK2ltIBsgmwqKIhfURHwqz8QFRVQQAVF+IIVqwjIIrJZylLKUraWUijdl3RPumRr9m0mc35/3DuTO8lkm2SSSeZ5v1559c65d2bOZJpnzpzlOWKMQSmlVHSI6e0KKKWU6jka9JVSKopo0FdKqSiiQV8ppaKIBn2llIoisb1dgbZkZWWZ3Nzc3q6GUkr1KevWrSs2xgwOdi6ig35ubi6ffvppb1dDKaX6FBHZ19o57d5RSqkookFfKaWiiAZ9pZSKIhr0lVIqimjQV0qpKKJBXymloogGfaWUiiIa9JVSKkKU17j57xcHw/ocEb04SymloskPn/2cd7cXMTU7jdGDUsLyHNrSV0qpCJF/tBaAOrc3bM+hQV8ppSKE+P6VNi/rEg36SikVRTToK6VUhPDtWB7Orcs16CulVIRxN2qfvlJKRQ2PN3xNfQ36SikVYbSlr5RSUUSDvlJKRRFPo3bvKKVU1PB4taWvlFJRw60tfaWU6t8q69wcKrPSMGj3jlJK9XNf/vMHVDc0AjqQq5RS/d7ekhr/sQZ9pZSKIro4SymloohHW/pKKdW/Tc9J9x/r7B2llOrnDHBCbgbQy336IrJURApFZFOz8h+IyDYR2Swi9znKbxORPBHZLiJnO8oX2WV5InJr974MpZTq2+rdjaQmWDvYhrNPvyN75P4DeAj4p69ARM4ALgCmGWPqRWSIXT4JuByYDIwA3hKR8fbdHgbOAvKBtSLyijFmS3e9EKWU6ssaPF5S7KAfzpZ+u0HfGLNKRHKbFX8XuMcYU29fU2iXXwA8Y5fvEZE8YI59Ls8YsxtARJ6xr9Wgr5RSQHWDh5T4WGIkMhdnjQfmicgaEXlPRE6wy0cCBxzX5dtlrZUrpZQCymrcpCfHEeuKwR3G3Dsd6d5p7X6ZwInACcBzIjK2OyokItcD1wOMGjWqOx5SKaUiWp27kXqPl7TkOOJiJCJb+vnAC8byCeAFsoACIMdxXbZd1lp5C8aYJcaY2caY2YMHDw6xekop1XeUVjcAkJYUR1xsDA2eyJun/xJwBoA9UBsPFAOvAJeLSIKIjAHGAZ8Aa4FxIjJGROKxBntf6WrllVKqP/j9m9sBGJOVQpwrJqypldvt3hGRp4HTgSwRyQfuAJYCS+1pnA3A1cYYA2wWkeewBmg9wPeMMY3243wfeANwAUuNMZvD8HqUUqrP8bX0Z+RkEO+KocHTi1M2jTFXtHLqa61cfzdwd5Dy5cDyTtVOKaX6mTc2H6bRazhnynB/WXK8i3FDUkmKdxHnkt6dsqmUUqp77C2u5jtPrLOO7znXX17b0EhSvAuA+NgYDfpKKdUfFFfVtyir9zTyzvYi/+0jFfXsOFIVtjpo7h2llOohIi3LCisCPwjKa90AHKmoC0sdNOgrpVQPqQ8yFbOxlTw79e7wdPFo945SSvWAu1/dwl/f39OivM5jbZH4w/njAsor691hqYe29JVSqgc0D/hlNdY0TV+LflpOWsD5qjpPWOqhQV8ppYCSqnryCsM3gNrc9F+v4IOdxdS5rZZ+Yqwr4HxZrbb0lVIqbGbd9RYL7n+vR59z+5FK6ux+/oQ4Kxyvvm0+AAfLasPynBr0lVJR76G3d/qPj9qrY3vC4AEJ3PzsegAS7Jb+0IEJZCTH8ezaA60O8naFDuQqpaLe79/c4T8uqW4gIyW+R57X6zX+FAyDUq3nFBH+fMVMat2NuGKCzPHsIm3pK6WiWnV94IBpbUNjWJ/v+f85qem5G5qee+iARP/xKeOyOGvS0LA8vwZ9pVRU8w2YzhuXBUCtu/uDfr09LfPmBeOZnZvpL7/9RWvr8XOmDCMmDK36YDToK6WiWo3d0j92SKp1u6H7p0r+5tWtAAxPs1rzd14wOeD8/InhadUHo0FfKRWV1u0rpaymgZ32NM2s1AQgPN07j3+8z3qOAVa//aWzcwLOx7p6ppUPOpCrlIpCL68v4IfPrCc7I4n8o9bUyCx7ILUmjH36g1KsD5Z4V2B7O1wpF4LRlr5SKuos23AIwB/wATKSraAfjrTGJ40dBMC0nHSAFv33YwandPtztkaDvlIq6pTXtFztOiXbSoPgDsPc+HpPI6ccmxX03B8uncYJjsHdcNPuHaVU1KkOMlibFGctjnJ3w6bkL68voLahkdMnDGHb4QpqGhoZPCAh6LUnHTOoy8/XGRr0lVJRJ1i/fZzdz94dm5L/8BlrlW1WagLFVfXkZCaREh8Ybh+6cgZ//3Cvf0ZPT9Ggr5SKOs0XZEHTDBp3Y9e6d4xpur9vp6yyGjfJCYEJ1c6bOoLzpo7o0nOFQvv0lVJRxRhDZZC0xXExVjhs6GL3TmFlyy0RK+s8pCRERhtbg75SKqqU17pbrLq95uRcYmIEV4x0uXtnx5HKoOXNu3d6iwZ9pVRUWfjAqhZlvzhvEgBxLulS905BWS1f/9snQc8lx7uClvc0DfpKqaji634ZOrBpNo1v3nycK6ZL8/Q/2VPS6rmBiXEhP253iozvG0op1cPevOk09pZU+1MaQ9eD/jvbilo9NzApMoK+tvSVUlHDtzXhzQvGk5Ycx7ScdLIzkv3n41wS8kCu12t45YuDAWXXnTLGfzwwKTLa2O0GfRFZKiKFIrIpyLkfiYgRkSz7tojIgyKSJyIbRGSm49qrRWSn/XN1974MpZRqn28LwpEZSUHPJ8a5qA8x6P93w8EWZcMcc/DT+lBL/x/AouaFIpIDLAT2O4oXA+Psn+uBR+xrM4E7gLnAHOAOEcnoSsWVUqqzCnxBPz140E+Kc4WccO13b2xv8djjhw7wH0dKn367Qd8YswooDXLqAeAngHOo+wLgn8ayGkgXkeHA2cAKY0ypMeYosIIgHyRKKRVOBXaCtexWWvrJ8a5Op1Z+cOVOHlixw5+8bdVPzmDWaKtNe4ydox8gLTkygn5InUwicgFQYIz5QiQgW9xI4IDjdr5d1lp5sMe+HutbAqNGjQqlekopFdTGgnIgsNvFKSne1elNVO5f0bS/7uLjh+GKER68Ygbv7ygKaPWn9tV5+iKSDPwU+EX3VweMMUuMMbONMbMHDx4cjqdQSkWpp9ZYvdFxruCh78O8Ej7bX8bWQxUhPf7FM7MBq4vn8jmBjdae2g6xPaHM3jkGGAN8ISJ7gWzgMxEZBhQAzi1hsu2y1sqVUqpHzelAGuPFf3qf7YeDr6x1av6tIFIWYLWl00HfGLPRGDPEGJNrjMnF6qqZaYw5DLwCfMOexXMiUG6MOQS8ASwUkQx7AHehXaaUUj0mPjaGGaPTWz3/yy9P8h8v/WBPu49X1iwvf2JcPwj6IvI08DEwQUTyReTaNi5fDuwG8oC/AjcAGGNKgTuBtfbPr+0ypZTqEY1eQ4PHS3Jc633r6clNC7ViOtAkLq8NDPr17vBttdhd2h1ZMMZc0c75XMexAb7XynVLgaWdrJ9SSnWLwxV1ACTGtR7NnRuUx0j7ffDNW/pTc1r/FhEpdEWuUqpfe2PzYQor67j0kY8A+Hh36/lxYh3Ne1cHBl6dLf2LZ44kNULSJ7cl8muolFIhKq91850n1gWUnTlxSKvXx3WypV9e2+A/bit1clIE9fVr0FdK9Vsf5hW3KLvshJwgV1qcrfv2Yn6du5GfvdSUnSajlcVX639xVoe+NfQUDfpKqX7J0+jlhqc+a1Ee38ocfQicv+/1tp1X/9rH1wbk3j9n6vCg1zkHhyOBBn2lVL/04ufWUqATx2YyZECiPwOmtNGEjw1o6bfdOv8wzxobSIyLYcuvFkXM4qv2aNBXSvUb3//XZ0zPSee6eWPZfLCClHgXT3/7RIyB1zcfbjdtcqyjpZ+Z0rEW+inHZvWZgA8a9JVS/ciyDYdYtuEQ180by6HyWkakJyEiiMCrPziF+NiOT1j0dHAzlfa+EUQaDfpKqX7BWibUZHdRNaMHNW2QMs6R5rg1zgyb7nb69H0iaWZOR+g8faVUv1DrWA1bVFnP7uLqgNTGHeFchdteV5CvR+fKuX0rG7AGfaVUn1dd7+GapWv9t0+4+y0avYb0pM7NnDlp7CB+c9EUBibGUlnnbvPa44YP5IwJgzlx7KCQ6txbNOgrpfq81zcd5pO9LdN5pSZ2rgdbRLhy7iiGpyW1yKvTXKPXtJqiOZL1vRorpVQzFa20ygeEmBYhLSmu3aDvNSaiFl11lAZ9pVSf99bWI0DLaZah5sJJTYylur7tjJker+lTUzV9NOgrpbrEGMOj7+1if0lNjz/32r2l5N76Kh/mlTAoJZ7Pfn4Wr/1wHlmpCQBMGNb+jJ1gYmMETzuzd7xeE7CYq6/QKZtKqS7JP1rLPa9tY9mGgyz7wbwefe7XNh72H/+/RRMBa4D1rVtOZf2BMnIyk1u7a5tcMcLWQxV4g7TmH3p7J3tLajhcUcfMPjZHH7Slr5TqopJqK9Ok0PMB0NDUGh+Z0bQJeXpyPKdPaD2bZnt83UVPrdnX4tzv39zB8+vyqXN7/a+9L9Ggr1QEOVReS3lN2wOIkeaoHfjSW8kyGU7O9Vi+Lp3u4EuktrdZl1VVfeCeuKFuoN6bNOgrFSGMMZz027e5bMnHvV2VTvn5y1Z64eyM0LpSusK5CjcrNfzZLO99bVvA7cYOrtqNJBr0lYoQh8qt7fy2Ha7s5Zp0XHmtm/yjtQAM6mCCsu702f4y/3FGGFIYN++w8jZL9eDuYH6eSKIDuUpFiKLK+t6uQqcV2vvOAjSa0Fq91fUekuJcnZ7+uGTVLjYWlDNjVDqLjx/WI9MnneMGQEA+/b5CW/pKRYjiqqag/+bmw5z/0AfUuRvxNHqZeecKnl+X34u1C67Q8UEVSleHp9HL5Dve4I5XNrd77Sd7SskrtL4F1TR4+M1yq6vlijmjuP7UYzr93KFono/H4+17LX0N+kpFCOcg4fVPrGNDfjl/eHM7H+0qobS6gf/3nw29WLvgCisdLf0Qgr6vpfzE6pazZHyKq+oprKzjq3/5mAX3rwLgra2F/vMJnUiX3FXNg35fbOlr945SEaLO3XIF6F/f38Nf398DROag4asbDgHWvPZQ6teRLqHZd73VomxPUTUA508bwfzjhnb6edvT2uKs9jJv9gXa0lcqQtRHeEDZVFDOVx75iGrHN5IDpbUkxMYwMDE2tKDfzn1qGjwtytyNXqobPCTGxfDgFTNCTrXQltZy6jQfuD1zYuhrAXqLBn2lIkS9OzCgxLtiSE+OY9boDABGpicFu1uPue2Fjazbd5TNB6256e5GL3tKqrn65FxcMTHtpi0Ixrn5ePNNUAAKK1oObpdWN1BZ5yE1IXzrAnzpFZrXqMER9E8bP5j/u2pm2OoQLhr0lYoQzbt3zpg4mOp6j7813NvfBEp9K2/tRvD6A2U0eLxMzU4jNkZoDGFQ09m9E2x1q2+g+EdnjfeXbT9cSWWdmwGdTJvcGb6W/t8+2BPwYeR8D4YNTCSxj+2aBR0I+iKyVEQKRWSTo+x3IrJNRDaIyIsiku44d5uI5InIdhE521G+yC7LE5Fbu/+lKNW3+QJKUpyL+786janZ6bgbDYft+fsVte6greGeVlXnYeED7/G1x9YgYrV4rT79zj+Ws6VfYM/39zHGsGzDQQBOnzCEcfYuWLuKqvh071GGDuy+FbjNHT8yzX/s7IJyTqudmpNGX9SRlv4/gEXNylYAxxtjpgI7gNsARGQScDkw2b7P/4mIS0RcwMPAYmAScIV9rVLKVu9pJCnOxfo7zuLimdlk23PCD9tz4RsavdS5e6+17/vA2V1czY4jVdR7vGSlJjAgMc4O+l1r6W89VBGwR+072wv558fWrJ7sjCTeuOlUAH713y0crqjj3CnDu/Jy2vTo12f5j30xv6Sqng/yirly7ijeuuU0rpzTt7ZJ9Gk36BtjVgGlzcreNMb4RlhWA9n28QXAM8aYemPMHiAPmGP/5BljdhtjGoBn7GuVUlityaLKepLiXSTEWl0G07L9X6BJjLP+VJ2bhRworeGChz8k/2jPpDQWu1/ng51F/rIMO99ObIwQyuxFZyv61hc2suhPq/yt/9qGpg+R9OS4FouvZozK6PwTdtDAxKbxAt8q3MMVdRgD847N4tghqf7fR1/THX363wJes49HAgcc5/LtstbKWxCR60XkUxH5tKioKNglSvU7972+jZfWHyTGEUhGD2rKZXPPxVMBKLOTsRljmHffO3xxoIwPdhaHvX6Hy+v8Afqd7U1/l7NzMwGICbGl3/wu+0pqGPvT5by8vsA/xvHo12YFDbDHdnLT81D5gn5lndXOTUvq+cRy3alLIyEicjvgAZ7qnuqAMWYJsARg9uzZvd+BqVQP+Muq3UDgqlwRYe895wLWalSwWpsThg1gU0FTdsek+PAOJta5GznxtysDykamJ3Hp7Gy++aUxgNXSf297EVsOVjBpxMAOP3Zr8/R/+Mx6//GU7OB95z01iOr7sPMF/QGJfTvoh9zSF5FrgPOAq0zT6FIBkOO4LNsua61cqah3xJG/pjWj7M1ADpTW8Mwn+/nyQx/4zwVb1NWdguUEGjowgZsWjA9o9VY3NAbUqyM6Mrc/JciHWrCycPFV8dm1+4HeSSHdnUIK+iKyCPgJcL4xxtmh+ApwuYgkiMgYYBzwCbAWGCciY0QkHmuw95WuVV2p8Cmpqu+xFbDOnOx/vGx60GuGDEggPjaGpz/Zz8Pv5gWccw5+hsPRmqaplBOGWtsPNu/i8M08avQaln6wh492dazLqXnWymCS41t2SGz45dlBrgwP3xiDr4Uf6m5ckaIjUzafBj4GJohIvohcCzwEDABWiMh6EXkUwBizGXgO2AK8DnzPGNNoD/p+H3gD2Ao8Z1+rVMTZU1zNrLve4vYXN4bt8X/03BfUe6xg7duA+82bT+XCGUGHuoiJEdyNXjYfrOBAaeDUxpowt/SP2uMI//nuSf76NV+x6rz162VbuPKvazr02B35YI135NaZZnf1tLZiNhx8XVCNXsOYrJQee95wabdP3xhzRZDiv7Vx/d3A3UHKlwPLO1U7pXrBGb9/F4Bn1h7gunljWwwYVta5SYh1BQSjznhgxQ5e+eIgBWU1PHP9SVTbqQaS2+mySIx1UesI8JNHDGRLs2mO4eBLu5CSEOv/XTRvfYc6kaWz36ae/c5JPb5IzesI+j35YRMuuiJXqTZsabYdnjGGKb98kxueWhfyY/pysvtWm9b4gmqQbgynM48LzPNy4/xxZKUmdGhMIFRHqxu44anPAEiOi+X0CYO5cf44fnbecQHXhdoCbq9759GvzQq4nRjn6vHZM6XVDRz70+W8uvGQPz1DX6ZBXykH36Cob/65p9kyU9/uVs7Uvp3la5k3eLwYY3jfnnKZnNB2S//er0zlS8cOAqzpnGdPHkbuoOQW+7h2pze3HPYfJ8W7iHPFcMtZ4xkyIDHguvsumcZ1p4zp1GMfKK1psefssh+cwj0XTwGsZGaLjh8WYs27z2+Wb/PnFdKWvlL9jC//yzdOygVaptJ1Zn0sqQptp6v/fGZthpJ/tJaD5XWs3GZ9gMS72v5zTE2IZek1J3Du1OH87erZAOQOSmFvcXVI9eiIBseKq7amhmamxPOz8yYFdPP8p41NX6rrPcy77x1ufnZ9QPnxI9PItLddHNyNG513Rb2jS01b+kr1M75APjzNasn6UunWuRv52wd7/HO1AV5efzCk53D2aOwrsQL29aeO7dAKz4RYFw9fOZNjh1izaHKzUiisrA+agjgUlz76Efe93rT598GypkHjpA7Mi3c5XsNvX9va6nXPrrXWah6xs2j+/tJpPP8/JwFWC/+mBeO4vVkXUm9xdkBpS1+pfqakymrpD7fTGPsGDR9cuZM7l23huU+bWq/OlAgd8cCKHZz9wCqq6j2MtfvA9xZbXTNzx2SGVF/fql3f43TV2r1H+b93d/lv+6aTDkqJ71DAc6ZKKK5qmTXT5x8f7Q24PSI90b+6N9YVw00LxgekQuhNziR3GvSV6mf+vc5qgfqSnfm2w/MNupY55qx3diPzP63cyfYj1h6vvg8TX96cQSF2Zfi6QEqDpCXurGAzaYqr6pk3Lot3f3x6hx7D1ezbiu+bjNPuoir2l9YweEDTa27rA6K3rd171H8cgZuXdZoGfaUclm+0Bi5H2wtwfN07voDo3DmpK1Ml77rweAB/qzojxFWevmmjzXd0CkV5bctvLuW1bgalxHc49UCCnRjuxvnjACvnfnNn/uE9wJpy6jNzVHqL6yJRRxaTRToN+krZfAOiC44bQqwrBleM+AdyfUHVl/AsKS5wznxn+aZt+qQnx4f0OHH24O+f397Jni4O6Dq/Lcy7723yCqsor3F3aoqkbxD2xLFWV42zBf/Y+7tZvvGQ//Zls3N45ftfYs9vzyE7o2+sci2J4G8kHaVBXynbp/usr/FfnW2liYpziT/Ye+xunr12d0V2RlKngr5zs5CfnjOxxbz2gSHuAuVr6X+2v4xzH3w/pMfw8c0qAmvv2wX3v0dFnYchAxPbuFegHy+cAMBxw6xW/J3LtvjP3fXqVv+cf4AR6UlMzU7vUymK95f2TBrrcArffmNK9TG+P+iTj80CrFZ0vcdLo9fw+mar26e4qoGkOBeZKfGd6t7xpUr46TkTuf7UY1qcDzXwOad51nRxZe4jjgFcp4taSQ0RzOIpw/2ZQZ3KawK7juJdMQG7U6meoy19pYCPd5Xw4MqdQFMGx4TYGNyN3hbb+A0ZmEBSvKtT2S2dqQy6U1yzVBDr9pW2uKbO3Ujura/yjw/3tPlYvg3YmxsR4obs3543hsS4GIwxAYu8AP7vqpkRPxPm3q9M6e0qhIUGfaWA93ZYG4PMyc30t7rjXFbQ33Y4MBXD6EEpJMW5KK5qaHPP2o92FfOle95m55FK/8rTVEfQv23xRAD/9M1QxLkCA+dlf1nd4hrfDKHm0yR9th+u5MnV+4J+IF08s+Ot/ObSk+Opc3up93h5vtlCLefMnUjV2xvRh4t27ygFFFbWMWRAAv/69lx/WXxsDA0eL1/klxEbI0wemcYXB8oYnZnM2MEpvLbpMLuKqvwLpZr78b83UFBWy8aCcn+iMmd+ne+cdgzfOa1lV09nNF/F6/EaNh8sZ8mq3fz47AlkZyT7F0BltTIt9Ow/rgJgQGKsvdetYfzQVHYcqeLLU0d0uW6eIInKsvpA0Heuxj5r0lDKa93MyQ1tPUUk0aCvFFZf/fC0RGIdQdRq6Rs2FlQwYVhTYB89KJkT7D/+nUeagn5BWS2/Xb6V+y6ZSnJ8rL/7p7qh0d/S7/bunSCpGx7/aC8vrz9ISVUDT14317/r1jGD295esLLOw1mThnLulOHMGp3BiPSkLnXBxNrfQrYequCjXSUB57JSQ5ut1JOcLf0Ygee+c1Iv1qb7aPeOinper2FzQTmjBwV2s5TXunl14yEKK+oYnpZEkZ3NcvSgFP9q0WrH4Ok9r21j2YZDrNhyBGhqKf78pU08b6/kHRDiLJ3WBEvv7IqxynxbL75vb2SeGuS5m3dPJca5uHDGSHIyk7vc5+77AP3uk9aMnXGOFNW+zd8jmbPbrRuWQUQMDfoqar2zvZBT73uHI5V1lFQ3MC0ncIGQb8XtrqIqMpLj/Ktycwclkxhv/ek4p21uKigHmhZyOVuKL3xu7Q6akdK9LVxfArBTxw/2lz39ibWtX4W92KrWbdWjefK4T/eWsvCBVQFl3m5cchpvt/R9Hz59raW8eMpwfmgvMgtl0/dIpd07Kmrd+9o29pfW8O52qyWcmRJ8EZK70ZCREu9Pr5uTmeyfv1/rSHTmWxxVWt1Ag8dLQ5DmYWaIi7BaIyJs+fXZxIgw8eevB5zzdSn5duh6d0dgOuhLHv24xeN1x8pen9iYpjblzFHpZKTEc8tZ4wNa/JFuut0Q8PSH/As2bemrqOXLr/OCvSgpo42AnJ4cxwOXTeOMCYNJjHP5M07WNjQFSd/A5aaCcv8c/onDAgd520pPHKrk+FgSg2TArKjz8Mi7u6i3W/oHSmt5cvW+Nh+rs0nk2hLrmFn03dOPBaz0DIunDO+25wi3gfZq5Iq67sliGgk06Kuo5Uum5kuoldlG10tGcjwXzcjm79+cA1j91fGumIDunXQ7f05NQ6N/C8SrT87l0a/NDEv9O+Le17cFBPKfvbSJfSXVLfryn7jWel3DOrH6tj3OmUWh5hbqbb56l9f0/fQLPhr0VdSoczdy2u/e8Q+0FlbWB+xL21ZLP1jQamj08uh7u/z94L4PgHqP1/8cyfEuFh0/nBdvOJlXbzyl215LZ1Q2a6UWVzW06K6YOGwgj39rDnfaieC6g3MmVHePZfSUYfa+CudPD329QqTRoK+iRv7RGvaV1HDLc9ZuTYUVdSycNNR/vnlg+sc3T/AfTxg2kNYU2QOVvimaDZ6mBV1nTrT2tZ0xKoPJI8KbdmDeuKwOXVdZ526R8jg53sVp4wd3OJtmRzi3muzusYyekhwfy7Y7F3HzgnG9XZVuo0Ff9Xsf7SqmuKreP/vG6zUs23CQkuoGJo0YyG2LJ3Li2Ex/+gUf5z6w7W387Wn0+ruLPt5dwp7iaiaPGNitQbQ9S685of2LgE/2lLLg/sBZOx3ZFauznN8wBvbwZubdKTHO1aeSwrVHZ++ofu1odQNX/nUNk0cMZN44a1rjoNQEHno7D4CTxmYxJTst6MpYX2749jR4vC26UFbvLm0xiBtuwRZq+Vw1dxRPrbGmcq50bOp+7SljuOH0YwJ2vOouvllDQwcmRHyenWiiQV/1azPuXAHA5oMVbD5odbk0eg3bj1Ryy1njmZLdepdLQpCFT8HMu++doOXNE7X1pC9+sZD597/rz2d/9cm5JMW5eOyDPf7du3xC3bWrPZfMymFXUTU/Wjg+LDiySDMAABl2SURBVI+vQqPdO6rfKrRX0DZXUFaLMTBpeOv99BB8tWtnDB7Ye/ll0pLjuP+r0/23szOSuP3clhuNe8K41DQp3sUvz5/co11cqn0a9FW/5UskdsaEwUHP+2ZmtCaUVAGnHNs0mOpbzdlbnCtwk1rpl3b3o0VHqmPaDfoislRECkVkk6MsU0RWiMhO+98Mu1xE5EERyRORDSIy03Gfq+3rd4rI1eF5OUo1OWpv3PHQlTNZ9oNTOH7kQG45q6mrYXi7Qb/tP49HvzYr4Pbt5xzHz8+bRGZKPJNHDOSCXpjm969vz2XFzacCcMbEIdx14fFsv2tRqwORJ+QGz6Gv+q+OtPT/ASxqVnYrsNIYMw5Yad8GWAyMs3+uBx4B60MCuAOYC8wB7vB9UCgVLnEu4VtfGkNKQizHj0xj2Q/mccmsbP/5thZjQcu0xc01zxR54YyRTBg2gM9+fhav3jgv9Ip3wcnHZDFuqDWA7IoRvnbi6IBvLG/aHwgAn9w+n4tmZLd4DNW/tRv0jTGrgObb8VwAPG4fPw5c6Cj/p7GsBtJFZDhwNrDCGFNqjDkKrKDlB4lS3cbrNbgbTYuslkMdK07bm4bX3owWZ376q+aO6hPpgtMdi8ycU1JV9Ah19s5QY4xvW/vDgG+Fy0jggOO6fLustfIWROR6rG8JjBo1KsTqqWhWXFXvXyjVfNqlb+pge/PufW6cP67VRU+5WSms+el8MpLjuzzo21Ocm7io6NTl/wHGGCMi3TYaZIxZAiwBmD17to4yqU55YMUO/mTvdQvBu2jW/WxB0ARlwTjHAIIZ2o25anpCOBZhqb4l1ObJEbvbBvtf32qPAiDHcV22XdZauYpSq3eXcMWS1Ww+WN6tj+sM+AAJQYLcoNSEbt/Bqq8IxyIs1beEGvRfAXwzcK4GXnaUf8OexXMiUG53A70BLBSRDHsAd6FdpqJQRZ2by5es5uPdJf5dlZp75pP95N76aqdS/b5lJzmbMrJpwVVCO4OxSkWbdps7IvI0cDqQJSL5WLNw7gGeE5FrgX3AV+3LlwPnAHlADfBNAGNMqYjcCay1r/u1Mab54LCKEov/+L7/eHArG2Tf+sJGAIor6/1bE7bn7uVbWzxmR1MpRJPcQcmU1XZf3nzVt7Qb9I0xV7Ryan6Qaw3wvVYeZymwtFO1U/1OWU0DBWVN6QkGpcTjafTy0vqDXDh9BLGumIAuH2e++vb45tXfctZ43t5m9TjOtjcwV03evPk0vEaHy6JVdHZsql7jDPhgBfVf/XcLT6zeh7vRyxVzRvHFgaagX9PQsaB/oLSGbYcr+crMbI4fmcbSa2YzMj2ZkelJ3Vr//qCvzDRS4aFBX/Uo32bjT1w7h0ff28X7O4t5f2cxAFV2psqfvrjRf311fce2qfMlPTtof6icOXFoW5crFbX0I1/1KN/m4eOHDiCvsCrgXK27scU2fmU17fc9O++TkqBTEpVqiwZ91WM+zCvmiY/3kZWawJABCdS5AzM8Hq1p8Kf9/ek5E0mMi+Ffn+xv93F3FVkfJKeNH8wfLp3eztVKRTcN+qpHGGO46rE17C6uZmp2GiLCPRdPCbjm7x/u5fP9ZQAsmjycOreXT/aUUloduCn1E6v38ZVHPmLnkUpqGjz+rf9uWjCOtD66AbdSPUX79FXYPbl6Hz97yZ+klePtefSLpwxnzU/n89GuYm5+9gsA9pXUAIFpj9/YfJjLZuf4Fxb93H6ssx5YRVpSnH+GT1sbmyulLBr0Vdg5Az4E5pwfOjCRi2Zk+4P+a5sOMSItkfjYGJZ8fRbXP7GO217YyGf7jlLd4MHbbM+Pcsd8cw36SrVPu3dUWAWbfTNxeMu9YxdOsmbb7Cup4fSJQ6yyycM4b+pwAP69Lp/lGw/z+ubDrT5X84yaSqmWNOirsNqQb825//s1J3Dj/HGIEHSF7ZVzmzKq5g5K9h//7pJpXDY7p8X1j31jNu/+7+n+2z89Z6LmlVGqA7RppMJq/QFrYHZ6TjpnTBzSatbK7IymQD88rWlBVVK8iwnDAr8ZxMYIU3PSGJyawCWzsjlr0lDOnjwsDLVXqv/RoK/CalNBOaMyk8loZ5eqUZlNQT/HcQwtu4N23r3YvwHK7y+d1k01VSo6aNBXYXW0poEhrSRVc3KmBpiekx5w7uRjslj3swUkxbsoqqxvd8crpVTrNOirsKppaOzwAOsfL5veap77QfbWhKMH6X9ZpbpC/4JUWNU2NDJ0YPstfbA2FldKhZfO3lFhVeP26L6sSkUQDfoqbBq9hgOltSTFaxI0pSKFBn0VNs+vOwAETsdUSvUuDfoqbLYcrADg2lPG9HJNlFI+GvRV2BSU1TFx2ADdqUmpCKJ/jarLXvw8n2fXtsx7X17boEnQlIowOq1CdcnHu0r8GTIvmZWDy5H/pqzGzbFDUnurakqpILSlr0LW4PHyvX995r9dVtPAxvxy6j2NFFXWk1dURVZqx+boK6V6hrb0VZvW7TvKY+/v5o+XTych1pp6WdvQyHs7Cnnk3V2UVjdw0YyRvPh5ATuOVHHFX1ez4Lgh5B+txZjA7JlKqd6nQV+16f4V2/kwr4RL84o5c+JQDpXXMu/ed/B4mzYjP3/6CF78vIAr/roagLe2FgIwc1Q6xw0f2Cv1VkoFp907qk1xLuu/yM4jVQA8u/ZAQMC/ecF4Tj5mUND7njt1RPgrqJTqFG3pqzblFVrB/lB5HYUVdfzxrZ3ECFx9ci5TRqZx0YyRAVkvb1s8kYNltazZU8oZEwb3VrWVUq3oUtAXkZuB6wADbAS+CQwHngEGAeuArxtjGkQkAfgnMAsoAS4zxuztyvOrjnnk3V0cqajjl+dP7tT93I1e8o/WAlBR6+b5z/IBuO+SaVwyKzvg2ikj09hYUM6ls3PIbCd3vlKq94Qc9EVkJHAjMMkYUysizwGXA+cADxhjnhGRR4FrgUfsf48aY44VkcuBe4HLuvwKVLvufX0bAD879zhiXe336B0orWHefe8ElG05VMGKLUeYMyazRcAHePLauewqrtKAr1SE62qffiyQJCKxQDJwCDgTeN4+/zhwoX18gX0b+/x80d0wwu7jXSX+4/2lNa1eV17jprzWDcC72wsDzsUIbDtcSWW9hzsvOD7o/dOS45g5KqMbaqyUCqeQg74xpgD4PbAfK9iXY3XnlBljPPZl+YAvSfpI4IB9X499fYsRQBG5XkQ+FZFPi4qKQq2est36wgb/8V/e2x30moKyWqb9+k2m/epNlqzaxcHyOlwxwurb5nPvV6Zw1dzRAMzJzWyxX61Sqm/pSvdOBlbrfQxQBvwbWNTVChljlgBLAGbPnm3auVw1s2Z3CTmZyYxIT6Kwso6BiXEAiMCaPSWc/cAqblowjsVThvvv86e3dviPf7Pc6goak5XCsLRELjthFKdPqCM5wcV3TzumZ1+MUqrbdaV7ZwGwxxhTZIxxAy8AXwLS7e4egGygwD4uAHIA7PNpWAO6qhN+9tJGZt/1Fn9eudNfVl7jpqreQ3mNm8uWrObke95mx5FK5ty9ko0F5Zw9eSjf+tIY9pbUsP1IJd9/+vOAx9xpz9C5bfFEf9mUkWn+46EDE7lt8XGkax4dpfq8rgT9/cCJIpJs983PB7YA7wCX2NdcDbxsH79i38Y+/7YxJqJb8u9uL2T74creroZfSVU9T67eT3FVPX9YsYN/fLgHYwyn/u4drvzr6oA++4UPrPIfZ6UmcNLYpp605Gabmhwur+MrM7P5zmnHMGdMJgCn63RLpfqlkLt3jDFrROR54DPAA3yO1S3zKvCMiNxll/3NvsvfgCdEJA8oxZrpE9Gu+ftaAPbec24v1wQ8jV5m3fUWAD86azx/WLGDX/53C3//aC/ltW425Jfz5Yc+aHG/08YP5n+adctU1Xv47WtbOX38EEqq6zlcUceoTGujk0y7Na/pkJXqn7o0T98YcwdwR7Pi3cCcINfWAZd25fnC6aO8Yq58bA0/PnsC3zvjWDyN3qDXeRq9vLX1CGdPHkZHJx89t/YAFXVurps3NuT6fZFf5j++cu4oFh0/jHP//AH7SlrOyLn7ouP5bF8Z/3PaWMYNtQZe69yN/vPGWIO6zoHdmaPTAbj93OPwGsMZE4aEXFelVOTSFbm2Xy/bAsDv3tjO7NEZDLAHQMHa69WXMvhPK3fy57fzePxbczhtfMe6QH7yH2sGzXlTRzAsLTGk+hVVNgCw7AenMCg1gUGpCay9fQHLNhzkubUH+CK/HIAbTj+Gq+aO9s+48UmMa3uf2pHpSQDkZCaz5BuzQ6qjUiry6Xd44MKHP2Sbo+/+siWrOefB9/23S6sb/Me+4NraN4HmKurc/uPvPPFpyHWstB8nLanpwygtKY6r5o7mka/NAmDumEx+smhi0PsDPP3tE5mWkx703Ag76Cul+reoD/qNXsP6A2VtXlNUWe8/Lqmyjttb2Tr7rhXk3voq//hwb1NhF9aiVdRZSx8GOr6B+IxIT2LvPefy7HdOavMxTjpmEN8/41jAmp3z+LesXrgxWSntfhNQSvUPUR/0fatQ2/Kb5Vv9xyVVVqvf2UfuVOduZOkHeyi2r7t/xQ4yU+IZkBjLpOGhLWz67xcHuXPZFmIEUhO71iOXmWJ9aHi8hskjBjIyPYlffHlSlx5TKdV3RHXQL6qs57d2QB+QGMt1p4xhoCOo/vGy6QB8kFfsLyu2W/qtBf3vPfWZf3zAp7S6gfTkOOrcLbuEahsa+WhXMa3NXi2raeAH9rz66TnpAdsRhiI53np9jV4vWakJfHjrmTpoq1QUidqB3P+sy+dH//7Cf3vlj05jyIBErjpxNOv2HSU2Rrhg+gh2HKlkyardeL0GEfy55IMF/Q35Zazc1pS3Zv7EIazcVsiPz57AS58XUO9peZ+7l2/hydX7efCKGSycNLRFN8ubm48AEOcSfnvx1C6/7uwMq+++KzOJlFJ9V9QGfWfABxgywJpVMyYrhTFZKf7ywQMS8HgNf1m1m9SEpoBc29AygPta5H/5+iwqat3+bJQiwqsbDlFQVgdYXUpxLiEh1sWTq/cDcOPTnzNvXBZPXDs34DH3lVYTGyNsv3MxMV1s5QMMSIyLiHUHSqneEZVBf8vBig5f6/sw8KUn9ql2BP3thyvJK6zCGEiMi2HhpKEt5vBvOWQ9p7vRy7RfvcnoQcktMla+v7OYrYcq/FsMbjtcwcPv7ALoloCvlFJR16dfUlXvn475p8utPvvvnt56IrHBAxKCljsHgL//r8/43r8+Y39pDd84KbfNRVu+geB9JTV8Y+knACyaPMx//n8d30B+9Yo1NjA8xLn9SinVXNS19C/9y8f+4/OnjWB4WhIzRwWfuw5wXCszbipq3bzwWT71Hq8/YRk09Zk39+jXZvE/T67j5fUFLc7dddHxnDlxCG9sPszq3U056HyfHat+ckabr0kppToq6oK+rw3+8JUzERF/grHWDEiMI0bA22xyTXmtm1ue+6LF9TkZyUEfZ6Kdh/6xD/a0OJeVmsBXT8ihqKqeldsKeWrNPq6cM4p9JTVcOH2Ef3NypZTqqqiLJqkJsZw6fjDnTh3e/sW2i2e23B7waE1DkCtbb+nn2oPDvoVeL9xwMgDTsptSGKcnW3Pob39xE2NuW05BWS2ZKcG7l5RSKhRRF/TrPV4SO5lB8rcXT/Efv3jDyZw5cYh/w/Dmsltp6Tc3c1QGb91yGi/c8CV/2YAgq23b+yailFKdEXXdOw0eb6fTBse5Ynjnf09n6MAEkuNjGZgY6w/6D185k3OmDONojZuCo7UkxbeezuC7px/DI+/u4o2bTgXg2CGpAefnjskkOyPJ/9g3zh/H2ZOHdqquSinVlqhs6YeSK35MVop/NauzNT9h2ABEhMyUeKY4umqC+X+LJrL3nnNb3Wd26MBE/vmtpqzUl87K7nD6ZqWU6oioC/oNjV4SurhByGUn5ACwcNLQFq31rkpNaPrylZPZsa4ipZTqqKjq3jla3UBRZT3xXZwNk5OZzMZfLgwI0N1lUKoO3Cqlwidqgn69p5EZd64AumcrwGCDrt3BFSNce8oYcgdpK18p1f2iJuiv2V3qP470/V9/fp6mOlZKhUdkR79u5MyJH+/SDUOUUtGpXwb9Bo+XTQXlFFZaWS0ffW9XwHaICXH98mUrpVS7+mX0K691c96fP+D1TYc5XF7HPa9ZGTIXHGfNec8dlNLW3ZVSqt/ql336g1LiAfjFy5sZP7RpTvyfr5jBlkPlzByV0VtVU0qpXtUvg74z9/z+khoA3rjpVJLiXcwarWkNlFLRq1927wBMsjci+cl/NgCQlRrfm9VRSqmI0G+D/gP2puZgzX3PSNagr5RSXQr6IpIuIs+LyDYR2SoiJ4lIpoisEJGd9r8Z9rUiIg+KSJ6IbBCRmd3zEoKbMGwA8ycOAaxWvm43qJRSXW/p/wl43RgzEZgGbAVuBVYaY8YBK+3bAIuBcfbP9cAjXXzudmXZKQ18XT1KKRXtQg76IpIGnAr8DcAY02CMKQMuAB63L3scuNA+vgD4p7GsBtJFpOM7mYQgPcVKlXD8yLazXyqlVLToSkt/DFAE/F1EPheRx0QkBRhqjDlkX3MY8CWEHwkccNw/3y4LICLXi8inIvJpUVFRF6oHibHWyttwJEZTSqm+qCtBPxaYCTxijJkBVNPUlQOAMcYAJsh9W2WMWWKMmW2MmT148OAuVA8umZXN5SfkcP70EV16HKWU6i+6EvTzgXxjzBr79vNYHwJHfN029r+F9vkCIMdx/2y7LGxyMpO55ytTGZ4WfN9apZSKNiEHfWPMYeCAiEywi+YDW4BXgKvtsquBl+3jV4Bv2LN4TgTKHd1ASimlekBXO7t/ADwlIvHAbuCbWB8kz4nItcA+4Kv2tcuBc4A8oMa+VimlVA/qUtA3xqwHZgc5NT/ItQb4XleeTymlVNf02xW5SimlWtKgr5RSUUSDvlJKRREN+kopFUU06CulVBQRa1JNZBKRIqxpn6HKAoq7qTq9oa/XH/r+a+jr9Ye+/xq0/p032hgTNKVBRAf9rhKRT40xwaaU9gl9vf7Q919DX68/9P3XoPXvXtq9o5RSUUSDvlJKRZH+HvSX9HYFuqiv1x/6/mvo6/WHvv8atP7dqF/36SullArU31v6SimlHDToK6VUFOmXQV9EFonIdhHJE5Fb279HzxORHBF5R0S2iMhmEfmhXZ4pIitEZKf9b4ZdLiLyoP2aNojIzN59BU1ExGVvmbnMvj1GRNbYdX3WTr2NiCTYt/Ps87m9WW+7Tuki8ryIbBORrSJyUl97D0TkZvv/0CYReVpEEiP9PRCRpSJSKCKbHGWd/r2LyNX29TtF5Opgz9WD9f+d/f9og4i8KCLpjnO32fXfLiJnO8p7PlYZY/rVD+ACdgFjgXjgC2BSb9crSD2HAzPt4wHADmAScB9wq11+K3CvfXwO8BogwInAmt5+DY7XcgvwL2CZffs54HL7+FHgu/bxDcCj9vHlwLMRUPfHgevs43ggvS+9B1j7TO8Bkhy/+2si/T0ATsXaaW+To6xTv3cgE2sfj0wgwz7O6MX6LwRi7eN7HfWfZMehBKy9xXfZcapXYlWv/ocN05txEvCG4/ZtwG29Xa8O1Ptl4CxgOzDcLhsObLeP/wJc4bjef10v1zsbWAmcCSyz/zCLHf/5/e8H8AZwkn0ca18nvVj3NDtgSrPyPvMe2EH/gB34Yu334Oy+8B4Auc2CZqd+78AVwF8c5QHX9XT9m527CHjKPg6IQb73oLdiVX/s3vH9Efjk22URy/6KPQNYAww1TdtIHgaG2seR+rr+CPwE8Nq3BwFlxhiPfdtZT/9rsM+X29f3ljFAEfB3u3vqMRFJoQ+9B8aYAuD3wH7gENbvdB195z1w6uzvPeLeD4dvYX07gQirf38M+n2KiKQC/wFuMsZUOM8Z6+M/YufUish5QKExZl1v1yVEsVhf0R8xxswAqrG6Ffz6wHuQAVyA9QE2AkgBFvVqpbpBpP/e2yIitwMe4Knerksw/THoFwA5jtvZdlnEEZE4rID/lDHmBbv4iIgMt88PBwrt8kh8XV8CzheRvcAzWF08fwLSRcS3Faeznv7XYJ9PA0p6ssLN5AP5xpg19u3nsT4E+tJ7sADYY4wpMsa4gRew3pe+8h44dfb3HnHvh4hcA5wHXGV/cEGE1b8/Bv21wDh79kI81mDVK71cpxZERIC/AVuNMfc7Tr0C+GYhXI3V1+8r/4Y9k+FEoNzxVbhXGGNuM8ZkG2NysX7PbxtjrgLeAS6xL2v+Gnyv7RL7+l5rzRljDgMHRGSCXTQf2EIfeg+wunVOFJFk+/+U7zX0ifegmc7+3t8AFopIhv2NZ6Fd1itEZBFWV+f5xpgax6lXgMvtmVNjgHHAJ/RWrOqpQY+e/MEa7d+BNTJ+e2/Xp5U6noL19XUDsN7+OQerf3UlsBN4C8i0rxfgYfs1bQRm9/ZraPZ6Tqdp9s5YrP/UecC/gQS7PNG+nWefHxsB9Z4OfGq/Dy9hzQLpU+8B8CtgG7AJeAJrlkhEvwfA01hjEG6sb1zXhvJ7x+o7z7N/vtnL9c/D6qP3/T0/6rj+drv+24HFjvIej1WahkEppaJIf+zeUUop1QoN+kopFUU06CulVBTRoK+UUlFEg75SSkURDfpKKRVFNOgrpVQU+f+R3MtZgPn+6QAAAABJRU5ErkJggg=="></div></div></div><div class="btn btn-default output_collapsed" title="click to expand output" style="display: none;">. . .</div></div></div><div class="cell code_cell rendered unselected" tabindex="2"><div class="input"><div class="prompt_container"><div class="prompt input_prompt"><bdi>In</bdi>&nbsp;[14]:</div><div class="run_this_cell" title="Run this cell"><i class="fa-step-forward fa"></i></div></div><div class="inner_cell"><div class="ctb_hideshow"><div class="celltoolbar"></div></div><div class="input_area" aria-label="Edit code here"><div class="CodeMirror cm-s-ipython"><div style="overflow: hidden; position: relative; width: 3px; height: 0px; top: 5.59375px; left: 155.766px;"><textarea autocorrect="off" autocapitalize="off" spellcheck="false" tabindex="0" style="position: absolute; bottom: -1em; padding: 0px; width: 1000px; height: 1em; outline: none;"></textarea></div><div class="CodeMirror-vscrollbar" tabindex="-1" cm-not-content="true"><div style="min-width: 1px; height: 0px;"></div></div><div class="CodeMirror-hscrollbar" tabindex="-1" cm-not-content="true"><div style="height: 100%; min-height: 1px; width: 0px;"></div></div><div class="CodeMirror-scrollbar-filler" cm-not-content="true"></div><div class="CodeMirror-gutter-filler" cm-not-content="true"></div><div class="CodeMirror-scroll" tabindex="-1"><div class="CodeMirror-sizer" style="margin-left: 0px; min-width: 158.766px; margin-bottom: -15px; border-right-width: 15px; min-height: 28px; padding-right: 0px; padding-bottom: 0px;"><div style="position: relative; top: 0px;"><div class="CodeMirror-lines" role="presentation"><div role="presentation" style="position: relative; outline: none;"><div class="CodeMirror-measure"></div><div class="CodeMirror-measure"></div><div style="position: relative; z-index: 1;"></div><div class="CodeMirror-cursors" style=""><div class="CodeMirror-cursor" style="left: 155.766px; top: 0px; height: 17px;">&nbsp;</div></div><div class="CodeMirror-code" role="presentation"><pre class=" CodeMirror-line " role="presentation"><span role="presentation" style="padding-right: 0.1px;"><span class="cm-keyword">import</span> <span class="cm-variable">numpy</span> <span class="cm-keyword">as</span> <span class="cm-variable">np</span></span></pre></div></div></div></div></div><div style="position: absolute; height: 15px; width: 1px; border-bottom: 0px solid transparent; top: 28px;"></div><div class="CodeMirror-gutters" style="display: none; height: 43px;"></div></div></div></div></div></div><div class="output_wrapper"><div class="out_prompt_overlay prompt" title="click to scroll output; double click to hide"></div><div class="output"></div><div class="btn btn-default output_collapsed" title="click to expand output" style="display: none;">. . .</div></div></div><div class="cell code_cell rendered unselected" tabindex="2"><div class="input"><div class="prompt_container"><div class="prompt input_prompt"><bdi>In</bdi>&nbsp;[15]:</div><div class="run_this_cell" title="Run this cell"><i class="fa-step-forward fa"></i></div></div><div class="inner_cell"><div class="ctb_hideshow"><div class="celltoolbar"></div></div><div class="input_area" aria-label="Edit code here"><div class="CodeMirror cm-s-ipython"><div style="overflow: hidden; position: relative; width: 3px; height: 0px; top: 5.59375px; left: 29.2969px;"><textarea autocorrect="off" autocapitalize="off" spellcheck="false" tabindex="0" style="position: absolute; bottom: -1em; padding: 0px; width: 1000px; height: 1em; outline: none;"></textarea></div><div class="CodeMirror-vscrollbar" tabindex="-1" cm-not-content="true"><div style="min-width: 1px; height: 0px;"></div></div><div class="CodeMirror-hscrollbar" tabindex="-1" cm-not-content="true"><div style="height: 100%; min-height: 1px; width: 0px;"></div></div><div class="CodeMirror-scrollbar-filler" cm-not-content="true"></div><div class="CodeMirror-gutter-filler" cm-not-content="true"></div><div class="CodeMirror-scroll" tabindex="-1"><div class="CodeMirror-sizer" style="margin-left: 0px; min-width: 32.2969px; margin-bottom: -15px; border-right-width: 15px; min-height: 28px; padding-right: 0px; padding-bottom: 0px;"><div style="position: relative; top: 0px;"><div class="CodeMirror-lines" role="presentation"><div role="presentation" style="position: relative; outline: none;"><div class="CodeMirror-measure"></div><div class="CodeMirror-measure"></div><div style="position: relative; z-index: 1;"></div><div class="CodeMirror-cursors" style="visibility: hidden;"><div class="CodeMirror-cursor" style="left: 29.2969px; top: 0px; height: 17px;">&nbsp;</div></div><div class="CodeMirror-code" role="presentation"><pre class=" CodeMirror-line " role="presentation"><span role="presentation" style="padding-right: 0.1px;"><span class="cm-variable">df1</span></span></pre></div></div></div></div></div><div style="position: absolute; height: 15px; width: 1px; border-bottom: 0px solid transparent; top: 28px;"></div><div class="CodeMirror-gutters" style="display: none; height: 43px;"></div></div></div></div></div></div><div class="output_wrapper"><div class="out_prompt_overlay prompt" title="click to scroll output; double click to hide"></div><div class="output"><div class="output_area"><div class="run_this_cell"></div><div class="prompt output_prompt"><bdi>Out[15]:</bdi></div><div class="output_subarea output_text output_result"><pre>0        642.90
1        629.25
2        635.44
3        622.69
4        622.36
         ...   
1252    1532.39
1253    1556.96
1254    1532.02
1255    1520.72
1256    1519.28
Name: close, Length: 1257, dtype: float64</pre></div></div></div><div class="btn btn-default output_collapsed" title="click to expand output" style="display: none;">. . .</div></div></div><div class="cell code_cell rendered unselected" tabindex="2"><div class="input"><div class="prompt_container"><div class="prompt input_prompt"><bdi>In</bdi>&nbsp;[16]:</div><div class="run_this_cell" title="Run this cell"><i class="fa-step-forward fa"></i></div></div><div class="inner_cell"><div class="ctb_hideshow"><div class="celltoolbar"></div></div><div class="input_area" aria-label="Edit code here"><div class="CodeMirror cm-s-ipython"><div style="overflow: hidden; position: relative; width: 3px; height: 0px; top: 39.5938px; left: 450.891px;"><textarea autocorrect="off" autocapitalize="off" spellcheck="false" tabindex="0" style="position: absolute; bottom: -1em; padding: 0px; width: 1000px; height: 1em; outline: none;"></textarea></div><div class="CodeMirror-vscrollbar" tabindex="-1" cm-not-content="true"><div style="min-width: 1px; height: 0px;"></div></div><div class="CodeMirror-hscrollbar" tabindex="-1" cm-not-content="true"><div style="height: 100%; min-height: 1px; width: 0px;"></div></div><div class="CodeMirror-scrollbar-filler" cm-not-content="true"></div><div class="CodeMirror-gutter-filler" cm-not-content="true"></div><div class="CodeMirror-scroll" tabindex="-1"><div class="CodeMirror-sizer" style="margin-left: 0px; min-width: 453.891px; margin-bottom: -15px; border-right-width: 15px; min-height: 62px; padding-right: 0px; padding-bottom: 0px;"><div style="position: relative; top: 0px;"><div class="CodeMirror-lines" role="presentation"><div role="presentation" style="position: relative; outline: none;"><div class="CodeMirror-measure"></div><div class="CodeMirror-measure"></div><div style="position: relative; z-index: 1;"></div><div class="CodeMirror-cursors" style="visibility: hidden;"><div class="CodeMirror-cursor" style="left: 450.891px; top: 34px; height: 17px;">&nbsp;</div></div><div class="CodeMirror-code" role="presentation"><pre class=" CodeMirror-line " role="presentation"><span role="presentation" style="padding-right: 0.1px;"><span class="cm-keyword">from</span> <span class="cm-variable">sklearn</span>.<span class="cm-property">preprocessing</span> <span class="cm-keyword">import</span> <span class="cm-variable">MinMaxScaler</span></span></pre><pre class=" CodeMirror-line " role="presentation"><span role="presentation" style="padding-right: 0.1px;"><span class="cm-variable">scaler</span><span class="cm-operator">=</span><span class="cm-variable">MinMaxScaler</span>(<span class="cm-variable">feature_range</span><span class="cm-operator">=</span>(<span class="cm-number">0</span>,<span class="cm-number">1</span>))</span></pre><pre class=" CodeMirror-line " role="presentation"><span role="presentation" style="padding-right: 0.1px;"><span class="cm-variable">df1</span><span class="cm-operator">=</span><span class="cm-variable">scaler</span>.<span class="cm-property">fit_transform</span><span class=" CodeMirror-matchingbracket">(</span><span class="cm-variable">np</span>.<span class="cm-property">array</span>(<span class="cm-variable">df1</span>).<span class="cm-property">reshape</span>(<span class="cm-operator">-</span><span class="cm-number">1</span>,<span class="cm-number">1</span>)<span class=" CodeMirror-matchingbracket">)</span></span></pre></div></div></div></div></div><div style="position: absolute; height: 15px; width: 1px; border-bottom: 0px solid transparent; top: 62px;"></div><div class="CodeMirror-gutters" style="display: none; height: 77px;"></div></div></div></div></div></div><div class="output_wrapper"><div class="out_prompt_overlay prompt" title="click to scroll output; double click to hide"></div><div class="output"></div><div class="btn btn-default output_collapsed" title="click to expand output" style="display: none;">. . .</div></div></div><div class="cell code_cell rendered unselected" tabindex="2"><div class="input"><div class="prompt_container"><div class="prompt input_prompt"><bdi>In</bdi>&nbsp;[17]:</div><div class="run_this_cell" title="Run this cell"><i class="fa-step-forward fa"></i></div></div><div class="inner_cell"><div class="ctb_hideshow"><div class="celltoolbar"></div></div><div class="input_area" aria-label="Edit code here"><div class="CodeMirror cm-s-ipython"><div style="overflow: hidden; position: relative; width: 3px; height: 0px; top: 5.59375px; left: 88.3281px;"><textarea autocorrect="off" autocapitalize="off" spellcheck="false" tabindex="0" style="position: absolute; bottom: -1em; padding: 0px; width: 1000px; height: 1em; outline: none;"></textarea></div><div class="CodeMirror-vscrollbar" tabindex="-1" cm-not-content="true"><div style="min-width: 1px; height: 0px;"></div></div><div class="CodeMirror-hscrollbar" tabindex="-1" cm-not-content="true"><div style="height: 100%; min-height: 1px; width: 0px;"></div></div><div class="CodeMirror-scrollbar-filler" cm-not-content="true"></div><div class="CodeMirror-gutter-filler" cm-not-content="true"></div><div class="CodeMirror-scroll" tabindex="-1"><div class="CodeMirror-sizer" style="margin-left: 0px; min-width: 91.3281px; margin-bottom: -15px; border-right-width: 15px; min-height: 28px; padding-right: 0px; padding-bottom: 0px;"><div style="position: relative; top: 0px;"><div class="CodeMirror-lines" role="presentation"><div role="presentation" style="position: relative; outline: none;"><div class="CodeMirror-measure"></div><div class="CodeMirror-measure"></div><div style="position: relative; z-index: 1;"></div><div class="CodeMirror-cursors" style="visibility: hidden;"><div class="CodeMirror-cursor" style="left: 88.3281px; top: 0px; height: 17px;">&nbsp;</div></div><div class="CodeMirror-code" role="presentation"><pre class=" CodeMirror-line " role="presentation"><span role="presentation" style="padding-right: 0.1px;"><span class="cm-builtin">print</span><span class=" CodeMirror-matchingbracket">(</span><span class="cm-variable">df1</span><span class=" CodeMirror-matchingbracket">)</span></span></pre></div></div></div></div></div><div style="position: absolute; height: 15px; width: 1px; border-bottom: 0px solid transparent; top: 28px;"></div><div class="CodeMirror-gutters" style="display: none; height: 43px;"></div></div></div></div></div></div><div class="output_wrapper"><div class="out_prompt_overlay prompt" title="click to scroll output; double click to hide"></div><div class="output"><div class="output_area"><div class="run_this_cell"></div><div class="prompt"></div><div class="output_subarea output_text output_stream output_stdout"><pre>[[0.04235965]
 [0.03031613]
 [0.03577762]
 ...
 [0.82683807]
 [0.81686798]
 [0.81559746]]
</pre></div></div></div><div class="btn btn-default output_collapsed" title="click to expand output" style="display: none;">. . .</div></div></div><div class="cell code_cell rendered unselected" tabindex="2"><div class="input"><div class="prompt_container"><div class="prompt input_prompt"><bdi>In</bdi>&nbsp;[18]:</div><div class="run_this_cell" title="Run this cell"><i class="fa-step-forward fa"></i></div></div><div class="inner_cell"><div class="ctb_hideshow"><div class="celltoolbar"></div></div><div class="input_area" aria-label="Edit code here"><div class="CodeMirror cm-s-ipython"><div style="overflow: hidden; position: relative; width: 3px; height: 0px; top: 5.59375px; left: 273.719px;"><textarea autocorrect="off" autocapitalize="off" spellcheck="false" tabindex="0" style="position: absolute; bottom: -1em; padding: 0px; width: 1000px; height: 1em; outline: none;"></textarea></div><div class="CodeMirror-vscrollbar" tabindex="-1" cm-not-content="true"><div style="min-width: 1px; height: 0px;"></div></div><div class="CodeMirror-hscrollbar" tabindex="-1" cm-not-content="true"><div style="height: 100%; min-height: 1px; width: 0px;"></div></div><div class="CodeMirror-scrollbar-filler" cm-not-content="true"></div><div class="CodeMirror-gutter-filler" cm-not-content="true"></div><div class="CodeMirror-scroll" tabindex="-1"><div class="CodeMirror-sizer" style="margin-left: 0px; min-width: 630.891px; margin-bottom: -15px; border-right-width: 15px; min-height: 79px; padding-right: 0px; padding-bottom: 0px;"><div style="position: relative; top: 0px;"><div class="CodeMirror-lines" role="presentation"><div role="presentation" style="position: relative; outline: none;"><div class="CodeMirror-measure"></div><div class="CodeMirror-measure"></div><div style="position: relative; z-index: 1;"></div><div class="CodeMirror-cursors" style="visibility: hidden;"><div class="CodeMirror-cursor" style="left: 273.719px; top: 0px; height: 17px;">&nbsp;</div></div><div class="CodeMirror-code" role="presentation"><pre class=" CodeMirror-line " role="presentation"><span role="presentation" style="padding-right: 0.1px;"><span class="cm-comment">##splitting into train and test </span></span></pre><pre class=" CodeMirror-line " role="presentation"><span role="presentation" style="padding-right: 0.1px;"><span class="cm-variable">training_size</span><span class="cm-operator">=</span><span class="cm-builtin">int</span>(<span class="cm-builtin">len</span>(<span class="cm-variable">df1</span>)<span class="cm-operator">*</span><span class="cm-number">0.65</span>)</span></pre><pre class=" CodeMirror-line " role="presentation"><span role="presentation" style="padding-right: 0.1px;"><span class="cm-variable">test_size</span><span class="cm-operator">=</span><span class="cm-builtin">len</span>(<span class="cm-variable">df1</span>)<span class="cm-operator">-</span><span class="cm-variable">training_size</span></span></pre><pre class=" CodeMirror-line " role="presentation"><span role="presentation" style="padding-right: 0.1px;"><span class="cm-variable">train_data</span>,<span class="cm-variable">test_data</span><span class="cm-operator">=</span><span class="cm-variable">df1</span>[<span class="cm-number">0</span>:<span class="cm-variable">training_size</span>,:],<span class="cm-variable">df1</span>[<span class="cm-variable">training_size</span>:<span class="cm-builtin">len</span>(<span class="cm-variable">df1</span>),:<span class="cm-number">1</span>]</span></pre></div></div></div></div></div><div style="position: absolute; height: 15px; width: 1px; border-bottom: 0px solid transparent; top: 79px;"></div><div class="CodeMirror-gutters" style="display: none; height: 94px;"></div></div></div></div></div></div><div class="output_wrapper"><div class="out_prompt_overlay prompt" title="click to scroll output; double click to hide"></div><div class="output"></div><div class="btn btn-default output_collapsed" title="click to expand output" style="display: none;">. . .</div></div></div><div class="cell code_cell rendered unselected" tabindex="2"><div class="input"><div class="prompt_container"><div class="prompt input_prompt"><bdi>In</bdi>&nbsp;[19]:</div><div class="run_this_cell" title="Run this cell"><i class="fa-step-forward fa"></i></div></div><div class="inner_cell"><div class="ctb_hideshow"><div class="celltoolbar"></div></div><div class="input_area" aria-label="Edit code here"><div class="CodeMirror cm-s-ipython"><div style="overflow: hidden; position: relative; width: 3px; height: 0px; top: 5.59375px; left: 197.875px;"><textarea autocorrect="off" autocapitalize="off" spellcheck="false" tabindex="0" style="position: absolute; bottom: -1em; padding: 0px; width: 1000px; height: 1em; outline: none;"></textarea></div><div class="CodeMirror-vscrollbar" tabindex="-1" cm-not-content="true"><div style="min-width: 1px; height: 0px;"></div></div><div class="CodeMirror-hscrollbar" tabindex="-1" cm-not-content="true"><div style="height: 100%; min-height: 1px; width: 0px;"></div></div><div class="CodeMirror-scrollbar-filler" cm-not-content="true"></div><div class="CodeMirror-gutter-filler" cm-not-content="true"></div><div class="CodeMirror-scroll" tabindex="-1"><div class="CodeMirror-sizer" style="margin-left: 0px; min-width: 200.875px; margin-bottom: -15px; border-right-width: 15px; min-height: 28px; padding-right: 0px; padding-bottom: 0px;"><div style="position: relative; top: 0px;"><div class="CodeMirror-lines" role="presentation"><div role="presentation" style="position: relative; outline: none;"><div class="CodeMirror-measure"></div><div class="CodeMirror-measure"></div><div style="position: relative; z-index: 1;"></div><div class="CodeMirror-cursors" style="visibility: hidden;"><div class="CodeMirror-cursor" style="left: 197.875px; top: 0px; height: 17px;">&nbsp;</div></div><div class="CodeMirror-code" role="presentation"><pre class=" CodeMirror-line " role="presentation"><span role="presentation" style="padding-right: 0.1px;"><span class="cm-variable">training_size</span>,<span class="cm-variable">test_size</span></span></pre></div></div></div></div></div><div style="position: absolute; height: 15px; width: 1px; border-bottom: 0px solid transparent; top: 28px;"></div><div class="CodeMirror-gutters" style="display: none; height: 43px;"></div></div></div></div></div></div><div class="output_wrapper"><div class="out_prompt_overlay prompt" title="click to scroll output; double click to hide"></div><div class="output"><div class="output_area"><div class="run_this_cell"></div><div class="prompt output_prompt"><bdi>Out[19]:</bdi></div><div class="output_subarea output_text output_result"><pre>(817, 440)</pre></div></div></div><div class="btn btn-default output_collapsed" title="click to expand output" style="display: none;">. . .</div></div></div><div class="cell code_cell rendered unselected" tabindex="2"><div class="input"><div class="prompt_container"><div class="prompt input_prompt"><bdi>In</bdi>&nbsp;[20]:</div><div class="run_this_cell" title="Run this cell"><i class="fa-step-forward fa"></i></div></div><div class="inner_cell"><div class="ctb_hideshow"><div class="celltoolbar"></div></div><div class="input_area" aria-label="Edit code here"><div class="CodeMirror cm-s-ipython"><div style="overflow: hidden; position: relative; width: 3px; height: 0px; top: 5.59375px; left: 88.2969px;"><textarea autocorrect="off" autocapitalize="off" spellcheck="false" tabindex="0" style="position: absolute; bottom: -1em; padding: 0px; width: 1000px; height: 1em; outline: none;"></textarea></div><div class="CodeMirror-vscrollbar" tabindex="-1" cm-not-content="true"><div style="min-width: 1px; height: 0px;"></div></div><div class="CodeMirror-hscrollbar" tabindex="-1" cm-not-content="true"><div style="height: 100%; min-height: 1px; width: 0px;"></div></div><div class="CodeMirror-scrollbar-filler" cm-not-content="true"></div><div class="CodeMirror-gutter-filler" cm-not-content="true"></div><div class="CodeMirror-scroll" tabindex="-1"><div class="CodeMirror-sizer" style="margin-left: 0px; min-width: 91.2969px; margin-bottom: -15px; border-right-width: 15px; min-height: 28px; padding-right: 0px; padding-bottom: 0px;"><div style="position: relative; top: 0px;"><div class="CodeMirror-lines" role="presentation"><div role="presentation" style="position: relative; outline: none;"><div class="CodeMirror-measure"></div><div class="CodeMirror-measure"></div><div style="position: relative; z-index: 1;"></div><div class="CodeMirror-cursors" style=""><div class="CodeMirror-cursor" style="left: 88.2969px; top: 0px; height: 17px;">&nbsp;</div></div><div class="CodeMirror-code" role="presentation"><pre class=" CodeMirror-line " role="presentation"><span role="presentation" style="padding-right: 0.1px;"><span class="cm-variable">train_data</span></span></pre></div></div></div></div></div><div style="position: absolute; height: 15px; width: 1px; border-bottom: 0px solid transparent; top: 28px;"></div><div class="CodeMirror-gutters" style="display: none; height: 43px;"></div></div></div></div></div></div><div class="output_wrapper"><div class="out_prompt_overlay prompt" title="click to unscroll output; double click to hide"></div><div class="output output_scroll"><div class="output_area"><div class="run_this_cell"></div><div class="prompt output_prompt"><bdi>Out[20]:</bdi></div><div class="output_subarea output_text output_result"><pre>array([[4.23596467e-02],
       [3.03161313e-02],
       [3.57776229e-02],
       [2.45281854e-02],
       [2.42370234e-02],
       [2.72721658e-02],
       [1.50698347e-02],
       [0.00000000e+00],
       [7.05847061e-05],
       [1.19376384e-02],
       [1.44698647e-02],
       [2.82515286e-02],
       [4.10979451e-02],
       [4.46007111e-02],
       [4.18832000e-02],
       [3.90598117e-02],
       [4.29860860e-02],
       [4.56859510e-02],
       [5.06533497e-02],
       [4.96475176e-02],
       [5.89823450e-02],
       [5.93882071e-02],
       [6.28292115e-02],
       [4.88710859e-02],
       [4.21037772e-02],
       [5.02033722e-02],
       [9.45040983e-02],
       [1.04015387e-01],
       [1.00230283e-01],
       [1.04165380e-01],
       [1.07668146e-01],
       [1.02277239e-01],
       [1.11365020e-01],
       [1.12291444e-01],
       [1.17541182e-01],
       [1.20311631e-01],
       [1.22526227e-01],
       [1.14700147e-01],
       [1.17726467e-01],
       [1.23973213e-01],
       [1.20293985e-01],
       [1.07738731e-01],
       [1.18291144e-01],
       [1.15061894e-01],
       [1.28031834e-01],
       [1.26628963e-01],
       [1.42678160e-01],
       [1.42131129e-01],
       [1.35337351e-01],
       [1.35222651e-01],
       [1.37084322e-01],
       [1.30325837e-01],
       [1.51889464e-01],
       [1.47777905e-01],
       [1.39095986e-01],
       [1.51686533e-01],
       [1.48545514e-01],
       [1.47769082e-01],
       [1.38275439e-01],
       [1.36378475e-01],
       [1.27034825e-01],
       [1.34887373e-01],
       [1.31031684e-01],
       [1.43992800e-01],
       [1.36352006e-01],
       [1.27423041e-01],
       [1.34887373e-01],
       [1.36854922e-01],
       [1.37128438e-01],
       [1.35443228e-01],
       [1.47892605e-01],
       [1.60324337e-01],
       [1.55383407e-01],
       [1.44689824e-01],
       [1.29655282e-01],
       [1.30308190e-01],
       [1.31225792e-01],
       [1.16023611e-01],
       [1.05506489e-01],
       [1.06882891e-01],
       [1.15741272e-01],
       [9.32335736e-02],
       [1.05727067e-01],
       [8.78426667e-02],
       [9.43188135e-02],
       [9.13719020e-02],
       [9.85538958e-02],
       [1.15017779e-01],
       [1.03036025e-01],
       [1.04244788e-01],
       [9.27306576e-02],
       [1.20055762e-01],
       [1.30634645e-01],
       [1.38619540e-01],
       [1.49780746e-01],
       [1.16517704e-01],
       [9.98067744e-02],
       [7.82431467e-02],
       [7.75108303e-02],
       [7.34257405e-02],
       [7.87284165e-02],
       [7.78372846e-02],
       [7.72108453e-02],
       [8.47987012e-02],
       [1.00150875e-01],
       [9.04013623e-02],
       [9.35423817e-02],
       [9.84391957e-02],
       [8.90778990e-02],
       [9.23512648e-02],
       [9.78127564e-02],
       [9.72127864e-02],
       [9.07719320e-02],
       [1.09335710e-01],
       [1.09371002e-01],
       [1.03697756e-01],
       [1.02347824e-01],
       [8.84691060e-02],
       [8.74191585e-02],
       [9.73627789e-02],
       [1.04050680e-01],
       [1.16403003e-01],
       [1.19641077e-01],
       [1.17735290e-01],
       [1.24582006e-01],
       [1.26073108e-01],
       [1.25914293e-01],
       [1.29875859e-01],
       [1.28693565e-01],
       [1.26320155e-01],
       [1.23884982e-01],
       [1.22323296e-01],
       [1.32240447e-01],
       [1.37322546e-01],
       [1.32399262e-01],
       [1.36775514e-01],
       [1.32699247e-01],
       [1.26090754e-01],
       [1.33052171e-01],
       [1.28278880e-01],
       [1.27281871e-01],
       [1.24590829e-01],
       [1.30758168e-01],
       [1.38372493e-01],
       [1.39678310e-01],
       [1.44795701e-01],
       [1.51510072e-01],
       [1.40322396e-01],
       [1.39210687e-01],
       [1.44919225e-01],
       [1.09300417e-01],
       [1.13164930e-01],
       [9.99214745e-02],
       [9.78921642e-02],
       [8.48163474e-02],
       [8.65721420e-02],
       [9.11601479e-02],
       [8.59986412e-02],
       [8.89455527e-02],
       [9.40011823e-02],
       [1.02550755e-01],
       [1.04121265e-01],
       [1.13191399e-01],
       [1.06229983e-01],
       [1.04483011e-01],
       [1.02294885e-01],
       [1.07288753e-01],
       [9.82362647e-02],
       [9.85891882e-02],
       [9.30218195e-02],
       [1.01333169e-01],
       [9.64804701e-02],
       [1.10465065e-01],
       [1.15035425e-01],
       [1.14020770e-01],
       [1.21555687e-01],
       [1.24255552e-01],
       [1.22870327e-01],
       [1.19561669e-01],
       [1.12450260e-01],
       [1.07341692e-01],
       [1.07429923e-01],
       [1.17691174e-01],
       [1.17955867e-01],
       [1.09865095e-01],
       [1.08938671e-01],
       [1.08859263e-01],
       [1.09432764e-01],
       [1.01880200e-01],
       [8.54339636e-02],
       [8.71897582e-02],
       [8.91573068e-02],
       [9.04984163e-02],
       [9.43893982e-02],
       [7.08758680e-02],
       [6.47349985e-02],
       [7.51285965e-02],
       [7.87195934e-02],
       [8.57692409e-02],
       [9.20424567e-02],
       [8.78779590e-02],
       [9.07719320e-02],
       [8.86455677e-02],
       [9.77068794e-02],
       [1.06053521e-01],
       [1.10950335e-01],
       [1.07721085e-01],
       [1.11223851e-01],
       [1.10253311e-01],
       [1.22543873e-01],
       [1.25349615e-01],
       [1.29081781e-01],
       [1.26823071e-01],
       [1.30449360e-01],
       [1.27828903e-01],
       [1.26637786e-01],
       [1.29593520e-01],
       [1.33246279e-01],
       [1.53433505e-01],
       [1.57042148e-01],
       [1.55445169e-01],
       [1.57306841e-01],
       [1.55921616e-01],
       [1.65282912e-01],
       [1.64877050e-01],
       [1.67082822e-01],
       [1.67453392e-01],
       [1.67603385e-01],
       [1.66165221e-01],
       [1.65477020e-01],
       [1.60800783e-01],
       [1.63244779e-01],
       [1.61118415e-01],
       [1.59283212e-01],
       [1.56398062e-01],
       [1.56336301e-01],
       [1.54183467e-01],
       [1.53980536e-01],
       [1.54095236e-01],
       [1.56398062e-01],
       [1.53698197e-01],
       [1.51898287e-01],
       [1.53424682e-01],
       [1.55789269e-01],
       [1.63394771e-01],
       [1.63632995e-01],
       [1.59194981e-01],
       [1.45378025e-01],
       [1.53636436e-01],
       [1.45404494e-01],
       [1.47874959e-01],
       [1.56053962e-01],
       [1.53512913e-01],
       [1.50707171e-01],
       [1.55745154e-01],
       [1.59989059e-01],
       [1.69685633e-01],
       [1.69412118e-01],
       [1.58215619e-01],
       [1.65979936e-01],
       [1.64700588e-01],
       [1.58921466e-01],
       [1.60933130e-01],
       [1.56759809e-01],
       [1.60174344e-01],
       [1.60209637e-01],
       [1.60553737e-01],
       [1.58983227e-01],
       [1.68565101e-01],
       [1.66032875e-01],
       [1.68741563e-01],
       [1.61727208e-01],
       [1.62027193e-01],
       [1.63288894e-01],
       [1.76788219e-01],
       [1.82346765e-01],
       [1.78296968e-01],
       [1.80414509e-01],
       [1.92537432e-01],
       [1.87737672e-01],
       [1.80149816e-01],
       [1.76867627e-01],
       [1.76885273e-01],
       [1.67329869e-01],
       [1.66509322e-01],
       [1.53354097e-01],
       [1.47557328e-01],
       [1.47460274e-01],
       [1.65547605e-01],
       [1.72597252e-01],
       [1.68009247e-01],
       [1.47936721e-01],
       [1.40401803e-01],
       [1.24573183e-01],
       [1.44345724e-01],
       [1.49630754e-01],
       [1.55586338e-01],
       [1.46154457e-01],
       [1.53795251e-01],
       [1.52974704e-01],
       [1.46551496e-01],
       [1.47160289e-01],
       [1.52948235e-01],
       [1.55242238e-01],
       [1.43948685e-01],
       [1.35019720e-01],
       [1.37296076e-01],
       [1.47901428e-01],
       [1.44892755e-01],
       [1.55551046e-01],
       [1.60165521e-01],
       [1.71520836e-01],
       [1.71503190e-01],
       [1.77529359e-01],
       [1.78385198e-01],
       [1.79073399e-01],
       [1.72853122e-01],
       [1.75852972e-01],
       [1.77811698e-01],
       [1.76170603e-01],
       [1.73258984e-01],
       [1.72067867e-01],
       [1.73514854e-01],
       [1.67779846e-01],
       [1.65785828e-01],
       [1.56106901e-01],
       [1.68741563e-01],
       [1.69412118e-01],
       [1.75694156e-01],
       [1.86396563e-01],
       [1.86837717e-01],
       [1.85196623e-01],
       [1.87949426e-01],
       [1.86581847e-01],
       [1.87922957e-01],
       [1.85037807e-01],
       [1.86325978e-01],
       [1.82889385e-01],
       [1.85399554e-01],
       [1.98007747e-01],
       [2.02031075e-01],
       [2.12442319e-01],
       [2.09336592e-01],
       [2.01536982e-01],
       [1.83017320e-01],
       [1.78138152e-01],
       [1.77172024e-01],
       [1.79673369e-01],
       [1.82285003e-01],
       [1.82152657e-01],
       [1.87120056e-01],
       [1.88364111e-01],
       [1.89405236e-01],
       [1.93031525e-01],
       [1.97945985e-01],
       [1.99013579e-01],
       [1.97716585e-01],
       [2.02286944e-01],
       [2.05736772e-01],
       [2.08904261e-01],
       [2.08110183e-01],
       [2.08613099e-01],
       [2.06239688e-01],
       [2.06804366e-01],
       [2.01448751e-01],
       [2.12062926e-01],
       [2.07995483e-01],
       [2.06627904e-01],
       [2.05480902e-01],
       [2.09124838e-01],
       [2.12177626e-01],
       [2.15098069e-01],
       [2.19130220e-01],
       [2.21150707e-01],
       [2.21221292e-01],
       [2.22615340e-01],
       [2.24009388e-01],
       [2.26956299e-01],
       [2.23674110e-01],
       [2.07845490e-01],
       [2.07077881e-01],
       [1.96481352e-01],
       [1.93702080e-01],
       [1.98184208e-01],
       [1.99428264e-01],
       [2.08683683e-01],
       [2.08763091e-01],
       [2.07051412e-01],
       [2.14983368e-01],
       [2.11471779e-01],
       [2.08683683e-01],
       [2.05569133e-01],
       [2.02736922e-01],
       [2.02789861e-01],
       [2.01572274e-01],
       [2.02428114e-01],
       [2.01757559e-01],
       [2.13765782e-01],
       [2.13456974e-01],
       [2.14683383e-01],
       [2.17718526e-01],
       [2.19077281e-01],
       [2.36344065e-01],
       [2.44761291e-01],
       [2.44258375e-01],
       [2.46481794e-01],
       [2.74459806e-01],
       [2.80291868e-01],
       [2.83706403e-01],
       [2.93058876e-01],
       [2.97135143e-01],
       [2.93138284e-01],
       [2.99464439e-01],
       [2.97585121e-01],
       [2.94594094e-01],
       [2.96199896e-01],
       [2.97629236e-01],
       [3.01917257e-01],
       [3.07140525e-01],
       [2.86512145e-01],
       [2.95882265e-01],
       [2.99208569e-01],
       [3.06134693e-01],
       [3.12275563e-01],
       [3.17692939e-01],
       [3.30557002e-01],
       [3.32259858e-01],
       [3.36150840e-01],
       [3.26427796e-01],
       [3.28271822e-01],
       [3.35903793e-01],
       [3.43032848e-01],
       [3.36759633e-01],
       [3.40615322e-01],
       [3.42794625e-01],
       [3.13166695e-01],
       [3.07052294e-01],
       [3.16316537e-01],
       [3.13987242e-01],
       [3.06531732e-01],
       [3.04299491e-01],
       [3.19819303e-01],
       [3.13872542e-01],
       [3.21654506e-01],
       [3.19572257e-01],
       [3.27071882e-01],
       [3.15319528e-01],
       [2.93314746e-01],
       [3.04925930e-01],
       [2.84897520e-01],
       [2.76903802e-01],
       [2.68054244e-01],
       [2.79533082e-01],
       [2.75103892e-01],
       [2.85603367e-01],
       [2.94611740e-01],
       [2.95749918e-01],
       [3.07872842e-01],
       [3.10810930e-01],
       [3.18601717e-01],
       [3.16334183e-01],
       [3.26904243e-01],
       [3.31748118e-01],
       [3.29330592e-01],
       [3.33539205e-01],
       [3.40085937e-01],
       [3.13934303e-01],
       [3.11375608e-01],
       [2.99279154e-01],
       [3.05843531e-01],
       [2.96111665e-01],
       [2.96402827e-01],
       [2.96014611e-01],
       [2.90067850e-01],
       [2.93870601e-01],
       [2.95105833e-01],
       [2.92838299e-01],
       [2.89406118e-01],
       [2.75589162e-01],
       [2.81897670e-01],
       [2.89203187e-01],
       [2.88806148e-01],
       [2.92988292e-01],
       [2.78888997e-01],
       [2.78615481e-01],
       [2.75077423e-01],
       [2.90985451e-01],
       [2.93023584e-01],
       [2.87976778e-01],
       [2.83221133e-01],
       [2.81385931e-01],
       [2.87985601e-01],
       [2.95291118e-01],
       [3.03902452e-01],
       [3.02146657e-01],
       [2.94302932e-01],
       [2.93738254e-01],
       [3.00920248e-01],
       [2.92582430e-01],
       [2.94858786e-01],
       [2.97496890e-01],
       [3.00161463e-01],
       [2.91356020e-01],
       [2.87103292e-01],
       [2.82435878e-01],
       [2.88444401e-01],
       [2.97064559e-01],
       [2.97832167e-01],
       [2.94373517e-01],
       [2.87703262e-01],
       [2.91135443e-01],
       [3.08455165e-01],
       [3.12875533e-01],
       [3.21354521e-01],
       [3.16201837e-01],
       [3.20189873e-01],
       [3.14798966e-01],
       [3.30927571e-01],
       [3.38806589e-01],
       [3.37139025e-01],
       [3.33256867e-01],
       [3.47947309e-01],
       [3.46694430e-01],
       [3.48326701e-01],
       [3.50373658e-01],
       [3.50532473e-01],
       [3.51088328e-01],
       [3.43712226e-01],
       [3.47020884e-01],
       [3.29595285e-01],
       [3.31439310e-01],
       [3.33900952e-01],
       [3.33221574e-01],
       [3.74434219e-01],
       [3.72528432e-01],
       [3.72113747e-01],
       [3.79931003e-01],
       [3.80001588e-01],
       [3.86089519e-01],
       [3.80283927e-01],
       [3.86839482e-01],
       [3.92592135e-01],
       [3.85013102e-01],
       [3.82198537e-01],
       [3.80151581e-01],
       [3.80372158e-01],
       [3.75881206e-01],
       [3.86107165e-01],
       [3.74275404e-01],
       [3.73648965e-01],
       [3.87862960e-01],
       [3.89159954e-01],
       [3.93262690e-01],
       [4.05262090e-01],
       [3.99262390e-01],
       [3.76542938e-01],
       [3.76322360e-01],
       [3.66405209e-01],
       [3.56267481e-01],
       [3.61976019e-01],
       [3.73648965e-01],
       [3.84721940e-01],
       [3.90121670e-01],
       [3.93695021e-01],
       [3.93147990e-01],
       [3.93262690e-01],
       [4.00797607e-01],
       [4.14067532e-01],
       [4.25493431e-01],
       [4.19793716e-01],
       [4.14738087e-01],
       [4.13573439e-01],
       [4.10476535e-01],
       [4.07494331e-01],
       [4.00991715e-01],
       [3.99906475e-01],
       [3.98371258e-01],
       [4.14782202e-01],
       [4.30204960e-01],
       [4.33663611e-01],
       [4.47630560e-01],
       [4.51786234e-01],
       [4.51186264e-01],
       [4.47965837e-01],
       [4.50533356e-01],
       [4.65303205e-01],
       [4.64862051e-01],
       [4.73879247e-01],
       [4.71946991e-01],
       [4.78758415e-01],
       [4.94904667e-01],
       [5.07398160e-01],
       [5.02342530e-01],
       [5.07751083e-01],
       [5.12577312e-01],
       [5.12347912e-01],
       [5.01857260e-01],
       [5.07371690e-01],
       [5.05395318e-01],
       [4.56162486e-01],
       [4.06664961e-01],
       [4.28546220e-01],
       [4.00294691e-01],
       [3.58773238e-01],
       [3.90765756e-01],
       [4.03259249e-01],
       [4.03400418e-01],
       [4.18929054e-01],
       [4.36416414e-01],
       [4.41075005e-01],
       [4.47833491e-01],
       [4.55668393e-01],
       [4.51512718e-01],
       [4.69300064e-01],
       [4.84264022e-01],
       [4.61800439e-01],
       [4.49836332e-01],
       [4.18770238e-01],
       [4.27063941e-01],
       [4.37660470e-01],
       [4.41304405e-01],
       [4.54168468e-01],
       [4.68603040e-01],
       [4.98636833e-01],
       [5.02571930e-01],
       [4.79340739e-01],
       [4.89328475e-01],
       [4.89407883e-01],
       [4.77187905e-01],
       [4.45504195e-01],
       [4.43642524e-01],
       [4.37616354e-01],
       [4.00735846e-01],
       [3.76463530e-01],
       [4.04379781e-01],
       [3.61931903e-01],
       [3.61455457e-01],
       [3.85480726e-01],
       [3.63140666e-01],
       [3.69263890e-01],
       [3.79613372e-01],
       [3.81969137e-01],
       [3.63643583e-01],
       [3.71063800e-01],
       [3.85348380e-01],
       [3.75051836e-01],
       [3.86115988e-01],
       [3.83257308e-01],
       [3.90942218e-01],
       [4.22864151e-01],
       [4.21028949e-01],
       [4.34810612e-01],
       [4.21805380e-01],
       [4.16943859e-01],
       [3.75060659e-01],
       [3.76119429e-01],
       [3.92759774e-01],
       [3.83945509e-01],
       [3.72722540e-01],
       [3.90351071e-01],
       [3.78942818e-01],
       [3.78360494e-01],
       [3.99968237e-01],
       [4.05773829e-01],
       [4.04997397e-01],
       [4.30452007e-01],
       [4.43519001e-01],
       [4.44127794e-01],
       [4.45839473e-01],
       [4.27337457e-01],
       [4.29578521e-01],
       [4.26772779e-01],
       [4.15982142e-01],
       [4.27646265e-01],
       [4.18955523e-01],
       [4.27743319e-01],
       [4.27346280e-01],
       [4.24187614e-01],
       [4.10652997e-01],
       [4.17252667e-01],
       [4.32419555e-01],
       [4.62868033e-01],
       [4.80328925e-01],
       [4.80655379e-01],
       [4.78202560e-01],
       [4.66714900e-01],
       [4.64076796e-01],
       [4.72123453e-01],
       [4.80355394e-01],
       [4.76358535e-01],
       [4.91648947e-01],
       [4.91772470e-01],
       [5.10477417e-01],
       [5.05712950e-01],
       [5.07283459e-01],
       [4.96536938e-01],
       [4.94613505e-01],
       [4.67553093e-01],
       [4.61950432e-01],
       [4.49174600e-01],
       [4.58209442e-01],
       [4.59471144e-01],
       [4.69891211e-01],
       [4.48212883e-01],
       [4.67076646e-01],
       [4.81105356e-01],
       [4.93351803e-01],
       [4.92284209e-01],
       [4.93219457e-01],
       [5.19318152e-01],
       [5.24029681e-01],
       [5.19653429e-01],
       [5.32835123e-01],
       [5.30258781e-01],
       [5.22388586e-01],
       [5.20579853e-01],
       [5.38746592e-01],
       [5.76315302e-01],
       [5.90096966e-01],
       [5.94182056e-01],
       [5.67862783e-01],
       [5.51310670e-01],
       [5.49122544e-01],
       [5.51548893e-01],
       [5.56966269e-01],
       [5.54813436e-01],
       [5.55748683e-01],
       [5.71144972e-01],
       [5.74135999e-01],
       [5.77215257e-01],
       [5.67077528e-01],
       [5.64783526e-01],
       [5.71039095e-01],
       [5.46581494e-01],
       [5.39620078e-01],
       [5.34740910e-01],
       [5.40749433e-01],
       [5.35323234e-01],
       [5.40361217e-01],
       [5.38640715e-01],
       [5.52113571e-01],
       [5.70792049e-01],
       [5.61377813e-01],
       [5.77391719e-01],
       [5.68409815e-01],
       [5.49943091e-01],
       [5.31246967e-01],
       [5.21965078e-01],
       [5.08695153e-01],
       [5.02863092e-01],
       [5.02695453e-01],
       [5.13918422e-01],
       [5.01089651e-01],
       [5.12127335e-01],
       [5.09656870e-01],
       [4.95116421e-01],
       [4.99677957e-01],
       [5.08386345e-01],
       [5.22309179e-01],
       [5.03974801e-01],
       [5.10398010e-01],
       [5.20350453e-01],
       [5.16680048e-01],
       [5.29164718e-01],
       [5.28132417e-01],
       [5.29755865e-01],
       [5.33990948e-01],
       [5.36496705e-01],
       [5.05827650e-01],
       [4.96263422e-01],
       [4.88869674e-01],
       [4.79914240e-01],
       [4.29093251e-01],
       [4.27416864e-01],
       [4.54556684e-01],
       [4.38825118e-01],
       [4.64438543e-01],
       [4.59506436e-01],
       [4.35048836e-01],
       [4.42539638e-01],
       [4.46686489e-01],
       [4.48918731e-01],
       [4.02174009e-01],
       [4.41754383e-01],
       [4.20490740e-01],
       [3.75148890e-01],
       [3.89380531e-01],
       [4.25166977e-01],
       [4.19193746e-01],
       [4.08420755e-01],
       [3.92803889e-01],
       [4.06673784e-01],
       [4.39830950e-01],
       [4.30134376e-01],
       [4.15796857e-01],
       [3.91515718e-01],
       [3.89239362e-01],
       [3.95953732e-01],
       [4.14526333e-01],
       [4.11685298e-01],
       [3.75078305e-01],
       [3.80160404e-01],
       [3.90615763e-01],
       [3.78501663e-01],
       [4.00329984e-01],
       [3.96615463e-01],
       [4.33513618e-01],
       [4.35339998e-01],
       [4.40748551e-01],
       [4.51336257e-01],
       [4.02271063e-01],
       [4.18073214e-01],
       [3.89706985e-01],
       [3.92327442e-01],
       [4.03091610e-01],
       [4.13617554e-01],
       [4.12047045e-01]])</pre></div></div></div><div class="btn btn-default output_collapsed" title="click to expand output" style="display: none;">. . .</div></div></div><div class="cell code_cell rendered unselected" tabindex="2"><div class="input"><div class="prompt_container"><div class="prompt input_prompt"><bdi>In</bdi>&nbsp;[22]:</div><div class="run_this_cell" title="Run this cell"><i class="fa-step-forward fa"></i></div></div><div class="inner_cell"><div class="ctb_hideshow"><div class="celltoolbar"></div></div><div class="input_area" aria-label="Edit code here"><div class="CodeMirror cm-s-ipython"><div style="overflow: hidden; position: relative; width: 3px; height: 0px; top: 73.5938px; left: 37.7188px;"><textarea autocorrect="off" autocapitalize="off" spellcheck="false" tabindex="0" style="position: absolute; bottom: -1em; padding: 0px; width: 1000px; height: 1em; outline: none;"></textarea></div><div class="CodeMirror-vscrollbar" tabindex="-1" cm-not-content="true"><div style="min-width: 1px; height: 0px;"></div></div><div class="CodeMirror-hscrollbar" tabindex="-1" cm-not-content="true"><div style="height: 100%; min-height: 1px; width: 0px;"></div></div><div class="CodeMirror-scrollbar-filler" cm-not-content="true"></div><div class="CodeMirror-gutter-filler" cm-not-content="true"></div><div class="CodeMirror-scroll" tabindex="-1"><div class="CodeMirror-sizer" style="margin-left: 0px; min-width: 605.562px; margin-bottom: -15px; border-right-width: 15px; min-height: 164px; padding-right: 0px; padding-bottom: 0px;"><div style="position: relative; top: 0px;"><div class="CodeMirror-lines" role="presentation"><div role="presentation" style="position: relative; outline: none;"><div class="CodeMirror-measure"></div><div class="CodeMirror-measure"></div><div style="position: relative; z-index: 1;"></div><div class="CodeMirror-cursors" style=""><div class="CodeMirror-cursor" style="left: 37.7188px; top: 68px; height: 17px;">&nbsp;</div></div><div class="CodeMirror-code" role="presentation" style=""><pre class=" CodeMirror-line " role="presentation"><span role="presentation" style="padding-right: 0.1px;"><span class="cm-keyword">import</span> <span class="cm-variable">numpy</span></span></pre><pre class=" CodeMirror-line " role="presentation"><span role="presentation" style="padding-right: 0.1px;"><span class="cm-comment"># convert an array of values into a dataset matrix</span></span></pre><pre class=" CodeMirror-line " role="presentation"><span role="presentation" style="padding-right: 0.1px;"><span class="cm-keyword">def</span> <span class="cm-def">create_dataset</span>(<span class="cm-variable">dataset</span>, <span class="cm-variable">time_step</span><span class="cm-operator">=</span><span class="cm-number">1</span>):</span></pre><pre class=" CodeMirror-line " role="presentation"><span role="presentation" style="padding-right: 0.1px;"><span class="cm-tab" role="presentation" cm-text="	">    </span><span class="cm-variable">dataX</span>, <span class="cm-variable">dataY</span> <span class="cm-operator">=</span> [], []</span></pre><pre class=" CodeMirror-line " role="presentation"><span role="presentation" style="padding-right: 0.1px;"><span class="cm-tab" role="presentation" cm-text="	">    </span><span class="cm-keyword">for</span> <span class="cm-variable">i</span> <span class="cm-keyword">in</span> <span class="cm-builtin">range</span>(<span class="cm-builtin">len</span>(<span class="cm-variable">dataset</span>)<span class="cm-operator">-</span><span class="cm-variable">time_step</span><span class="cm-operator">-</span><span class="cm-number">1</span>):</span></pre><pre class=" CodeMirror-line " role="presentation"><span role="presentation" style="padding-right: 0.1px;"><span class="cm-tab" role="presentation" cm-text="	">    </span><span class="cm-tab" role="presentation" cm-text="	">    </span><span class="cm-variable">a</span> <span class="cm-operator">=</span> <span class="cm-variable">dataset</span>[<span class="cm-variable">i</span>:(<span class="cm-variable">i</span><span class="cm-operator">+</span><span class="cm-variable">time_step</span>), <span class="cm-number">0</span>]   <span class="cm-comment">###i=0, 0,1,2,3-----99   100 </span></span></pre><pre class=" CodeMirror-line " role="presentation"><span role="presentation" style="padding-right: 0.1px;"><span class="cm-tab" role="presentation" cm-text="	">    </span><span class="cm-tab" role="presentation" cm-text="	">    </span><span class="cm-variable">dataX</span>.<span class="cm-property">append</span>(<span class="cm-variable">a</span>)</span></pre><pre class=" CodeMirror-line " role="presentation"><span role="presentation" style="padding-right: 0.1px;"><span class="cm-tab" role="presentation" cm-text="	">    </span><span class="cm-tab" role="presentation" cm-text="	">    </span><span class="cm-variable">dataY</span>.<span class="cm-property">append</span>(<span class="cm-variable">dataset</span>[<span class="cm-variable">i</span> <span class="cm-operator">+</span> <span class="cm-variable">time_step</span>, <span class="cm-number">0</span>])</span></pre><pre class=" CodeMirror-line " role="presentation"><span role="presentation" style="padding-right: 0.1px;"><span class="cm-tab" role="presentation" cm-text="	">    </span><span class="cm-keyword">return</span> <span class="cm-variable">numpy</span>.<span class="cm-property">array</span>(<span class="cm-variable">dataX</span>), <span class="cm-variable">numpy</span>.<span class="cm-property">array</span>(<span class="cm-variable">dataY</span>)</span></pre></div></div></div></div></div><div style="position: absolute; height: 15px; width: 1px; border-bottom: 0px solid transparent; top: 164px;"></div><div class="CodeMirror-gutters" style="display: none; height: 179px;"></div></div></div></div></div></div><div class="output_wrapper"><div class="out_prompt_overlay prompt" title="click to scroll output; double click to hide"></div><div class="output"></div><div class="btn btn-default output_collapsed" title="click to expand output" style="display: none;">. . .</div></div></div><div class="cell code_cell rendered unselected" tabindex="2"><div class="input"><div class="prompt_container"><div class="prompt input_prompt"><bdi>In</bdi>&nbsp;[23]:</div><div class="run_this_cell" title="Run this cell"><i class="fa-step-forward fa"></i></div></div><div class="inner_cell"><div class="ctb_hideshow"><div class="celltoolbar"></div></div><div class="input_area" aria-label="Edit code here"><div class="CodeMirror cm-s-ipython"><div style="overflow: hidden; position: relative; width: 3px; height: 0px; top: 56.5938px; left: 442.375px;"><textarea autocorrect="off" autocapitalize="off" spellcheck="false" tabindex="0" style="position: absolute; bottom: -1em; padding: 0px; width: 1000px; height: 1em; outline: none;"></textarea></div><div class="CodeMirror-vscrollbar" tabindex="-1" cm-not-content="true"><div style="min-width: 1px; height: 0px;"></div></div><div class="CodeMirror-hscrollbar" tabindex="-1" cm-not-content="true"><div style="height: 100%; min-height: 1px; width: 0px;"></div></div><div class="CodeMirror-scrollbar-filler" cm-not-content="true"></div><div class="CodeMirror-gutter-filler" cm-not-content="true"></div><div class="CodeMirror-scroll" tabindex="-1"><div class="CodeMirror-sizer" style="margin-left: 0px; min-width: 479.109px; margin-bottom: -15px; border-right-width: 15px; min-height: 79px; padding-right: 0px; padding-bottom: 0px;"><div style="position: relative; top: 0px;"><div class="CodeMirror-lines" role="presentation"><div role="presentation" style="position: relative; outline: none;"><div class="CodeMirror-measure"></div><div class="CodeMirror-measure"></div><div style="position: relative; z-index: 1;"></div><div class="CodeMirror-cursors" style=""><div class="CodeMirror-cursor" style="left: 442.375px; top: 51px; height: 17px;">&nbsp;</div></div><div class="CodeMirror-code" role="presentation"><pre class=" CodeMirror-line " role="presentation"><span role="presentation" style="padding-right: 0.1px;"><span class="cm-comment"># reshape into X=t,t+1,t+2,t+3 and Y=t+4</span></span></pre><pre class=" CodeMirror-line " role="presentation"><span role="presentation" style="padding-right: 0.1px;"><span class="cm-variable">time_step</span> <span class="cm-operator">=</span> <span class="cm-number">100</span></span></pre><pre class=" CodeMirror-line " role="presentation"><span role="presentation" style="padding-right: 0.1px;"><span class="cm-variable">X_train</span>, <span class="cm-variable">y_train</span> <span class="cm-operator">=</span> <span class="cm-variable">create_dataset</span>(<span class="cm-variable">train_data</span>, <span class="cm-variable">time_step</span>)</span></pre><pre class=" CodeMirror-line " role="presentation"><span role="presentation" style="padding-right: 0.1px;"><span class="cm-variable">X_test</span>, <span class="cm-variable">ytest</span> <span class="cm-operator">=</span> <span class="cm-variable">create_dataset</span><span class=" CodeMirror-matchingbracket">(</span><span class="cm-variable">test_data</span>, <span class="cm-variable">time_step</span><span class=" CodeMirror-matchingbracket">)</span></span></pre></div></div></div></div></div><div style="position: absolute; height: 15px; width: 1px; border-bottom: 0px solid transparent; top: 79px;"></div><div class="CodeMirror-gutters" style="display: none; height: 94px;"></div></div></div></div></div></div><div class="output_wrapper"><div class="out_prompt_overlay prompt" title="click to scroll output; double click to hide"></div><div class="output"></div><div class="btn btn-default output_collapsed" title="click to expand output" style="display: none;">. . .</div></div></div><div class="cell code_cell rendered unselected" tabindex="2"><div class="input"><div class="prompt_container"><div class="prompt input_prompt"><bdi>In</bdi>&nbsp;[24]:</div><div class="run_this_cell" title="Run this cell"><i class="fa-step-forward fa"></i></div></div><div class="inner_cell"><div class="ctb_hideshow"><div class="celltoolbar"></div></div><div class="input_area" aria-label="Edit code here"><div class="CodeMirror cm-s-ipython"><div style="overflow: hidden; position: relative; width: 3px; height: 0px; top: 5.59375px; left: 358.141px;"><textarea autocorrect="off" autocapitalize="off" spellcheck="false" tabindex="0" style="position: absolute; bottom: -1em; padding: 0px; width: 1000px; height: 1em; outline: none;"></textarea></div><div class="CodeMirror-vscrollbar" tabindex="-1" cm-not-content="true"><div style="min-width: 1px; height: 0px;"></div></div><div class="CodeMirror-hscrollbar" tabindex="-1" cm-not-content="true"><div style="height: 100%; min-height: 1px; width: 0px;"></div></div><div class="CodeMirror-scrollbar-filler" cm-not-content="true"></div><div class="CodeMirror-gutter-filler" cm-not-content="true"></div><div class="CodeMirror-scroll" tabindex="-1"><div class="CodeMirror-sizer" style="margin-left: 0px; min-width: 361.141px; margin-bottom: -15px; border-right-width: 15px; min-height: 28px; padding-right: 0px; padding-bottom: 0px;"><div style="position: relative; top: 0px;"><div class="CodeMirror-lines" role="presentation"><div role="presentation" style="position: relative; outline: none;"><div class="CodeMirror-measure"></div><div class="CodeMirror-measure"></div><div style="position: relative; z-index: 1;"></div><div class="CodeMirror-cursors" style="visibility: hidden;"><div class="CodeMirror-cursor" style="left: 358.141px; top: 0px; height: 17px;">&nbsp;</div></div><div class="CodeMirror-code" role="presentation"><pre class=" CodeMirror-line " role="presentation"><span role="presentation" style="padding-right: 0.1px;"><span class="cm-builtin">print</span>(<span class="cm-variable">X_train</span>.<span class="cm-property">shape</span>), <span class="cm-builtin">print</span><span class=" CodeMirror-matchingbracket">(</span><span class="cm-variable">y_train</span>.<span class="cm-property">shape</span><span class=" CodeMirror-matchingbracket">)</span></span></pre></div></div></div></div></div><div style="position: absolute; height: 15px; width: 1px; border-bottom: 0px solid transparent; top: 28px;"></div><div class="CodeMirror-gutters" style="display: none; height: 43px;"></div></div></div></div></div></div><div class="output_wrapper"><div class="out_prompt_overlay prompt" title="click to scroll output; double click to hide"></div><div class="output"><div class="output_area"><div class="run_this_cell"></div><div class="prompt"></div><div class="output_subarea output_text output_stream output_stdout"><pre>(716, 100)
(716,)
</pre></div></div><div class="output_area"><div class="run_this_cell"></div><div class="prompt output_prompt"><bdi>Out[24]:</bdi></div><div class="output_subarea output_text output_result"><pre>(None, None)</pre></div></div></div><div class="btn btn-default output_collapsed" title="click to expand output" style="display: none;">. . .</div></div></div><div class="cell code_cell rendered unselected" tabindex="2"><div class="input"><div class="prompt_container"><div class="prompt input_prompt"><bdi>In</bdi>&nbsp;[25]:</div><div class="run_this_cell" title="Run this cell"><i class="fa-step-forward fa"></i></div></div><div class="inner_cell"><div class="ctb_hideshow"><div class="celltoolbar"></div></div><div class="input_area" aria-label="Edit code here"><div class="CodeMirror cm-s-ipython"><div style="overflow: hidden; position: relative; width: 3px; height: 0px; top: 5.59375px; left: 332.844px;"><textarea autocorrect="off" autocapitalize="off" spellcheck="false" tabindex="0" style="position: absolute; bottom: -1em; padding: 0px; width: 1000px; height: 1em; outline: none;"></textarea></div><div class="CodeMirror-vscrollbar" tabindex="-1" cm-not-content="true"><div style="min-width: 1px; height: 0px;"></div></div><div class="CodeMirror-hscrollbar" tabindex="-1" cm-not-content="true"><div style="height: 100%; min-height: 1px; width: 0px;"></div></div><div class="CodeMirror-scrollbar-filler" cm-not-content="true"></div><div class="CodeMirror-gutter-filler" cm-not-content="true"></div><div class="CodeMirror-scroll" tabindex="-1"><div class="CodeMirror-sizer" style="margin-left: 0px; min-width: 335.844px; margin-bottom: -15px; border-right-width: 15px; min-height: 28px; padding-right: 0px; padding-bottom: 0px;"><div style="position: relative; top: 0px;"><div class="CodeMirror-lines" role="presentation"><div role="presentation" style="position: relative; outline: none;"><div class="CodeMirror-measure"></div><div class="CodeMirror-measure"></div><div style="position: relative; z-index: 1;"></div><div class="CodeMirror-cursors" style="visibility: hidden;"><div class="CodeMirror-cursor" style="left: 332.844px; top: 0px; height: 17px;">&nbsp;</div></div><div class="CodeMirror-code" role="presentation"><pre class=" CodeMirror-line " role="presentation"><span role="presentation" style="padding-right: 0.1px;"><span class="cm-builtin">print</span>(<span class="cm-variable">X_test</span>.<span class="cm-property">shape</span>), <span class="cm-builtin">print</span><span class=" CodeMirror-matchingbracket">(</span><span class="cm-variable">ytest</span>.<span class="cm-property">shape</span><span class=" CodeMirror-matchingbracket">)</span></span></pre></div></div></div></div></div><div style="position: absolute; height: 15px; width: 1px; border-bottom: 0px solid transparent; top: 28px;"></div><div class="CodeMirror-gutters" style="display: none; height: 43px;"></div></div></div></div></div></div><div class="output_wrapper"><div class="out_prompt_overlay prompt" title="click to scroll output; double click to hide"></div><div class="output"><div class="output_area"><div class="run_this_cell"></div><div class="prompt"></div><div class="output_subarea output_text output_stream output_stdout"><pre>(339, 100)
(339,)
</pre></div></div><div class="output_area"><div class="run_this_cell"></div><div class="prompt output_prompt"><bdi>Out[25]:</bdi></div><div class="output_subarea output_text output_result"><pre>(None, None)</pre></div></div></div><div class="btn btn-default output_collapsed" title="click to expand output" style="display: none;">. . .</div></div></div><div class="cell code_cell rendered unselected" tabindex="2"><div class="input"><div class="prompt_container"><div class="prompt input_prompt"><bdi>In</bdi>&nbsp;[26]:</div><div class="run_this_cell" title="Run this cell"><i class="fa-step-forward fa"></i></div></div><div class="inner_cell"><div class="ctb_hideshow"><div class="celltoolbar"></div></div><div class="input_area" aria-label="Edit code here"><div class="CodeMirror cm-s-ipython"><div style="overflow: hidden; position: relative; width: 3px; height: 0px; top: 22.5938px; left: 509.906px;"><textarea autocorrect="off" autocapitalize="off" spellcheck="false" tabindex="0" style="position: absolute; bottom: -1em; padding: 0px; width: 1000px; height: 1em; outline: none;"></textarea></div><div class="CodeMirror-vscrollbar" tabindex="-1" cm-not-content="true"><div style="min-width: 1px; height: 0px;"></div></div><div class="CodeMirror-hscrollbar" tabindex="-1" cm-not-content="true"><div style="height: 100%; min-height: 1px; width: 0px;"></div></div><div class="CodeMirror-scrollbar-filler" cm-not-content="true"></div><div class="CodeMirror-gutter-filler" cm-not-content="true"></div><div class="CodeMirror-scroll" tabindex="-1"><div class="CodeMirror-sizer" style="margin-left: 0px; min-width: 538.219px; margin-bottom: -15px; border-right-width: 15px; min-height: 45px; padding-right: 0px; padding-bottom: 0px;"><div style="position: relative; top: 0px;"><div class="CodeMirror-lines" role="presentation"><div role="presentation" style="position: relative; outline: none;"><div class="CodeMirror-measure"></div><div class="CodeMirror-measure"></div><div style="position: relative; z-index: 1;"></div><div class="CodeMirror-cursors" style="visibility: hidden;"><div class="CodeMirror-cursor" style="left: 509.906px; top: 17px; height: 17px;">&nbsp;</div></div><div class="CodeMirror-code" role="presentation"><pre class=" CodeMirror-line " role="presentation"><span role="presentation" style="padding-right: 0.1px;"><span class="cm-variable">X_train</span> <span class="cm-operator">=</span><span class="cm-variable">X_train</span>.<span class="cm-property">reshape</span>(<span class="cm-variable">X_train</span>.<span class="cm-property">shape</span>[<span class="cm-number">0</span>],<span class="cm-variable">X_train</span>.<span class="cm-property">shape</span>[<span class="cm-number">1</span>] , <span class="cm-number">1</span>)</span></pre><pre class=" CodeMirror-line " role="presentation"><span role="presentation" style="padding-right: 0.1px;"><span class="cm-variable">X_test</span> <span class="cm-operator">=</span> <span class="cm-variable">X_test</span>.<span class="cm-property">reshape</span><span class=" CodeMirror-matchingbracket">(</span><span class="cm-variable">X_test</span>.<span class="cm-property">shape</span>[<span class="cm-number">0</span>],<span class="cm-variable">X_test</span>.<span class="cm-property">shape</span>[<span class="cm-number">1</span>] , <span class="cm-number">1</span><span class=" CodeMirror-matchingbracket">)</span></span></pre></div></div></div></div></div><div style="position: absolute; height: 15px; width: 1px; border-bottom: 0px solid transparent; top: 45px;"></div><div class="CodeMirror-gutters" style="display: none; height: 60px;"></div></div></div></div></div></div><div class="output_wrapper"><div class="out_prompt_overlay prompt" title="click to scroll output; double click to hide"></div><div class="output"></div><div class="btn btn-default output_collapsed" title="click to expand output" style="display: none;">. . .</div></div></div><div class="cell code_cell rendered unselected" tabindex="2"><div class="input"><div class="prompt_container"><div class="prompt input_prompt"><bdi>In</bdi>&nbsp;[27]:</div><div class="run_this_cell" title="Run this cell"><i class="fa-step-forward fa"></i></div></div><div class="inner_cell"><div class="ctb_hideshow"><div class="celltoolbar"></div></div><div class="input_area" aria-label="Edit code here"><div class="CodeMirror cm-s-ipython"><div style="overflow: hidden; position: relative; width: 3px; height: 0px; top: 39.5938px; left: 341.234px;"><textarea autocorrect="off" autocapitalize="off" spellcheck="false" tabindex="0" style="position: absolute; bottom: -1em; padding: 0px; width: 1000px; height: 1em; outline: none;"></textarea></div><div class="CodeMirror-vscrollbar" tabindex="-1" cm-not-content="true"><div style="min-width: 1px; height: 0px;"></div></div><div class="CodeMirror-hscrollbar" tabindex="-1" cm-not-content="true"><div style="height: 100%; min-height: 1px; width: 0px;"></div></div><div class="CodeMirror-scrollbar-filler" cm-not-content="true"></div><div class="CodeMirror-gutter-filler" cm-not-content="true"></div><div class="CodeMirror-scroll" tabindex="-1"><div class="CodeMirror-sizer" style="margin-left: 0px; min-width: 394.812px; margin-bottom: -15px; border-right-width: 15px; min-height: 62px; padding-right: 0px; padding-bottom: 0px;"><div style="position: relative; top: 0px;"><div class="CodeMirror-lines" role="presentation"><div role="presentation" style="position: relative; outline: none;"><div class="CodeMirror-measure"></div><div class="CodeMirror-measure"></div><div style="position: relative; z-index: 1;"></div><div class="CodeMirror-cursors" style=""><div class="CodeMirror-cursor" style="left: 341.234px; top: 34px; height: 17px;">&nbsp;</div></div><div class="CodeMirror-code" role="presentation"><pre class=" CodeMirror-line " role="presentation"><span role="presentation" style="padding-right: 0.1px;"><span class="cm-keyword">from</span> <span class="cm-variable">tensorflow</span>.<span class="cm-property">keras</span>.<span class="cm-property">models</span> <span class="cm-keyword">import</span> <span class="cm-variable">Sequential</span></span></pre><pre class=" CodeMirror-line " role="presentation"><span role="presentation" style="padding-right: 0.1px;"><span class="cm-keyword">from</span> <span class="cm-variable">tensorflow</span>.<span class="cm-property">keras</span>.<span class="cm-property">layers</span> <span class="cm-keyword">import</span> <span class="cm-variable">Dense</span></span></pre><pre class=" CodeMirror-line " role="presentation"><span role="presentation" style="padding-right: 0.1px;"><span class="cm-keyword">from</span> <span class="cm-variable">tensorflow</span>.<span class="cm-property">keras</span>.<span class="cm-property">layers</span> <span class="cm-keyword">import</span> <span class="cm-variable">LSTM</span></span></pre></div></div></div></div></div><div style="position: absolute; height: 15px; width: 1px; border-bottom: 0px solid transparent; top: 62px;"></div><div class="CodeMirror-gutters" style="display: none; height: 77px;"></div></div></div></div></div></div><div class="output_wrapper"><div class="out_prompt_overlay prompt" title="click to scroll output; double click to hide"></div><div class="output"></div><div class="btn btn-default output_collapsed" title="click to expand output" style="display: none;">. . .</div></div></div><div class="cell code_cell rendered unselected" tabindex="2"><div class="input"><div class="prompt_container"><div class="prompt input_prompt"><bdi>In</bdi>&nbsp;[28]:</div><div class="run_this_cell" title="Run this cell"><i class="fa-step-forward fa"></i></div></div><div class="inner_cell"><div class="ctb_hideshow"><div class="celltoolbar"></div></div><div class="input_area" aria-label="Edit code here"><div class="CodeMirror cm-s-ipython"><div style="overflow: hidden; position: relative; width: 3px; height: 0px; top: 90.5938px; left: 484.531px;"><textarea autocorrect="off" autocapitalize="off" spellcheck="false" tabindex="0" style="position: absolute; bottom: -1em; padding: 0px; width: 1000px; height: 1em; outline: none;"></textarea></div><div class="CodeMirror-vscrollbar" tabindex="-1" cm-not-content="true"><div style="min-width: 1px; height: 0px;"></div></div><div class="CodeMirror-hscrollbar" tabindex="-1" cm-not-content="true"><div style="height: 100%; min-height: 1px; width: 0px;"></div></div><div class="CodeMirror-scrollbar-filler" cm-not-content="true"></div><div class="CodeMirror-gutter-filler" cm-not-content="true"></div><div class="CodeMirror-scroll" tabindex="-1"><div class="CodeMirror-sizer" style="margin-left: 0px; min-width: 521.297px; margin-bottom: -15px; border-right-width: 15px; min-height: 113px; padding-right: 0px; padding-bottom: 0px;"><div style="position: relative; top: 0px;"><div class="CodeMirror-lines" role="presentation"><div role="presentation" style="position: relative; outline: none;"><div class="CodeMirror-measure"></div><div class="CodeMirror-measure"></div><div style="position: relative; z-index: 1;"></div><div class="CodeMirror-cursors" style="visibility: hidden;"><div class="CodeMirror-cursor" style="left: 484.531px; top: 85px; height: 17px;">&nbsp;</div></div><div class="CodeMirror-code" role="presentation" style=""><pre class=" CodeMirror-line " role="presentation"><span role="presentation" style="padding-right: 0.1px;"><span class="cm-variable">model</span><span class="cm-operator">=</span><span class="cm-variable">Sequential</span>()</span></pre><pre class=" CodeMirror-line " role="presentation"><span role="presentation" style="padding-right: 0.1px;"><span class="cm-variable">model</span>.<span class="cm-property">add</span>(<span class="cm-variable">LSTM</span>(<span class="cm-number">50</span>,<span class="cm-variable">return_sequences</span><span class="cm-operator">=</span><span class="cm-keyword">True</span>,<span class="cm-variable">input_shape</span><span class="cm-operator">=</span>(<span class="cm-number">100</span>,<span class="cm-number">1</span>)))</span></pre><pre class=" CodeMirror-line " role="presentation"><span role="presentation" style="padding-right: 0.1px;"><span class="cm-variable">model</span>.<span class="cm-property">add</span>(<span class="cm-variable">LSTM</span>(<span class="cm-number">50</span>,<span class="cm-variable">return_sequences</span><span class="cm-operator">=</span><span class="cm-keyword">True</span>))</span></pre><pre class=" CodeMirror-line " role="presentation"><span role="presentation" style="padding-right: 0.1px;"><span class="cm-variable">model</span>.<span class="cm-property">add</span>(<span class="cm-variable">LSTM</span>(<span class="cm-number">50</span>))</span></pre><pre class=" CodeMirror-line " role="presentation"><span role="presentation" style="padding-right: 0.1px;"><span class="cm-variable">model</span>.<span class="cm-property">add</span>(<span class="cm-variable">Dense</span>(<span class="cm-number">1</span>))</span></pre><pre class=" CodeMirror-line " role="presentation"><span role="presentation" style="padding-right: 0.1px;"><span class="cm-variable">model</span>.<span class="cm-property">compile</span><span class=" CodeMirror-matchingbracket">(</span><span class="cm-variable">loss</span><span class="cm-operator">=</span><span class="cm-string">'mean_squared_error'</span>,<span class="cm-variable">optimizer</span><span class="cm-operator">=</span><span class="cm-string">'adam'</span><span class=" CodeMirror-matchingbracket">)</span></span></pre></div></div></div></div></div><div style="position: absolute; height: 15px; width: 1px; border-bottom: 0px solid transparent; top: 113px;"></div><div class="CodeMirror-gutters" style="display: none; height: 128px;"></div></div></div></div></div></div><div class="output_wrapper"><div class="out_prompt_overlay prompt" title="click to scroll output; double click to hide"></div><div class="output"></div><div class="btn btn-default output_collapsed" title="click to expand output" style="display: none;">. . .</div></div></div><div class="cell code_cell rendered unselected" tabindex="2"><div class="input"><div class="prompt_container"><div class="prompt input_prompt"><bdi>In</bdi>&nbsp;[29]:</div><div class="run_this_cell" title="Run this cell"><i class="fa-step-forward fa"></i></div></div><div class="inner_cell"><div class="ctb_hideshow"><div class="celltoolbar"></div></div><div class="input_area" aria-label="Edit code here"><div class="CodeMirror cm-s-ipython"><div style="overflow: hidden; position: relative; width: 3px; height: 0px; top: 5.59375px; left: 130.484px;"><textarea autocorrect="off" autocapitalize="off" spellcheck="false" tabindex="0" style="position: absolute; bottom: -1em; padding: 0px; width: 1000px; height: 1em; outline: none;"></textarea></div><div class="CodeMirror-vscrollbar" tabindex="-1" cm-not-content="true"><div style="min-width: 1px; height: 0px;"></div></div><div class="CodeMirror-hscrollbar" tabindex="-1" cm-not-content="true"><div style="height: 100%; min-height: 1px; width: 0px;"></div></div><div class="CodeMirror-scrollbar-filler" cm-not-content="true"></div><div class="CodeMirror-gutter-filler" cm-not-content="true"></div><div class="CodeMirror-scroll" tabindex="-1"><div class="CodeMirror-sizer" style="margin-left: 0px; min-width: 133.484px; margin-bottom: -15px; border-right-width: 15px; min-height: 28px; padding-right: 0px; padding-bottom: 0px;"><div style="position: relative; top: 0px;"><div class="CodeMirror-lines" role="presentation"><div role="presentation" style="position: relative; outline: none;"><div class="CodeMirror-measure"></div><div class="CodeMirror-measure"></div><div style="position: relative; z-index: 1;"></div><div class="CodeMirror-cursors" style="visibility: hidden;"><div class="CodeMirror-cursor" style="left: 130.484px; top: 0px; height: 17px;">&nbsp;</div></div><div class="CodeMirror-code" role="presentation"><pre class=" CodeMirror-line " role="presentation"><span role="presentation" style="padding-right: 0.1px;"><span class="cm-variable">model</span>.<span class="cm-property">summary</span><span class=" CodeMirror-matchingbracket">(</span><span class=" CodeMirror-matchingbracket">)</span></span></pre></div></div></div></div></div><div style="position: absolute; height: 15px; width: 1px; border-bottom: 0px solid transparent; top: 28px;"></div><div class="CodeMirror-gutters" style="display: none; height: 43px;"></div></div></div></div></div></div><div class="output_wrapper"><div class="out_prompt_overlay prompt" title="click to scroll output; double click to hide"></div><div class="output"><div class="output_area"><div class="run_this_cell"></div><div class="prompt"></div><div class="output_subarea output_text output_stream output_stdout"><pre>Model: "sequential"
_________________________________________________________________
Layer (type)                 Output Shape              Param #   
=================================================================
lstm (LSTM)                  (None, 100, 50)           10400     
_________________________________________________________________
lstm_1 (LSTM)                (None, 100, 50)           20200     
_________________________________________________________________
lstm_2 (LSTM)                (None, 50)                20200     
_________________________________________________________________
dense (Dense)                (None, 1)                 51        
=================================================================
Total params: 50,851
Trainable params: 50,851
Non-trainable params: 0
_________________________________________________________________
</pre></div></div></div><div class="btn btn-default output_collapsed" title="click to expand output" style="display: none;">. . .</div></div></div><div class="cell code_cell rendered unselected" tabindex="2"><div class="input"><div class="prompt_container"><div class="prompt input_prompt"><bdi>In</bdi>&nbsp;[31]:</div><div class="run_this_cell" title="Run this cell"><i class="fa-step-forward fa"></i></div></div><div class="inner_cell"><div class="ctb_hideshow"><div class="celltoolbar"></div></div><div class="input_area" aria-label="Edit code here"><div class="CodeMirror cm-s-ipython"><div style="overflow: hidden; position: relative; width: 3px; height: 0px; top: 5.59375px; left: 779.688px;"><textarea autocorrect="off" autocapitalize="off" spellcheck="false" tabindex="0" style="position: absolute; bottom: -1em; padding: 0px; width: 1000px; height: 1em; outline: none;"></textarea></div><div class="CodeMirror-vscrollbar" tabindex="-1" cm-not-content="true"><div style="min-width: 1px; height: 0px;"></div></div><div class="CodeMirror-hscrollbar" tabindex="-1" cm-not-content="true"><div style="height: 100%; min-height: 1px; width: 0px;"></div></div><div class="CodeMirror-scrollbar-filler" cm-not-content="true"></div><div class="CodeMirror-gutter-filler" cm-not-content="true"></div><div class="CodeMirror-scroll" tabindex="-1"><div class="CodeMirror-sizer" style="margin-left: 0px; min-width: 782.688px; margin-bottom: -15px; border-right-width: 15px; min-height: 28px; padding-right: 0px; padding-bottom: 0px;"><div style="position: relative; top: 0px;"><div class="CodeMirror-lines" role="presentation"><div role="presentation" style="position: relative; outline: none;"><div class="CodeMirror-measure"></div><div class="CodeMirror-measure"></div><div style="position: relative; z-index: 1;"></div><div class="CodeMirror-cursors" style=""><div class="CodeMirror-cursor" style="left: 779.688px; top: 0px; height: 17px;">&nbsp;</div></div><div class="CodeMirror-code" role="presentation"><pre class=" CodeMirror-line " role="presentation"><span role="presentation" style="padding-right: 0.1px;"><span class="cm-variable">model</span>.<span class="cm-property">fit</span><span class=" CodeMirror-matchingbracket">(</span><span class="cm-variable">X_train</span>,<span class="cm-variable">y_train</span>,<span class="cm-variable">validation_data</span><span class="cm-operator">=</span>(<span class="cm-variable">X_test</span>,<span class="cm-variable">ytest</span>),<span class="cm-variable">epochs</span><span class="cm-operator">=</span><span class="cm-number">100</span>,<span class="cm-variable">batch_size</span><span class="cm-operator">=</span><span class="cm-number">64</span>,<span class="cm-variable">verbose</span><span class="cm-operator">=</span><span class="cm-number">1</span><span class=" CodeMirror-matchingbracket">)</span></span></pre></div></div></div></div></div><div style="position: absolute; height: 15px; width: 1px; border-bottom: 0px solid transparent; top: 28px;"></div><div class="CodeMirror-gutters" style="display: none; height: 43px;"></div></div></div></div></div></div><div class="output_wrapper"><div class="out_prompt_overlay prompt" title="click to unscroll output; double click to hide"></div><div class="output output_scroll"><div class="output_area"><div class="run_this_cell"></div><div class="prompt"></div><div class="output_subarea output_text output_stream output_stdout"><pre>Epoch 1/100
12/12 [==============================] - 3s 273ms/step - loss: 0.0352 - val_loss: 0.0417
Epoch 2/100
12/12 [==============================] - 1s 121ms/step - loss: 0.0053 - val_loss: 0.0057
Epoch 3/100
12/12 [==============================] - 1s 121ms/step - loss: 0.0026 - val_loss: 0.0087
Epoch 4/100
12/12 [==============================] - 2s 129ms/step - loss: 0.0013 - val_loss: 0.0077
Epoch 5/100
12/12 [==============================] - 1s 122ms/step - loss: 0.0011 - val_loss: 0.0054
Epoch 6/100
12/12 [==============================] - 1s 122ms/step - loss: 9.2915e-04 - val_loss: 0.0054
Epoch 7/100
12/12 [==============================] - 2s 127ms/step - loss: 9.3025e-04 - val_loss: 0.0055
Epoch 8/100
12/12 [==============================] - 1s 122ms/step - loss: 8.8860e-04 - val_loss: 0.0056
Epoch 9/100
12/12 [==============================] - 1s 122ms/step - loss: 9.2839e-04 - val_loss: 0.0056
Epoch 10/100
12/12 [==============================] - 2s 127ms/step - loss: 8.6760e-04 - val_loss: 0.0049
Epoch 11/100
12/12 [==============================] - 1s 121ms/step - loss: 8.4695e-04 - val_loss: 0.0050
Epoch 12/100
12/12 [==============================] - 1s 122ms/step - loss: 8.6455e-04 - val_loss: 0.0047
Epoch 13/100
12/12 [==============================] - 1s 124ms/step - loss: 8.4164e-04 - val_loss: 0.0049
Epoch 14/100
12/12 [==============================] - 1s 123ms/step - loss: 8.1203e-04 - val_loss: 0.0044
Epoch 15/100
12/12 [==============================] - 1s 124ms/step - loss: 8.1826e-04 - val_loss: 0.0048
Epoch 16/100
12/12 [==============================] - 1s 124ms/step - loss: 8.1348e-04 - val_loss: 0.0054
Epoch 17/100
12/12 [==============================] - 2s 126ms/step - loss: 8.7763e-04 - val_loss: 0.0059
Epoch 18/100
12/12 [==============================] - 1s 123ms/step - loss: 9.0891e-04 - val_loss: 0.0040
Epoch 19/100
12/12 [==============================] - 2s 126ms/step - loss: 9.2714e-04 - val_loss: 0.0046
Epoch 20/100
12/12 [==============================] - 2s 127ms/step - loss: 8.2297e-04 - val_loss: 0.0057
Epoch 21/100
12/12 [==============================] - 1s 123ms/step - loss: 8.0594e-04 - val_loss: 0.0052
Epoch 22/100
12/12 [==============================] - 1s 124ms/step - loss: 7.7671e-04 - val_loss: 0.0046
Epoch 23/100
12/12 [==============================] - 2s 128ms/step - loss: 7.5513e-04 - val_loss: 0.0046
Epoch 24/100
12/12 [==============================] - 1s 123ms/step - loss: 7.4375e-04 - val_loss: 0.0041
Epoch 25/100
12/12 [==============================] - 1s 123ms/step - loss: 7.5194e-04 - val_loss: 0.0042
Epoch 26/100
12/12 [==============================] - 2s 127ms/step - loss: 7.3862e-04 - val_loss: 0.0048
Epoch 27/100
12/12 [==============================] - 1s 122ms/step - loss: 7.4530e-04 - val_loss: 0.0037
Epoch 28/100
12/12 [==============================] - 2s 128ms/step - loss: 7.3056e-04 - val_loss: 0.0037
Epoch 29/100
12/12 [==============================] - 2s 135ms/step - loss: 7.5132e-04 - val_loss: 0.0060
Epoch 30/100
12/12 [==============================] - 2s 134ms/step - loss: 8.5062e-04 - val_loss: 0.0049
Epoch 31/100
12/12 [==============================] - 2s 131ms/step - loss: 6.9493e-04 - val_loss: 0.0044
Epoch 32/100
12/12 [==============================] - 2s 135ms/step - loss: 7.4801e-04 - val_loss: 0.0040
Epoch 33/100
12/12 [==============================] - 2s 129ms/step - loss: 7.4399e-04 - val_loss: 0.0064
Epoch 34/100
12/12 [==============================] - 2s 130ms/step - loss: 8.8937e-04 - val_loss: 0.0029
Epoch 35/100
12/12 [==============================] - 2s 138ms/step - loss: 8.9375e-04 - val_loss: 0.0042
Epoch 36/100
12/12 [==============================] - 2s 129ms/step - loss: 8.1910e-04 - val_loss: 0.0055
Epoch 37/100
12/12 [==============================] - 2s 130ms/step - loss: 7.1750e-04 - val_loss: 0.0034
Epoch 38/100
12/12 [==============================] - 2s 133ms/step - loss: 6.6987e-04 - val_loss: 0.0045
Epoch 39/100
12/12 [==============================] - 2s 130ms/step - loss: 6.6313e-04 - val_loss: 0.0036
Epoch 40/100
12/12 [==============================] - 2s 132ms/step - loss: 6.6240e-04 - val_loss: 0.0029
Epoch 41/100
12/12 [==============================] - 2s 131ms/step - loss: 7.6353e-04 - val_loss: 0.0031
Epoch 42/100
12/12 [==============================] - 2s 131ms/step - loss: 6.8913e-04 - val_loss: 0.0053
Epoch 43/100
12/12 [==============================] - 2s 134ms/step - loss: 6.8496e-04 - val_loss: 0.0045
Epoch 44/100
12/12 [==============================] - 2s 135ms/step - loss: 6.3289e-04 - val_loss: 0.0032
Epoch 45/100
12/12 [==============================] - 2s 137ms/step - loss: 6.4484e-04 - val_loss: 0.0039
Epoch 46/100
12/12 [==============================] - 2s 134ms/step - loss: 6.5748e-04 - val_loss: 0.0065
Epoch 47/100
12/12 [==============================] - 2s 130ms/step - loss: 6.7367e-04 - val_loss: 0.0033
Epoch 48/100
12/12 [==============================] - 2s 129ms/step - loss: 6.4817e-04 - val_loss: 0.0032
Epoch 49/100
12/12 [==============================] - 2s 135ms/step - loss: 6.6719e-04 - val_loss: 0.0043
Epoch 50/100
12/12 [==============================] - 2s 129ms/step - loss: 6.7198e-04 - val_loss: 0.0025
Epoch 51/100
12/12 [==============================] - 2s 129ms/step - loss: 6.1849e-04 - val_loss: 0.0039
Epoch 52/100
12/12 [==============================] - 2s 136ms/step - loss: 6.0898e-04 - val_loss: 0.0025
Epoch 53/100
12/12 [==============================] - 2s 133ms/step - loss: 6.2995e-04 - val_loss: 0.0042
Epoch 54/100
12/12 [==============================] - 2s 158ms/step - loss: 7.9091e-04 - val_loss: 0.0029
Epoch 55/100
12/12 [==============================] - 2s 144ms/step - loss: 7.2339e-04 - val_loss: 0.0033
Epoch 56/100
12/12 [==============================] - 4s 367ms/step - loss: 8.1702e-04 - val_loss: 0.0039
Epoch 57/100
12/12 [==============================] - 2s 148ms/step - loss: 7.3769e-04 - val_loss: 0.0019
Epoch 58/100
12/12 [==============================] - 1s 124ms/step - loss: 7.1354e-04 - val_loss: 0.0028
Epoch 59/100
12/12 [==============================] - 2s 142ms/step - loss: 6.0044e-04 - val_loss: 0.0035
Epoch 60/100
12/12 [==============================] - 1s 116ms/step - loss: 5.9469e-04 - val_loss: 0.0019
Epoch 61/100
12/12 [==============================] - 3s 213ms/step - loss: 6.3333e-04 - val_loss: 0.0035
Epoch 62/100
12/12 [==============================] - 2s 138ms/step - loss: 5.5749e-04 - val_loss: 0.0036
Epoch 63/100
12/12 [==============================] - 2s 135ms/step - loss: 5.6057e-04 - val_loss: 0.0028
Epoch 64/100
12/12 [==============================] - 2s 168ms/step - loss: 5.3493e-04 - val_loss: 0.0031
Epoch 65/100
12/12 [==============================] - 2s 141ms/step - loss: 5.7710e-04 - val_loss: 0.0015
Epoch 66/100
12/12 [==============================] - 2s 174ms/step - loss: 6.7885e-04 - val_loss: 0.0024
Epoch 67/100
12/12 [==============================] - 2s 143ms/step - loss: 5.4720e-04 - val_loss: 0.0038
Epoch 68/100
12/12 [==============================] - 2s 136ms/step - loss: 5.5657e-04 - val_loss: 0.0017
Epoch 69/100
12/12 [==============================] - 2s 140ms/step - loss: 6.5870e-04 - val_loss: 0.0028
Epoch 70/100
12/12 [==============================] - 2s 136ms/step - loss: 5.4127e-04 - val_loss: 0.0039
Epoch 71/100
12/12 [==============================] - 2s 142ms/step - loss: 5.1923e-04 - val_loss: 0.0020
Epoch 72/100
12/12 [==============================] - 2s 136ms/step - loss: 4.9157e-04 - val_loss: 0.0023
Epoch 73/100
12/12 [==============================] - 2s 137ms/step - loss: 4.8045e-04 - val_loss: 0.0032
Epoch 74/100
12/12 [==============================] - 2s 144ms/step - loss: 4.7334e-04 - val_loss: 0.0033
Epoch 75/100
12/12 [==============================] - 2s 137ms/step - loss: 4.7580e-04 - val_loss: 0.0018
Epoch 76/100
12/12 [==============================] - 2s 133ms/step - loss: 4.7565e-04 - val_loss: 0.0018
Epoch 77/100
12/12 [==============================] - 2s 142ms/step - loss: 4.7681e-04 - val_loss: 0.0018
Epoch 78/100
</pre></div></div><div class="output_area"><div class="run_this_cell"></div><div class="prompt"></div><div class="output_subarea output_text output_stream output_stdout"><pre>12/12 [==============================] - 2s 137ms/step - loss: 4.6423e-04 - val_loss: 0.0021
Epoch 79/100
12/12 [==============================] - 2s 132ms/step - loss: 4.6870e-04 - val_loss: 0.0029
Epoch 80/100
12/12 [==============================] - 2s 134ms/step - loss: 4.6465e-04 - val_loss: 0.0017
Epoch 81/100
12/12 [==============================] - 2s 141ms/step - loss: 4.3844e-04 - val_loss: 0.0030
Epoch 82/100
12/12 [==============================] - 2s 138ms/step - loss: 4.4778e-04 - val_loss: 0.0028
Epoch 83/100
12/12 [==============================] - 2s 140ms/step - loss: 4.6926e-04 - val_loss: 0.0017
Epoch 84/100
12/12 [==============================] - 2s 130ms/step - loss: 4.4234e-04 - val_loss: 0.0033
Epoch 85/100
12/12 [==============================] - 2s 152ms/step - loss: 4.9871e-04 - val_loss: 0.0017
Epoch 86/100
12/12 [==============================] - 2s 174ms/step - loss: 4.0915e-04 - val_loss: 0.0018
Epoch 87/100
12/12 [==============================] - 1s 123ms/step - loss: 3.8393e-04 - val_loss: 0.0016
Epoch 88/100
12/12 [==============================] - 2s 126ms/step - loss: 3.8365e-04 - val_loss: 0.0041
Epoch 89/100
12/12 [==============================] - 2s 140ms/step - loss: 4.1487e-04 - val_loss: 0.0018
Epoch 90/100
12/12 [==============================] - 2s 133ms/step - loss: 3.6970e-04 - val_loss: 0.0017
Epoch 91/100
12/12 [==============================] - 2s 150ms/step - loss: 3.7294e-04 - val_loss: 0.0016
Epoch 92/100
12/12 [==============================] - 2s 135ms/step - loss: 3.3864e-04 - val_loss: 0.0016
Epoch 93/100
12/12 [==============================] - 2s 125ms/step - loss: 3.2553e-04 - val_loss: 0.0012
Epoch 94/100
12/12 [==============================] - 2s 142ms/step - loss: 3.6711e-04 - val_loss: 0.0016
Epoch 95/100
12/12 [==============================] - 2s 139ms/step - loss: 3.2187e-04 - val_loss: 0.0021
Epoch 96/100
12/12 [==============================] - 2s 132ms/step - loss: 3.2068e-04 - val_loss: 0.0028
Epoch 97/100
12/12 [==============================] - 2s 146ms/step - loss: 2.9258e-04 - val_loss: 0.0014
Epoch 98/100
12/12 [==============================] - 2s 134ms/step - loss: 3.1478e-04 - val_loss: 0.0012
Epoch 99/100
12/12 [==============================] - 2s 138ms/step - loss: 3.3439e-04 - val_loss: 0.0016
Epoch 100/100
12/12 [==============================] - 2s 140ms/step - loss: 3.2947e-04 - val_loss: 0.0011
</pre></div></div><div class="output_area"><div class="run_this_cell"></div><div class="prompt output_prompt"><bdi>Out[31]:</bdi></div><div class="output_subarea output_text output_result"><pre>&lt;tensorflow.python.keras.callbacks.History at 0x7fdf14407370&gt;</pre></div></div></div><div class="btn btn-default output_collapsed" title="click to expand output" style="display: none;">. . .</div></div></div><div class="cell code_cell rendered unselected" tabindex="2"><div class="input"><div class="prompt_container"><div class="prompt input_prompt"><bdi>In</bdi>&nbsp;[32]:</div><div class="run_this_cell" title="Run this cell"><i class="fa-step-forward fa"></i></div></div><div class="inner_cell"><div class="ctb_hideshow"><div class="celltoolbar"></div></div><div class="input_area" aria-label="Edit code here"><div class="CodeMirror cm-s-ipython"><div style="overflow: hidden; position: relative; width: 3px; height: 0px; top: 5.59375px; left: 197.906px;"><textarea autocorrect="off" autocapitalize="off" spellcheck="false" tabindex="0" style="position: absolute; bottom: -1em; padding: 0px; width: 1000px; height: 1em; outline: none;"></textarea></div><div class="CodeMirror-vscrollbar" tabindex="-1" cm-not-content="true"><div style="min-width: 1px; height: 0px;"></div></div><div class="CodeMirror-hscrollbar" tabindex="-1" cm-not-content="true"><div style="height: 100%; min-height: 1px; width: 0px;"></div></div><div class="CodeMirror-scrollbar-filler" cm-not-content="true"></div><div class="CodeMirror-gutter-filler" cm-not-content="true"></div><div class="CodeMirror-scroll" tabindex="-1"><div class="CodeMirror-sizer" style="margin-left: 0px; min-width: 200.906px; margin-bottom: -15px; border-right-width: 15px; min-height: 28px; padding-right: 0px; padding-bottom: 0px;"><div style="position: relative; top: 0px;"><div class="CodeMirror-lines" role="presentation"><div role="presentation" style="position: relative; outline: none;"><div class="CodeMirror-measure"></div><div class="CodeMirror-measure"></div><div style="position: relative; z-index: 1;"></div><div class="CodeMirror-cursors" style="visibility: hidden;"><div class="CodeMirror-cursor" style="left: 197.906px; top: 0px; height: 17px;">&nbsp;</div></div><div class="CodeMirror-code" role="presentation"><pre class=" CodeMirror-line " role="presentation"><span role="presentation" style="padding-right: 0.1px;"><span class="cm-keyword">import</span> <span class="cm-variable">tensorflow</span> <span class="cm-keyword">as</span> <span class="cm-variable">tf</span></span></pre></div></div></div></div></div><div style="position: absolute; height: 15px; width: 1px; border-bottom: 0px solid transparent; top: 28px;"></div><div class="CodeMirror-gutters" style="display: none; height: 43px;"></div></div></div></div></div></div><div class="output_wrapper"><div class="out_prompt_overlay prompt" title="click to scroll output; double click to hide"></div><div class="output"></div><div class="btn btn-default output_collapsed" title="click to expand output" style="display: none;">. . .</div></div></div><div class="cell code_cell rendered unselected" tabindex="2"><div class="input"><div class="prompt_container"><div class="prompt input_prompt"><bdi>In</bdi>&nbsp;[37]:</div><div class="run_this_cell" title="Run this cell"><i class="fa-step-forward fa"></i></div></div><div class="inner_cell"><div class="ctb_hideshow"><div class="celltoolbar"></div></div><div class="input_area" aria-label="Edit code here"><div class="CodeMirror cm-s-ipython"><div style="overflow: hidden; position: relative; width: 3px; height: 0px; top: 22.5938px; left: 290.656px;"><textarea autocorrect="off" autocapitalize="off" spellcheck="false" tabindex="0" style="position: absolute; bottom: -1em; padding: 0px; width: 1000px; height: 1em; outline: none;"></textarea></div><div class="CodeMirror-vscrollbar" tabindex="-1" cm-not-content="true"><div style="min-width: 1px; height: 0px;"></div></div><div class="CodeMirror-hscrollbar" tabindex="-1" cm-not-content="true"><div style="height: 100%; min-height: 1px; width: 0px;"></div></div><div class="CodeMirror-scrollbar-filler" cm-not-content="true"></div><div class="CodeMirror-gutter-filler" cm-not-content="true"></div><div class="CodeMirror-scroll" tabindex="-1"><div class="CodeMirror-sizer" style="margin-left: 0px; min-width: 310.516px; margin-bottom: -15px; border-right-width: 15px; min-height: 45px; padding-right: 0px; padding-bottom: 0px;"><div style="position: relative; top: 0px;"><div class="CodeMirror-lines" role="presentation"><div role="presentation" style="position: relative; outline: none;"><div class="CodeMirror-measure"></div><div class="CodeMirror-measure"></div><div style="position: relative; z-index: 1;"></div><div class="CodeMirror-cursors" style=""><div class="CodeMirror-cursor" style="left: 290.656px; top: 17px; height: 17px;">&nbsp;</div></div><div class="CodeMirror-code" role="presentation"><pre class=" CodeMirror-line " role="presentation"><span role="presentation" style="padding-right: 0.1px;"><span class="cm-variable">train_predict</span><span class="cm-operator">=</span><span class="cm-variable">model</span>.<span class="cm-property">predict</span>(<span class="cm-variable">X_train</span>)</span></pre><pre class=" CodeMirror-line " role="presentation"><span role="presentation" style="padding-right: 0.1px;"><span class="cm-variable">test_predict</span><span class="cm-operator">=</span><span class="cm-variable">model</span>.<span class="cm-property">predict</span><span class=" CodeMirror-matchingbracket">(</span><span class="cm-variable">X_test</span><span class=" CodeMirror-matchingbracket">)</span></span></pre></div></div></div></div></div><div style="position: absolute; height: 15px; width: 1px; border-bottom: 0px solid transparent; top: 45px;"></div><div class="CodeMirror-gutters" style="display: none; height: 60px;"></div></div></div></div></div></div><div class="output_wrapper"><div class="out_prompt_overlay prompt" title="click to scroll output; double click to hide"></div><div class="output"></div><div class="btn btn-default output_collapsed" title="click to expand output" style="display: none;">. . .</div></div></div><div class="cell code_cell rendered unselected" tabindex="2"><div class="input"><div class="prompt_container"><div class="prompt input_prompt"><bdi>In</bdi>&nbsp;[38]:</div><div class="run_this_cell" title="Run this cell"><i class="fa-step-forward fa"></i></div></div><div class="inner_cell"><div class="ctb_hideshow"><div class="celltoolbar"></div></div><div class="input_area" aria-label="Edit code here"><div class="CodeMirror cm-s-ipython"><div style="overflow: hidden; position: relative; width: 3px; height: 0px; top: 39.5938px; left: 433.938px;"><textarea autocorrect="off" autocapitalize="off" spellcheck="false" tabindex="0" style="position: absolute; bottom: -1em; padding: 0px; width: 1000px; height: 1em; outline: none;"></textarea></div><div class="CodeMirror-vscrollbar" tabindex="-1" cm-not-content="true"><div style="min-width: 1px; height: 0px;"></div></div><div class="CodeMirror-hscrollbar" tabindex="-1" cm-not-content="true"><div style="height: 100%; min-height: 1px; width: 0px;"></div></div><div class="CodeMirror-scrollbar-filler" cm-not-content="true"></div><div class="CodeMirror-gutter-filler" cm-not-content="true"></div><div class="CodeMirror-scroll" tabindex="-1"><div class="CodeMirror-sizer" style="margin-left: 0px; min-width: 453.781px; margin-bottom: -15px; border-right-width: 15px; min-height: 62px; padding-right: 0px; padding-bottom: 0px;"><div style="position: relative; top: 0px;"><div class="CodeMirror-lines" role="presentation"><div role="presentation" style="position: relative; outline: none;"><div class="CodeMirror-measure"></div><div class="CodeMirror-measure"></div><div style="position: relative; z-index: 1;"></div><div class="CodeMirror-cursors" style=""><div class="CodeMirror-cursor" style="left: 433.938px; top: 34px; height: 17px;">&nbsp;</div></div><div class="CodeMirror-code" role="presentation"><pre class=" CodeMirror-line " role="presentation"><span role="presentation" style="padding-right: 0.1px;"><span class="cm-comment">##Transformback to original form</span></span></pre><pre class=" CodeMirror-line " role="presentation"><span role="presentation" style="padding-right: 0.1px;"><span class="cm-variable">train_predict</span><span class="cm-operator">=</span><span class="cm-variable">scaler</span>.<span class="cm-property">inverse_transform</span>(<span class="cm-variable">train_predict</span>)</span></pre><pre class=" CodeMirror-line " role="presentation"><span role="presentation" style="padding-right: 0.1px;"><span class="cm-variable">test_predict</span><span class="cm-operator">=</span><span class="cm-variable">scaler</span>.<span class="cm-property">inverse_transform</span><span class=" CodeMirror-matchingbracket">(</span><span class="cm-variable">test_predict</span><span class=" CodeMirror-matchingbracket">)</span></span></pre></div></div></div></div></div><div style="position: absolute; height: 15px; width: 1px; border-bottom: 0px solid transparent; top: 62px;"></div><div class="CodeMirror-gutters" style="display: none; height: 77px;"></div></div></div></div></div></div><div class="output_wrapper"><div class="out_prompt_overlay prompt" title="click to scroll output; double click to hide"></div><div class="output"></div><div class="btn btn-default output_collapsed" title="click to expand output" style="display: none;">. . .</div></div></div><div class="cell code_cell rendered unselected" tabindex="2"><div class="input"><div class="prompt_container"><div class="prompt input_prompt"><bdi>In</bdi>&nbsp;[39]:</div><div class="run_this_cell" title="Run this cell"><i class="fa-step-forward fa"></i></div></div><div class="inner_cell"><div class="ctb_hideshow"><div class="celltoolbar"></div></div><div class="input_area" aria-label="Edit code here"><div class="CodeMirror cm-s-ipython"><div style="overflow: hidden; position: relative; width: 3px; height: 0px; top: 56.5938px; left: 442.375px;"><textarea autocorrect="off" autocapitalize="off" spellcheck="false" tabindex="0" style="position: absolute; bottom: -1em; padding: 0px; width: 1000px; height: 1em; outline: none;"></textarea></div><div class="CodeMirror-vscrollbar" tabindex="-1" cm-not-content="true"><div style="min-width: 1px; height: 0px;"></div></div><div class="CodeMirror-hscrollbar" tabindex="-1" cm-not-content="true"><div style="height: 100%; min-height: 1px; width: 0px;"></div></div><div class="CodeMirror-scrollbar-filler" cm-not-content="true"></div><div class="CodeMirror-gutter-filler" cm-not-content="true"></div><div class="CodeMirror-scroll" tabindex="-1"><div class="CodeMirror-sizer" style="margin-left: 0px; min-width: 445.375px; margin-bottom: -15px; border-right-width: 15px; min-height: 79px; padding-right: 0px; padding-bottom: 0px;"><div style="position: relative; top: 0px;"><div class="CodeMirror-lines" role="presentation"><div role="presentation" style="position: relative; outline: none;"><div class="CodeMirror-measure"></div><div class="CodeMirror-measure"></div><div style="position: relative; z-index: 1;"></div><div class="CodeMirror-cursors" style=""><div class="CodeMirror-cursor" style="left: 442.375px; top: 51px; height: 17px;">&nbsp;</div></div><div class="CodeMirror-code" role="presentation"><pre class=" CodeMirror-line " role="presentation"><span role="presentation" style="padding-right: 0.1px;"><span class="cm-comment">### Calculate RMSE performance metrics</span></span></pre><pre class=" CodeMirror-line " role="presentation"><span role="presentation" style="padding-right: 0.1px;"><span class="cm-keyword">import</span> <span class="cm-variable">math</span></span></pre><pre class=" CodeMirror-line " role="presentation"><span role="presentation" style="padding-right: 0.1px;"><span class="cm-keyword">from</span> <span class="cm-variable">sklearn</span>.<span class="cm-property">metrics</span> <span class="cm-keyword">import</span> <span class="cm-variable">mean_squared_error</span></span></pre><pre class=" CodeMirror-line " role="presentation"><span role="presentation" style="padding-right: 0.1px;"><span class="cm-variable">math</span>.<span class="cm-property">sqrt</span><span class=" CodeMirror-matchingbracket">(</span><span class="cm-variable">mean_squared_error</span>(<span class="cm-variable">y_train</span>,<span class="cm-variable">train_predict</span>)<span class=" CodeMirror-matchingbracket">)</span></span></pre></div></div></div></div></div><div style="position: absolute; height: 15px; width: 1px; border-bottom: 0px solid transparent; top: 79px;"></div><div class="CodeMirror-gutters" style="display: none; height: 94px;"></div></div></div></div></div></div><div class="output_wrapper"><div class="out_prompt_overlay prompt" title="click to scroll output; double click to hide"></div><div class="output"><div class="output_area"><div class="run_this_cell"></div><div class="prompt output_prompt"><bdi>Out[39]:</bdi></div><div class="output_subarea output_text output_result"><pre>952.2978025820455</pre></div></div></div><div class="btn btn-default output_collapsed" title="click to expand output" style="display: none;">. . .</div></div></div><div class="cell code_cell rendered unselected" tabindex="2"><div class="input"><div class="prompt_container"><div class="prompt input_prompt"><bdi>In</bdi>&nbsp;[40]:</div><div class="run_this_cell" title="Run this cell"><i class="fa-step-forward fa"></i></div></div><div class="inner_cell"><div class="ctb_hideshow"><div class="celltoolbar"></div></div><div class="input_area" aria-label="Edit code here"><div class="CodeMirror cm-s-ipython"><div style="overflow: hidden; position: relative; width: 3px; height: 0px; top: 22.5938px; left: 417.094px;"><textarea autocorrect="off" autocapitalize="off" spellcheck="false" tabindex="0" style="position: absolute; bottom: -1em; padding: 0px; width: 1000px; height: 1em; outline: none;"></textarea></div><div class="CodeMirror-vscrollbar" tabindex="-1" cm-not-content="true"><div style="min-width: 1px; height: 0px;"></div></div><div class="CodeMirror-hscrollbar" tabindex="-1" cm-not-content="true"><div style="height: 100%; min-height: 1px; width: 0px;"></div></div><div class="CodeMirror-scrollbar-filler" cm-not-content="true"></div><div class="CodeMirror-gutter-filler" cm-not-content="true"></div><div class="CodeMirror-scroll" tabindex="-1"><div class="CodeMirror-sizer" style="margin-left: 0px; min-width: 420.094px; margin-bottom: -15px; border-right-width: 15px; min-height: 45px; padding-right: 0px; padding-bottom: 0px;"><div style="position: relative; top: 0px;"><div class="CodeMirror-lines" role="presentation"><div role="presentation" style="position: relative; outline: none;"><div class="CodeMirror-measure"></div><div class="CodeMirror-measure"></div><div style="position: relative; z-index: 1;"></div><div class="CodeMirror-cursors" style="visibility: hidden;"><div class="CodeMirror-cursor" style="left: 417.094px; top: 17px; height: 17px;">&nbsp;</div></div><div class="CodeMirror-code" role="presentation"><pre class=" CodeMirror-line " role="presentation"><span role="presentation" style="padding-right: 0.1px;"><span class="cm-comment">### Test Data RMSE</span></span></pre><pre class=" CodeMirror-line " role="presentation"><span role="presentation" style="padding-right: 0.1px;"><span class="cm-variable">math</span>.<span class="cm-property">sqrt</span><span class=" CodeMirror-matchingbracket">(</span><span class="cm-variable">mean_squared_error</span>(<span class="cm-variable">ytest</span>,<span class="cm-variable">test_predict</span>)<span class=" CodeMirror-matchingbracket">)</span></span></pre></div></div></div></div></div><div style="position: absolute; height: 15px; width: 1px; border-bottom: 0px solid transparent; top: 45px;"></div><div class="CodeMirror-gutters" style="display: none; height: 60px;"></div></div></div></div></div></div><div class="output_wrapper"><div class="out_prompt_overlay prompt" title="click to scroll output; double click to hide"></div><div class="output"><div class="output_area"><div class="run_this_cell"></div><div class="prompt output_prompt"><bdi>Out[40]:</bdi></div><div class="output_subarea output_text output_result"><pre>1306.7487113310758</pre></div></div></div><div class="btn btn-default output_collapsed" title="click to expand output" style="display: none;">. . .</div></div></div><div class="cell code_cell rendered unselected" tabindex="2"><div class="input"><div class="prompt_container"><div class="prompt input_prompt"><bdi>In</bdi>&nbsp;[41]:</div><div class="run_this_cell" title="Run this cell"><i class="fa-step-forward fa"></i></div></div><div class="inner_cell"><div class="ctb_hideshow"><div class="celltoolbar"></div></div><div class="input_area" aria-label="Edit code here"><div class="CodeMirror cm-s-ipython"><div style="overflow: hidden; position: relative; width: 3px; height: 0px; top: 243.594px; left: 88.3281px;"><textarea autocorrect="off" autocapitalize="off" spellcheck="false" tabindex="0" style="position: absolute; bottom: -1em; padding: 0px; width: 1000px; height: 1em; outline: none;"></textarea></div><div class="CodeMirror-vscrollbar" tabindex="-1" cm-not-content="true"><div style="min-width: 1px; height: 0px;"></div></div><div class="CodeMirror-hscrollbar" tabindex="-1" cm-not-content="true"><div style="height: 100%; min-height: 1px; width: 0px;"></div></div><div class="CodeMirror-scrollbar-filler" cm-not-content="true"></div><div class="CodeMirror-gutter-filler" cm-not-content="true"></div><div class="CodeMirror-scroll" tabindex="-1"><div class="CodeMirror-sizer" style="margin-left: 0px; min-width: 681.516px; margin-bottom: -15px; border-right-width: 15px; min-height: 266px; padding-right: 0px; padding-bottom: 0px;"><div style="position: relative; top: 0px;"><div class="CodeMirror-lines" role="presentation"><div role="presentation" style="position: relative; outline: none;"><div class="CodeMirror-measure"></div><div class="CodeMirror-measure"></div><div style="position: relative; z-index: 1;"></div><div class="CodeMirror-cursors" style=""><div class="CodeMirror-cursor" style="left: 88.3281px; top: 238px; height: 17px;">&nbsp;</div></div><div class="CodeMirror-code" role="presentation" style=""><pre class=" CodeMirror-line " role="presentation"><span role="presentation" style="padding-right: 0.1px;"><span class="cm-comment">### Plotting </span></span></pre><pre class=" CodeMirror-line " role="presentation"><span role="presentation" style="padding-right: 0.1px;"><span class="cm-comment"># shift train predictions for plotting</span></span></pre><pre class=" CodeMirror-line " role="presentation"><span role="presentation" style="padding-right: 0.1px;"><span class="cm-variable">look_back</span><span class="cm-operator">=</span><span class="cm-number">100</span></span></pre><pre class=" CodeMirror-line " role="presentation"><span role="presentation" style="padding-right: 0.1px;"><span class="cm-variable">trainPredictPlot</span> <span class="cm-operator">=</span> <span class="cm-variable">numpy</span>.<span class="cm-property">empty_like</span>(<span class="cm-variable">df1</span>)</span></pre><pre class=" CodeMirror-line " role="presentation"><span role="presentation" style="padding-right: 0.1px;"><span class="cm-variable">trainPredictPlot</span>[:, :] <span class="cm-operator">=</span> <span class="cm-variable">np</span>.<span class="cm-property">nan</span></span></pre><pre class=" CodeMirror-line " role="presentation"><span role="presentation" style="padding-right: 0.1px;"><span class="cm-variable">trainPredictPlot</span>[<span class="cm-variable">look_back</span>:<span class="cm-builtin">len</span>(<span class="cm-variable">train_predict</span>)<span class="cm-operator">+</span><span class="cm-variable">look_back</span>, :] <span class="cm-operator">=</span> <span class="cm-variable">train_predict</span></span></pre><pre class=" CodeMirror-line " role="presentation"><span role="presentation" style="padding-right: 0.1px;"><span class="cm-comment"># shift test predictions for plotting</span></span></pre><pre class=" CodeMirror-line " role="presentation"><span role="presentation" style="padding-right: 0.1px;"><span class="cm-variable">testPredictPlot</span> <span class="cm-operator">=</span> <span class="cm-variable">numpy</span>.<span class="cm-property">empty_like</span>(<span class="cm-variable">df1</span>)</span></pre><pre class=" CodeMirror-line " role="presentation"><span role="presentation" style="padding-right: 0.1px;"><span class="cm-variable">testPredictPlot</span>[:, :] <span class="cm-operator">=</span> <span class="cm-variable">numpy</span>.<span class="cm-property">nan</span></span></pre><pre class=" CodeMirror-line " role="presentation"><span role="presentation" style="padding-right: 0.1px;"><span class="cm-variable">testPredictPlot</span>[<span class="cm-builtin">len</span>(<span class="cm-variable">train_predict</span>)<span class="cm-operator">+</span>(<span class="cm-variable">look_back</span><span class="cm-operator">*</span><span class="cm-number">2</span>)<span class="cm-operator">+</span><span class="cm-number">1</span>:<span class="cm-builtin">len</span>(<span class="cm-variable">df1</span>)<span class="cm-operator">-</span><span class="cm-number">1</span>, :] <span class="cm-operator">=</span> <span class="cm-variable">test_predict</span></span></pre><pre class=" CodeMirror-line " role="presentation"><span role="presentation" style="padding-right: 0.1px;"><span class="cm-comment"># plot baseline and predictions</span></span></pre><pre class=" CodeMirror-line " role="presentation"><span role="presentation" style="padding-right: 0.1px;"><span class="cm-variable">plt</span>.<span class="cm-property">plot</span>(<span class="cm-variable">scaler</span>.<span class="cm-property">inverse_transform</span>(<span class="cm-variable">df1</span>))</span></pre><pre class=" CodeMirror-line " role="presentation"><span role="presentation" style="padding-right: 0.1px;"><span class="cm-variable">plt</span>.<span class="cm-property">plot</span>(<span class="cm-variable">trainPredictPlot</span>)</span></pre><pre class=" CodeMirror-line " role="presentation"><span role="presentation" style="padding-right: 0.1px;"><span class="cm-variable">plt</span>.<span class="cm-property">plot</span>(<span class="cm-variable">testPredictPlot</span>)</span></pre><pre class=" CodeMirror-line " role="presentation"><span role="presentation" style="padding-right: 0.1px;"><span class="cm-variable">plt</span>.<span class="cm-property">show</span><span class=" CodeMirror-matchingbracket">(</span><span class=" CodeMirror-matchingbracket">)</span></span></pre></div></div></div></div></div><div style="position: absolute; height: 15px; width: 1px; border-bottom: 0px solid transparent; top: 266px;"></div><div class="CodeMirror-gutters" style="display: none; height: 281px;"></div></div></div></div></div></div><div class="output_wrapper"><div class="out_prompt_overlay prompt" title="click to scroll output; double click to hide"></div><div class="output"><div class="output_area"><div class="run_this_cell"></div><div class="prompt"></div><div class="output_subarea output_png"><img src="data:image/png;base64,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"></div></div></div><div class="btn btn-default output_collapsed" title="click to expand output" style="display: none;">. . .</div></div></div><div class="cell code_cell rendered unselected" tabindex="2"><div class="input"><div class="prompt_container"><div class="prompt input_prompt"><bdi>In</bdi>&nbsp;[42]:</div><div class="run_this_cell" title="Run this cell"><i class="fa-step-forward fa"></i></div></div><div class="inner_cell"><div class="ctb_hideshow"><div class="celltoolbar"></div></div><div class="input_area" aria-label="Edit code here"><div class="CodeMirror cm-s-ipython"><div style="overflow: hidden; position: relative; width: 3px; height: 0px; top: 5.59375px; left: 122.031px;"><textarea autocorrect="off" autocapitalize="off" spellcheck="false" tabindex="0" style="position: absolute; bottom: -1em; padding: 0px; width: 1000px; height: 1em; outline: none;"></textarea></div><div class="CodeMirror-vscrollbar" tabindex="-1" cm-not-content="true"><div style="min-width: 1px; height: 0px;"></div></div><div class="CodeMirror-hscrollbar" tabindex="-1" cm-not-content="true"><div style="height: 100%; min-height: 1px; width: 0px;"></div></div><div class="CodeMirror-scrollbar-filler" cm-not-content="true"></div><div class="CodeMirror-gutter-filler" cm-not-content="true"></div><div class="CodeMirror-scroll" tabindex="-1"><div class="CodeMirror-sizer" style="margin-left: 0px; min-width: 125.031px; margin-bottom: -15px; border-right-width: 15px; min-height: 28px; padding-right: 0px; padding-bottom: 0px;"><div style="position: relative; top: 0px;"><div class="CodeMirror-lines" role="presentation"><div role="presentation" style="position: relative; outline: none;"><div class="CodeMirror-measure"></div><div class="CodeMirror-measure"></div><div style="position: relative; z-index: 1;"></div><div class="CodeMirror-cursors" style="visibility: hidden;"><div class="CodeMirror-cursor" style="left: 122.031px; top: 0px; height: 17px;">&nbsp;</div></div><div class="CodeMirror-code" role="presentation"><pre class=" CodeMirror-line " role="presentation"><span role="presentation" style="padding-right: 0.1px;"><span class="cm-builtin">len</span><span class=" CodeMirror-matchingbracket">(</span><span class="cm-variable">test_data</span><span class=" CodeMirror-matchingbracket">)</span></span></pre></div></div></div></div></div><div style="position: absolute; height: 15px; width: 1px; border-bottom: 0px solid transparent; top: 28px;"></div><div class="CodeMirror-gutters" style="display: none; height: 43px;"></div></div></div></div></div></div><div class="output_wrapper"><div class="out_prompt_overlay prompt" title="click to scroll output; double click to hide"></div><div class="output"><div class="output_area"><div class="run_this_cell"></div><div class="prompt output_prompt"><bdi>Out[42]:</bdi></div><div class="output_subarea output_text output_result"><pre>440</pre></div></div></div><div class="btn btn-default output_collapsed" title="click to expand output" style="display: none;">. . .</div></div></div><div class="cell code_cell rendered unselected" tabindex="2"><div class="input"><div class="prompt_container"><div class="prompt input_prompt"><bdi>In</bdi>&nbsp;[43]:</div><div class="run_this_cell" title="Run this cell"><i class="fa-step-forward fa"></i></div></div><div class="inner_cell"><div class="ctb_hideshow"><div class="celltoolbar"></div></div><div class="input_area" aria-label="Edit code here"><div class="CodeMirror cm-s-ipython"><div style="overflow: hidden; position: relative; width: 3px; height: 0px; top: 22.5938px; left: 113.609px;"><textarea autocorrect="off" autocapitalize="off" spellcheck="false" tabindex="0" style="position: absolute; bottom: -1em; padding: 0px; width: 1000px; height: 1em; outline: none;"></textarea></div><div class="CodeMirror-vscrollbar" tabindex="-1" cm-not-content="true"><div style="min-width: 1px; height: 0px;"></div></div><div class="CodeMirror-hscrollbar" tabindex="-1" cm-not-content="true"><div style="height: 100%; min-height: 1px; width: 0px;"></div></div><div class="CodeMirror-scrollbar-filler" cm-not-content="true"></div><div class="CodeMirror-gutter-filler" cm-not-content="true"></div><div class="CodeMirror-scroll" tabindex="-1"><div class="CodeMirror-sizer" style="margin-left: 0px; min-width: 318.984px; margin-bottom: -15px; border-right-width: 15px; min-height: 45px; padding-right: 0px; padding-bottom: 0px;"><div style="position: relative; top: 0px;"><div class="CodeMirror-lines" role="presentation"><div role="presentation" style="position: relative; outline: none;"><div class="CodeMirror-measure"></div><div class="CodeMirror-measure"></div><div style="position: relative; z-index: 1;"></div><div class="CodeMirror-cursors" style="visibility: hidden;"><div class="CodeMirror-cursor" style="left: 113.609px; top: 17px; height: 17px;">&nbsp;</div></div><div class="CodeMirror-code" role="presentation"><pre class=" CodeMirror-line " role="presentation"><span role="presentation" style="padding-right: 0.1px;"><span class="cm-variable">x_input</span><span class="cm-operator">=</span><span class="cm-variable">test_data</span>[<span class="cm-number">341</span>:].<span class="cm-property">reshape</span>(<span class="cm-number">1</span>,<span class="cm-operator">-</span><span class="cm-number">1</span>)</span></pre><pre class=" CodeMirror-line " role="presentation"><span role="presentation" style="padding-right: 0.1px;"><span class="cm-variable">x_input</span>.<span class="cm-property">shape</span></span></pre></div></div></div></div></div><div style="position: absolute; height: 15px; width: 1px; border-bottom: 0px solid transparent; top: 45px;"></div><div class="CodeMirror-gutters" style="display: none; height: 60px;"></div></div></div></div></div></div><div class="output_wrapper"><div class="out_prompt_overlay prompt" title="click to scroll output; double click to hide"></div><div class="output"><div class="output_area"><div class="run_this_cell"></div><div class="prompt output_prompt"><bdi>Out[43]:</bdi></div><div class="output_subarea output_text output_result"><pre>(1, 99)</pre></div></div></div><div class="btn btn-default output_collapsed" title="click to expand output" style="display: none;">. . .</div></div></div><div class="cell code_cell rendered unselected" tabindex="2"><div class="input"><div class="prompt_container"><div class="prompt input_prompt"><bdi>In</bdi>&nbsp;[44]:</div><div class="run_this_cell" title="Run this cell"><i class="fa-step-forward fa"></i></div></div><div class="inner_cell"><div class="ctb_hideshow"><div class="celltoolbar"></div></div><div class="input_area" aria-label="Edit code here"><div class="CodeMirror cm-s-ipython"><div style="overflow: hidden; position: relative; width: 3px; height: 0px; top: 22.5938px; left: 282.219px;"><textarea autocorrect="off" autocapitalize="off" spellcheck="false" tabindex="0" style="position: absolute; bottom: -1em; padding: 0px; width: 1000px; height: 1em; outline: none;"></textarea></div><div class="CodeMirror-vscrollbar" tabindex="-1" cm-not-content="true"><div style="min-width: 1px; height: 0px;"></div></div><div class="CodeMirror-hscrollbar" tabindex="-1" cm-not-content="true"><div style="height: 100%; min-height: 1px; width: 0px;"></div></div><div class="CodeMirror-scrollbar-filler" cm-not-content="true"></div><div class="CodeMirror-gutter-filler" cm-not-content="true"></div><div class="CodeMirror-scroll" tabindex="-1"><div class="CodeMirror-sizer" style="margin-left: 0px; min-width: 285.219px; margin-bottom: -15px; border-right-width: 15px; min-height: 45px; padding-right: 0px; padding-bottom: 0px;"><div style="position: relative; top: 0px;"><div class="CodeMirror-lines" role="presentation"><div role="presentation" style="position: relative; outline: none;"><div class="CodeMirror-measure"></div><div class="CodeMirror-measure"></div><div style="position: relative; z-index: 1;"></div><div class="CodeMirror-cursors" style="visibility: hidden;"><div class="CodeMirror-cursor" style="left: 282.219px; top: 17px; height: 17px;">&nbsp;</div></div><div class="CodeMirror-code" role="presentation"><pre class=" CodeMirror-line " role="presentation"><span role="presentation" style="padding-right: 0.1px;"><span class="cm-variable">temp_input</span><span class="cm-operator">=</span><span class="cm-builtin">list</span>(<span class="cm-variable">x_input</span>)</span></pre><pre class=" CodeMirror-line " role="presentation"><span role="presentation" style="padding-right: 0.1px;"><span class="cm-variable">temp_input</span><span class="cm-operator">=</span><span class="cm-variable">temp_input</span>[<span class="cm-number">0</span>].<span class="cm-property">tolist</span><span class=" CodeMirror-matchingbracket">(</span><span class=" CodeMirror-matchingbracket">)</span></span></pre></div></div></div></div></div><div style="position: absolute; height: 15px; width: 1px; border-bottom: 0px solid transparent; top: 45px;"></div><div class="CodeMirror-gutters" style="display: none; height: 60px;"></div></div></div></div></div></div><div class="output_wrapper"><div class="out_prompt_overlay prompt" title="click to scroll output; double click to hide"></div><div class="output"></div><div class="btn btn-default output_collapsed" title="click to expand output" style="display: none;">. . .</div></div></div><div class="cell code_cell rendered unselected" tabindex="2"><div class="input"><div class="prompt_container"><div class="prompt input_prompt"><bdi>In</bdi>&nbsp;[45]:</div><div class="run_this_cell" title="Run this cell"><i class="fa-step-forward fa"></i></div></div><div class="inner_cell"><div class="ctb_hideshow"><div class="celltoolbar"></div></div><div class="input_area" aria-label="Edit code here"><div class="CodeMirror cm-s-ipython"><div style="overflow: hidden; position: relative; width: 3px; height: 0px; top: 5.59375px; left: 88.2969px;"><textarea autocorrect="off" autocapitalize="off" spellcheck="false" tabindex="0" style="position: absolute; bottom: -1em; padding: 0px; width: 1000px; height: 1em; outline: none;"></textarea></div><div class="CodeMirror-vscrollbar" tabindex="-1" cm-not-content="true"><div style="min-width: 1px; height: 0px;"></div></div><div class="CodeMirror-hscrollbar" tabindex="-1" cm-not-content="true"><div style="height: 100%; min-height: 1px; width: 0px;"></div></div><div class="CodeMirror-scrollbar-filler" cm-not-content="true"></div><div class="CodeMirror-gutter-filler" cm-not-content="true"></div><div class="CodeMirror-scroll" tabindex="-1"><div class="CodeMirror-sizer" style="margin-left: 0px; min-width: 91.2969px; margin-bottom: -15px; border-right-width: 15px; min-height: 28px; padding-right: 0px; padding-bottom: 0px;"><div style="position: relative; top: 0px;"><div class="CodeMirror-lines" role="presentation"><div role="presentation" style="position: relative; outline: none;"><div class="CodeMirror-measure"></div><div class="CodeMirror-measure"></div><div style="position: relative; z-index: 1;"></div><div class="CodeMirror-cursors" style="visibility: hidden;"><div class="CodeMirror-cursor" style="left: 88.2969px; top: 0px; height: 17px;">&nbsp;</div></div><div class="CodeMirror-code" role="presentation"><pre class=" CodeMirror-line " role="presentation"><span role="presentation" style="padding-right: 0.1px;"><span class="cm-variable">temp_input</span></span></pre></div></div></div></div></div><div style="position: absolute; height: 15px; width: 1px; border-bottom: 0px solid transparent; top: 28px;"></div><div class="CodeMirror-gutters" style="display: none; height: 43px;"></div></div></div></div></div></div><div class="output_wrapper"><div class="out_prompt_overlay prompt" title="click to scroll output; double click to hide"></div><div class="output"><div class="output_area"><div class="run_this_cell"></div><div class="prompt output_prompt"><bdi>Out[45]:</bdi></div><div class="output_subarea output_text output_result"><pre>[0.6038698065096745,
 0.600843487237403,
 0.5636012317031208,
 0.6587229462056311,
 0.6650579235744097,
 0.6403091610125377,
 0.6457706526438384,
 0.6672195801974606,
 0.6638579835714097,
 0.6861451045094805,
 0.7000944070443537,
 0.7132319854595507,
 0.6889508465753184,
 0.6656490704876522,
 0.6716487705026516,
 0.6867009590696936,
 0.6961857789463469,
 0.6869568286291569,
 0.7162847739965944,
 0.7128261233997125,
 0.7195493166518147,
 0.7253725549016669,
 0.7260960481387696,
 0.7251166853422036,
 0.7358720299279154,
 0.7384307255225474,
 0.7449598108329879,
 0.7424540537679,
 0.7211021801851086,
 0.7442274945076278,
 0.7514800730551708,
 0.7599061223409419,
 0.7684556948623157,
 0.7137437245784769,
 0.7219844890108437,
 0.7278694888784972,
 0.748047891723061,
 0.7554592858592365,
 0.7420834840610911,
 0.738342494639974,
 0.7561121943902805,
 0.7671851701532572,
 0.7385630718464079,
 0.7468214824552891,
 0.6749750747756732,
 0.7059176452942061,
 0.7223638818059096,
 0.7439186864186204,
 0.7674410397127204,
 0.7947926133105111,
 0.785510724463777,
 0.7950573059582317,
 0.808283115256002,
 0.8354141116473589,
 0.8085919233450093,
 0.8167444568948025,
 0.8106212336442004,
 0.8144681001244057,
 0.8123064435013544,
 0.8565718772884886,
 0.8501310228606219,
 0.8590158727357752,
 0.8124211436487,
 0.8090595470226488,
 0.8252322677983749,
 0.7988865262619221,
 0.818014981603861,
 0.826335153830544,
 0.7835519988706449,
 0.7760435507636384,
 0.7676792630956689,
 0.7753024113500208,
 0.7986747721437458,
 0.7937250196313715,
 0.795145536840805,
 0.7812227035707039,
 0.8044274256875391,
 0.8148651390959866,
 0.8054067884841053,
 0.8144504539478911,
 0.850289838449254,
 0.8405226797483657,
 0.8707152877650236,
 0.869541817026796,
 0.8764061796910155,
 0.894070002382234,
 0.9330327601266998,
 0.9171070858221796,
 0.9260007587855904,
 0.9169747394983193,
 0.9403823926450737,
 1.0,
 0.9237332251034508,
 0.8789119367561035,
 0.827164524126735,
 0.8488428519750485,
 0.8268380698612129,
 0.8168679801304054,
 0.8155974554213467]</pre></div></div></div><div class="btn btn-default output_collapsed" title="click to expand output" style="display: none;">. . .</div></div></div><div class="cell code_cell rendered unselected" tabindex="2"><div class="input"><div class="prompt_container"><div class="prompt input_prompt"><bdi>In</bdi>&nbsp;[49]:</div><div class="run_this_cell" title="Run this cell"><i class="fa-step-forward fa"></i></div></div><div class="inner_cell"><div class="ctb_hideshow"><div class="celltoolbar"></div></div><div class="input_area" aria-label="Edit code here"><div class="CodeMirror cm-s-ipython"><div style="overflow: hidden; position: relative; width: 3px; height: 0px; top: 5.59375px; left: 130.469px;"><textarea autocorrect="off" autocapitalize="off" spellcheck="false" tabindex="0" style="position: absolute; bottom: -1em; padding: 0px; width: 1000px; height: 1em; outline: none;"></textarea></div><div class="CodeMirror-vscrollbar" tabindex="-1" cm-not-content="true"><div style="min-width: 1px; height: 0px;"></div></div><div class="CodeMirror-hscrollbar" tabindex="-1" cm-not-content="true"><div style="height: 100%; min-height: 1px; width: 0px;"></div></div><div class="CodeMirror-scrollbar-filler" cm-not-content="true"></div><div class="CodeMirror-gutter-filler" cm-not-content="true"></div><div class="CodeMirror-scroll" tabindex="-1"><div class="CodeMirror-sizer" style="margin-left: 0px; min-width: 133.469px; margin-bottom: -15px; border-right-width: 15px; min-height: 28px; padding-right: 0px; padding-bottom: 0px;"><div style="position: relative; top: 0px;"><div class="CodeMirror-lines" role="presentation"><div role="presentation" style="position: relative; outline: none;"><div class="CodeMirror-measure"><pre class="CodeMirror-line-like"><span>xxxxxxxxxx</span></pre></div><div class="CodeMirror-measure"></div><div style="position: relative; z-index: 1;"></div><div class="CodeMirror-cursors" style=""><div class="CodeMirror-cursor" style="left: 130.469px; top: 0px; height: 17px;">&nbsp;</div></div><div class="CodeMirror-code" role="presentation"><pre class=" CodeMirror-line " role="presentation"><span role="presentation" style="padding-right: 0.1px;"><span class="cm-builtin">len</span><span class=" CodeMirror-matchingbracket">(</span><span class="cm-variable">temp_input</span><span class=" CodeMirror-matchingbracket">)</span></span></pre></div></div></div></div></div><div style="position: absolute; height: 15px; width: 1px; border-bottom: 0px solid transparent; top: 28px;"></div><div class="CodeMirror-gutters" style="display: none; height: 43px;"></div></div></div></div></div></div><div class="output_wrapper"><div class="out_prompt_overlay prompt" title="click to scroll output; double click to hide"></div><div class="output"><div class="output_area"><div class="run_this_cell"></div><div class="prompt output_prompt"><bdi>Out[49]:</bdi></div><div class="output_subarea output_text output_result"><pre>99</pre></div></div></div><div class="btn btn-default output_collapsed" title="click to expand output" style="display: none;">. . .</div></div></div><div class="cell code_cell rendered unselected" tabindex="2"><div class="input"><div class="prompt_container"><div class="prompt input_prompt"><bdi>In</bdi>&nbsp;[50]:</div><div class="run_this_cell" title="Run this cell"><i class="fa-step-forward fa"></i></div></div><div class="inner_cell"><div class="ctb_hideshow"><div class="celltoolbar"></div></div><div class="input_area" aria-label="Edit code here"><div class="CodeMirror cm-s-ipython"><div style="overflow: hidden; position: relative; width: 3px; height: 0px; top: 532.594px; left: 4px;"><textarea autocorrect="off" autocapitalize="off" spellcheck="false" tabindex="0" style="position: absolute; bottom: -1em; padding: 0px; width: 1000px; height: 1em; outline: none;"></textarea></div><div class="CodeMirror-vscrollbar" tabindex="-1" cm-not-content="true" style="bottom: 0px;"><div style="min-width: 1px; height: 0px;"></div></div><div class="CodeMirror-hscrollbar" tabindex="-1" cm-not-content="true"><div style="height: 100%; min-height: 1px; width: 0px;"></div></div><div class="CodeMirror-scrollbar-filler" cm-not-content="true"></div><div class="CodeMirror-gutter-filler" cm-not-content="true"></div><div class="CodeMirror-scroll" tabindex="-1"><div class="CodeMirror-sizer" style="margin-left: 0px; min-width: 428.531px; margin-bottom: -15px; border-right-width: 15px; min-height: 572px; padding-right: 0px; padding-bottom: 0px;"><div style="position: relative; top: 0px;"><div class="CodeMirror-lines" role="presentation"><div role="presentation" style="position: relative; outline: none;"><div class="CodeMirror-measure"></div><div class="CodeMirror-measure"></div><div style="position: relative; z-index: 1;"></div><div class="CodeMirror-cursors" style="visibility: hidden;"><div class="CodeMirror-cursor" style="left: 4px; top: 527px; height: 17px;">&nbsp;</div></div><div class="CodeMirror-code" role="presentation" style=""><pre class=" CodeMirror-line " role="presentation"><span role="presentation" style="padding-right: 0.1px;"><span class="cm-comment"># demonstrate prediction for next 10 days</span></span></pre><pre class=" CodeMirror-line " role="presentation"><span role="presentation" style="padding-right: 0.1px;"><span class="cm-keyword">from</span> <span class="cm-variable">numpy</span> <span class="cm-keyword">import</span> <span class="cm-variable">array</span></span></pre><pre class=" CodeMirror-line " role="presentation"><span role="presentation" style="padding-right: 0.1px;"><span cm-text="">​</span></span></pre><pre class=" CodeMirror-line " role="presentation"><span role="presentation" style="padding-right: 0.1px;"><span class="cm-variable">lst_output</span><span class="cm-operator">=</span>[]</span></pre><pre class=" CodeMirror-line " role="presentation"><span role="presentation" style="padding-right: 0.1px;"><span class="cm-variable">n_steps</span><span class="cm-operator">=</span><span class="cm-number">100</span></span></pre><pre class=" CodeMirror-line " role="presentation"><span role="presentation" style="padding-right: 0.1px;"><span class="cm-variable">i</span><span class="cm-operator">=</span><span class="cm-number">0</span></span></pre><pre class=" CodeMirror-line " role="presentation"><span role="presentation" style="padding-right: 0.1px;"><span class="cm-keyword">while</span>(<span class="cm-variable">i</span><span class="cm-operator">&lt;</span><span class="cm-number">30</span>):</span></pre><pre class=" CodeMirror-line " role="presentation"><span role="presentation" style="padding-right: 0.1px;">    </span></pre><pre class=" CodeMirror-line " role="presentation"><span role="presentation" style="padding-right: 0.1px;">    <span class="cm-keyword">if</span>(<span class="cm-builtin">len</span>(<span class="cm-variable">temp_input</span>)<span class="cm-operator">&gt;</span><span class="cm-number">100</span>):</span></pre><pre class=" CodeMirror-line " role="presentation"><span role="presentation" style="padding-right: 0.1px;">        <span class="cm-comment">#print(temp_input)</span></span></pre><pre class=" CodeMirror-line " role="presentation"><span role="presentation" style="padding-right: 0.1px;">        <span class="cm-variable">x_input</span><span class="cm-operator">=</span><span class="cm-variable">np</span>.<span class="cm-property">array</span>(<span class="cm-variable">temp_input</span>[<span class="cm-number">1</span>:])</span></pre><pre class=" CodeMirror-line " role="presentation"><span role="presentation" style="padding-right: 0.1px;">        <span class="cm-builtin">print</span>(<span class="cm-string">"{} day input {}"</span>.<span class="cm-property">format</span>(<span class="cm-variable">i</span>,<span class="cm-variable">x_input</span>))</span></pre><pre class=" CodeMirror-line " role="presentation"><span role="presentation" style="padding-right: 0.1px;">        <span class="cm-variable">x_input</span><span class="cm-operator">=</span><span class="cm-variable">x_input</span>.<span class="cm-property">reshape</span>(<span class="cm-number">1</span>,<span class="cm-operator">-</span><span class="cm-number">1</span>)</span></pre><pre class=" CodeMirror-line " role="presentation"><span role="presentation" style="padding-right: 0.1px;">        <span class="cm-variable">x_input</span> <span class="cm-operator">=</span> <span class="cm-variable">x_input</span>.<span class="cm-property">reshape</span>((<span class="cm-number">1</span>, <span class="cm-variable">n_steps</span>, <span class="cm-number">1</span>))</span></pre><pre class=" CodeMirror-line " role="presentation"><span role="presentation" style="padding-right: 0.1px;">        <span class="cm-comment">#print(x_input)</span></span></pre><pre class=" CodeMirror-line " role="presentation"><span role="presentation" style="padding-right: 0.1px;">        <span class="cm-variable">yhat</span> <span class="cm-operator">=</span> <span class="cm-variable">model</span>.<span class="cm-property">predict</span>(<span class="cm-variable">x_input</span>, <span class="cm-variable">verbose</span><span class="cm-operator">=</span><span class="cm-number">0</span>)</span></pre><pre class=" CodeMirror-line " role="presentation"><span role="presentation" style="padding-right: 0.1px;">        <span class="cm-builtin">print</span>(<span class="cm-string">"{} day output {}"</span>.<span class="cm-property">format</span>(<span class="cm-variable">i</span>,<span class="cm-variable">yhat</span>))</span></pre><pre class=" CodeMirror-line " role="presentation"><span role="presentation" style="padding-right: 0.1px;">        <span class="cm-variable">temp_input</span>.<span class="cm-property">extend</span>(<span class="cm-variable">yhat</span>[<span class="cm-number">0</span>].<span class="cm-property">tolist</span>())</span></pre><pre class=" CodeMirror-line " role="presentation"><span role="presentation" style="padding-right: 0.1px;">        <span class="cm-variable">temp_input</span><span class="cm-operator">=</span><span class="cm-variable">temp_input</span>[<span class="cm-number">1</span>:]</span></pre><pre class=" CodeMirror-line " role="presentation"><span role="presentation" style="padding-right: 0.1px;">        <span class="cm-comment">#print(temp_input)</span></span></pre><pre class=" CodeMirror-line " role="presentation"><span role="presentation" style="padding-right: 0.1px;">        <span class="cm-variable">lst_output</span>.<span class="cm-property">extend</span>(<span class="cm-variable">yhat</span>.<span class="cm-property">tolist</span>())</span></pre><pre class=" CodeMirror-line " role="presentation"><span role="presentation" style="padding-right: 0.1px;">        <span class="cm-variable">i</span><span class="cm-operator">=</span><span class="cm-variable">i</span><span class="cm-operator">+</span><span class="cm-number">1</span></span></pre><pre class=" CodeMirror-line " role="presentation"><span role="presentation" style="padding-right: 0.1px;">    <span class="cm-keyword">else</span>:</span></pre><pre class=" CodeMirror-line " role="presentation"><span role="presentation" style="padding-right: 0.1px;">        <span class="cm-variable">x_input</span> <span class="cm-operator">=</span> <span class="cm-variable">x_input</span>.<span class="cm-property">reshape</span>((<span class="cm-number">1</span>, <span class="cm-variable">n_steps</span>,<span class="cm-number">1</span>))</span></pre><pre class=" CodeMirror-line " role="presentation"><span role="presentation" style="padding-right: 0.1px;">        <span class="cm-variable">yhat</span> <span class="cm-operator">=</span> <span class="cm-variable">model</span>.<span class="cm-property">predict</span>(<span class="cm-variable">x_input</span>, <span class="cm-variable">verbose</span><span class="cm-operator">=</span><span class="cm-number">0</span>)</span></pre><pre class=" CodeMirror-line " role="presentation"><span role="presentation" style="padding-right: 0.1px;">        <span class="cm-builtin">print</span>(<span class="cm-variable">yhat</span>[<span class="cm-number">0</span>])</span></pre><pre class=" CodeMirror-line " role="presentation"><span role="presentation" style="padding-right: 0.1px;">        <span class="cm-variable">temp_input</span>.<span class="cm-property">extend</span>(<span class="cm-variable">yhat</span>[<span class="cm-number">0</span>].<span class="cm-property">tolist</span>())</span></pre><pre class=" CodeMirror-line " role="presentation"><span role="presentation" style="padding-right: 0.1px;">        <span class="cm-builtin">print</span>(<span class="cm-builtin">len</span>(<span class="cm-variable">temp_input</span>))</span></pre><pre class=" CodeMirror-line " role="presentation"><span role="presentation" style="padding-right: 0.1px;">        <span class="cm-variable">lst_output</span>.<span class="cm-property">extend</span>(<span class="cm-variable">yhat</span>.<span class="cm-property">tolist</span>())</span></pre><pre class=" CodeMirror-line " role="presentation"><span role="presentation" style="padding-right: 0.1px;">        <span class="cm-variable">i</span><span class="cm-operator">=</span><span class="cm-variable">i</span><span class="cm-operator">+</span><span class="cm-number">1</span></span></pre><pre class=" CodeMirror-line " role="presentation"><span role="presentation" style="padding-right: 0.1px;">    </span></pre><pre class=" CodeMirror-line " role="presentation"><span role="presentation" style="padding-right: 0.1px;"><span cm-text="">​</span></span></pre><pre class=" CodeMirror-line " role="presentation"><span role="presentation" style="padding-right: 0.1px;"><span class="cm-builtin">print</span>(<span class="cm-variable">lst_output</span>)</span></pre></div></div></div></div></div><div style="position: absolute; height: 15px; width: 1px; border-bottom: 0px solid transparent; top: 572px;"></div><div class="CodeMirror-gutters" style="display: none; height: 587px;"></div></div></div></div></div></div><div class="output_wrapper"><div class="out_prompt_overlay prompt" title="click to scroll output; double click to hide"></div><div class="output"><div class="output_area"><div class="run_this_cell"></div><div class="prompt"></div><div class="output_subarea output_text output_error"><pre><span class="ansi-red-fg">---------------------------------------------------------------------------</span>
<span class="ansi-red-fg">ValueError</span>                                Traceback (most recent call last)
<span class="ansi-green-fg">&lt;ipython-input-50-b8544ff16353&gt;</span> in <span class="ansi-cyan-fg">&lt;module&gt;</span>
<span class="ansi-green-intense-fg ansi-bold">     22</span>         i<span class="ansi-blue-fg">=</span>i<span class="ansi-blue-fg">+</span><span class="ansi-cyan-fg">1</span>
<span class="ansi-green-intense-fg ansi-bold">     23</span>     <span class="ansi-green-fg">else</span><span class="ansi-blue-fg">:</span>
<span class="ansi-green-fg">---&gt; 24</span><span class="ansi-red-fg">         </span>x_input <span class="ansi-blue-fg">=</span> x_input<span class="ansi-blue-fg">.</span>reshape<span class="ansi-blue-fg">(</span><span class="ansi-blue-fg">(</span><span class="ansi-cyan-fg">1</span><span class="ansi-blue-fg">,</span> n_steps<span class="ansi-blue-fg">,</span><span class="ansi-cyan-fg">1</span><span class="ansi-blue-fg">)</span><span class="ansi-blue-fg">)</span>
<span class="ansi-green-intense-fg ansi-bold">     25</span>         yhat <span class="ansi-blue-fg">=</span> model<span class="ansi-blue-fg">.</span>predict<span class="ansi-blue-fg">(</span>x_input<span class="ansi-blue-fg">,</span> verbose<span class="ansi-blue-fg">=</span><span class="ansi-cyan-fg">0</span><span class="ansi-blue-fg">)</span>
<span class="ansi-green-intense-fg ansi-bold">     26</span>         print<span class="ansi-blue-fg">(</span>yhat<span class="ansi-blue-fg">[</span><span class="ansi-cyan-fg">0</span><span class="ansi-blue-fg">]</span><span class="ansi-blue-fg">)</span>

<span class="ansi-red-fg">ValueError</span>: cannot reshape array of size 99 into shape (1,100,1)

</pre></div></div></div><div class="btn btn-default output_collapsed" title="click to expand output" style="display: none;">. . .</div></div></div><div class="cell code_cell rendered unselected" tabindex="2"><div class="input"><div class="prompt_container"><div class="prompt input_prompt"><bdi>In</bdi>&nbsp;[51]:</div><div class="run_this_cell" title="Run this cell"><i class="fa-step-forward fa"></i></div></div><div class="inner_cell"><div class="ctb_hideshow"><div class="celltoolbar"></div></div><div class="input_area" aria-label="Edit code here"><div class="CodeMirror cm-s-ipython"><div style="overflow: hidden; position: relative; width: 3px; height: 0px; top: 22.5938px; left: 231.656px;"><textarea autocorrect="off" autocapitalize="off" spellcheck="false" tabindex="0" style="position: absolute; bottom: -1em; padding: 0px; width: 1000px; height: 1em; outline: none;"></textarea></div><div class="CodeMirror-vscrollbar" tabindex="-1" cm-not-content="true"><div style="min-width: 1px; height: 0px;"></div></div><div class="CodeMirror-hscrollbar" tabindex="-1" cm-not-content="true"><div style="height: 100%; min-height: 1px; width: 0px;"></div></div><div class="CodeMirror-scrollbar-filler" cm-not-content="true"></div><div class="CodeMirror-gutter-filler" cm-not-content="true"></div><div class="CodeMirror-scroll" tabindex="-1"><div class="CodeMirror-sizer" style="margin-left: 0px; min-width: 234.656px; margin-bottom: -15px; border-right-width: 15px; min-height: 45px; padding-right: 0px; padding-bottom: 0px;"><div style="position: relative; top: 0px;"><div class="CodeMirror-lines" role="presentation"><div role="presentation" style="position: relative; outline: none;"><div class="CodeMirror-measure"><pre class="CodeMirror-line-like"><span>xxxxxxxxxx</span></pre></div><div class="CodeMirror-measure"></div><div style="position: relative; z-index: 1;"></div><div class="CodeMirror-cursors" style="visibility: hidden;"><div class="CodeMirror-cursor" style="left: 231.656px; top: 17px; height: 17px;">&nbsp;</div></div><div class="CodeMirror-code" role="presentation"><pre class=" CodeMirror-line " role="presentation"><span role="presentation" style="padding-right: 0.1px;"><span class="cm-variable">day_new</span><span class="cm-operator">=</span><span class="cm-variable">np</span>.<span class="cm-property">arange</span>(<span class="cm-number">1</span>,<span class="cm-number">101</span>)</span></pre><pre class=" CodeMirror-line " role="presentation"><span role="presentation" style="padding-right: 0.1px;"><span class="cm-variable">day_pred</span><span class="cm-operator">=</span><span class="cm-variable">np</span>.<span class="cm-property">arange</span><span class=" CodeMirror-matchingbracket">(</span><span class="cm-number">101</span>,<span class="cm-number">131</span><span class=" CodeMirror-matchingbracket">)</span></span></pre></div></div></div></div></div><div style="position: absolute; height: 15px; width: 1px; border-bottom: 0px solid transparent; top: 45px;"></div><div class="CodeMirror-gutters" style="display: none; height: 60px;"></div></div></div></div></div></div><div class="output_wrapper"><div class="out_prompt_overlay prompt" title="click to scroll output; double click to hide"></div><div class="output"></div><div class="btn btn-default output_collapsed" title="click to expand output" style="display: none;">. . .</div></div></div><div class="cell code_cell rendered unselected" tabindex="2"><div class="input"><div class="prompt_container"><div class="prompt input_prompt"><bdi>In</bdi>&nbsp;[52]:</div><div class="run_this_cell" title="Run this cell"><i class="fa-step-forward fa"></i></div></div><div class="inner_cell"><div class="ctb_hideshow"><div class="celltoolbar"></div></div><div class="input_area" aria-label="Edit code here"><div class="CodeMirror cm-s-ipython"><div style="overflow: hidden; position: relative; width: 3px; height: 0px; top: 5.59375px; left: 265.359px;"><textarea autocorrect="off" autocapitalize="off" spellcheck="false" tabindex="0" style="position: absolute; bottom: -1em; padding: 0px; width: 1000px; height: 1em; outline: none;"></textarea></div><div class="CodeMirror-vscrollbar" tabindex="-1" cm-not-content="true"><div style="min-width: 1px; height: 0px;"></div></div><div class="CodeMirror-hscrollbar" tabindex="-1" cm-not-content="true"><div style="height: 100%; min-height: 1px; width: 0px;"></div></div><div class="CodeMirror-scrollbar-filler" cm-not-content="true"></div><div class="CodeMirror-gutter-filler" cm-not-content="true"></div><div class="CodeMirror-scroll" tabindex="-1"><div class="CodeMirror-sizer" style="margin-left: 0px; min-width: 268.359px; margin-bottom: -15px; border-right-width: 15px; min-height: 28px; padding-right: 0px; padding-bottom: 0px;"><div style="position: relative; top: 0px;"><div class="CodeMirror-lines" role="presentation"><div role="presentation" style="position: relative; outline: none;"><div class="CodeMirror-measure"><pre class="CodeMirror-line-like"><span>xxxxxxxxxx</span></pre></div><div class="CodeMirror-measure"></div><div style="position: relative; z-index: 1;"></div><div class="CodeMirror-cursors" style="visibility: hidden;"><div class="CodeMirror-cursor" style="left: 265.359px; top: 0px; height: 17px;">&nbsp;</div></div><div class="CodeMirror-code" role="presentation"><pre class=" CodeMirror-line " role="presentation"><span role="presentation" style="padding-right: 0.1px;"><span class="cm-keyword">import</span> <span class="cm-variable">matplotlib</span>.<span class="cm-property">pyplot</span> <span class="cm-keyword">as</span> <span class="cm-variable">plt</span></span></pre></div></div></div></div></div><div style="position: absolute; height: 15px; width: 1px; border-bottom: 0px solid transparent; top: 28px;"></div><div class="CodeMirror-gutters" style="display: none; height: 43px;"></div></div></div></div></div></div><div class="output_wrapper"><div class="out_prompt_overlay prompt" title="click to scroll output; double click to hide"></div><div class="output"></div><div class="btn btn-default output_collapsed" title="click to expand output" style="display: none;">. . .</div></div></div><div class="cell code_cell rendered unselected" tabindex="2"><div class="input"><div class="prompt_container"><div class="prompt input_prompt"><bdi>In</bdi>&nbsp;[53]:</div><div class="run_this_cell" title="Run this cell"><i class="fa-step-forward fa"></i></div></div><div class="inner_cell"><div class="ctb_hideshow"><div class="celltoolbar"></div></div><div class="input_area" aria-label="Edit code here"><div class="CodeMirror cm-s-ipython"><div style="overflow: hidden; position: relative; width: 3px; height: 0px; top: 5.59375px; left: 71.4688px;"><textarea autocorrect="off" autocapitalize="off" spellcheck="false" tabindex="0" style="position: absolute; bottom: -1em; padding: 0px; width: 1000px; height: 1em; outline: none;"></textarea></div><div class="CodeMirror-vscrollbar" tabindex="-1" cm-not-content="true"><div style="min-width: 1px; height: 0px;"></div></div><div class="CodeMirror-hscrollbar" tabindex="-1" cm-not-content="true"><div style="height: 100%; min-height: 1px; width: 0px;"></div></div><div class="CodeMirror-scrollbar-filler" cm-not-content="true"></div><div class="CodeMirror-gutter-filler" cm-not-content="true"></div><div class="CodeMirror-scroll" tabindex="-1"><div class="CodeMirror-sizer" style="margin-left: 0px; min-width: 74.4688px; margin-bottom: -15px; border-right-width: 15px; min-height: 28px; padding-right: 0px; padding-bottom: 0px;"><div style="position: relative; top: 0px;"><div class="CodeMirror-lines" role="presentation"><div role="presentation" style="position: relative; outline: none;"><div class="CodeMirror-measure"><pre class="CodeMirror-line-like"><span>xxxxxxxxxx</span></pre></div><div class="CodeMirror-measure"></div><div style="position: relative; z-index: 1;"></div><div class="CodeMirror-cursors" style="visibility: hidden;"><div class="CodeMirror-cursor" style="left: 71.4688px; top: 0px; height: 17px;">&nbsp;</div></div><div class="CodeMirror-code" role="presentation"><pre class=" CodeMirror-line " role="presentation"><span role="presentation" style="padding-right: 0.1px;"><span class="cm-builtin">len</span><span class=" CodeMirror-matchingbracket">(</span><span class="cm-variable">df1</span><span class=" CodeMirror-matchingbracket">)</span></span></pre></div></div></div></div></div><div style="position: absolute; height: 15px; width: 1px; border-bottom: 0px solid transparent; top: 28px;"></div><div class="CodeMirror-gutters" style="display: none; height: 43px;"></div></div></div></div></div></div><div class="output_wrapper"><div class="out_prompt_overlay prompt" title="click to scroll output; double click to hide"></div><div class="output"><div class="output_area"><div class="run_this_cell"></div><div class="prompt output_prompt"><bdi>Out[53]:</bdi></div><div class="output_subarea output_text output_result"><pre>1257</pre></div></div></div><div class="btn btn-default output_collapsed" title="click to expand output" style="display: none;">. . .</div></div></div><div class="cell code_cell rendered unselected" tabindex="2"><div class="input"><div class="prompt_container"><div class="prompt input_prompt"><bdi>In</bdi>&nbsp;[54]:</div><div class="run_this_cell" title="Run this cell"><i class="fa-step-forward fa"></i></div></div><div class="inner_cell"><div class="ctb_hideshow"><div class="celltoolbar"></div></div><div class="input_area" aria-label="Edit code here"><div class="CodeMirror cm-s-ipython"><div style="overflow: hidden; position: relative; width: 3px; height: 0px; top: 22.5938px; left: 467.688px;"><textarea autocorrect="off" autocapitalize="off" spellcheck="false" tabindex="0" style="position: absolute; bottom: -1em; padding: 0px; width: 1000px; height: 1em; outline: none;"></textarea></div><div class="CodeMirror-vscrollbar" tabindex="-1" cm-not-content="true"><div style="min-width: 1px; height: 0px;"></div></div><div class="CodeMirror-hscrollbar" tabindex="-1" cm-not-content="true"><div style="height: 100%; min-height: 1px; width: 0px;"></div></div><div class="CodeMirror-scrollbar-filler" cm-not-content="true"></div><div class="CodeMirror-gutter-filler" cm-not-content="true"></div><div class="CodeMirror-scroll" tabindex="-1"><div class="CodeMirror-sizer" style="margin-left: 0px; min-width: 470.688px; margin-bottom: -15px; border-right-width: 15px; min-height: 45px; padding-right: 0px; padding-bottom: 0px;"><div style="position: relative; top: 0px;"><div class="CodeMirror-lines" role="presentation"><div role="presentation" style="position: relative; outline: none;"><div class="CodeMirror-measure"><pre class="CodeMirror-line-like"><span>xxxxxxxxxx</span></pre></div><div class="CodeMirror-measure"></div><div style="position: relative; z-index: 1;"></div><div class="CodeMirror-cursors" style=""><div class="CodeMirror-cursor" style="left: 467.688px; top: 17px; height: 17px;">&nbsp;</div></div><div class="CodeMirror-code" role="presentation"><pre class=" CodeMirror-line " role="presentation"><span role="presentation" style="padding-right: 0.1px;"><span class="cm-variable">plt</span>.<span class="cm-property">plot</span>(<span class="cm-variable">day_new</span>,<span class="cm-variable">scaler</span>.<span class="cm-property">inverse_transform</span>(<span class="cm-variable">df1</span>[<span class="cm-number">1158</span>:]))</span></pre><pre class=" CodeMirror-line " role="presentation"><span role="presentation" style="padding-right: 0.1px;"><span class="cm-variable">plt</span>.<span class="cm-property">plot</span><span class=" CodeMirror-matchingbracket">(</span><span class="cm-variable">day_pred</span>,<span class="cm-variable">scaler</span>.<span class="cm-property">inverse_transform</span>(<span class="cm-variable">lst_output</span>)<span class=" CodeMirror-matchingbracket">)</span></span></pre></div></div></div></div></div><div style="position: absolute; height: 15px; width: 1px; border-bottom: 0px solid transparent; top: 45px;"></div><div class="CodeMirror-gutters" style="display: none; height: 60px;"></div></div></div></div></div></div><div class="output_wrapper"><div class="out_prompt_overlay prompt" title="click to scroll output; double click to hide"></div><div class="output"><div class="output_area"><div class="run_this_cell"></div><div class="prompt"></div><div class="output_subarea output_text output_error"><pre><span class="ansi-red-fg">---------------------------------------------------------------------------</span>
<span class="ansi-red-fg">ValueError</span>                                Traceback (most recent call last)
<span class="ansi-green-fg">&lt;ipython-input-54-f7a6cd20cb29&gt;</span> in <span class="ansi-cyan-fg">&lt;module&gt;</span>
<span class="ansi-green-fg">----&gt; 1</span><span class="ansi-red-fg"> </span>plt<span class="ansi-blue-fg">.</span>plot<span class="ansi-blue-fg">(</span>day_new<span class="ansi-blue-fg">,</span>scaler<span class="ansi-blue-fg">.</span>inverse_transform<span class="ansi-blue-fg">(</span>df1<span class="ansi-blue-fg">[</span><span class="ansi-cyan-fg">1158</span><span class="ansi-blue-fg">:</span><span class="ansi-blue-fg">]</span><span class="ansi-blue-fg">)</span><span class="ansi-blue-fg">)</span>
<span class="ansi-green-intense-fg ansi-bold">      2</span> plt<span class="ansi-blue-fg">.</span>plot<span class="ansi-blue-fg">(</span>day_pred<span class="ansi-blue-fg">,</span>scaler<span class="ansi-blue-fg">.</span>inverse_transform<span class="ansi-blue-fg">(</span>lst_output<span class="ansi-blue-fg">)</span><span class="ansi-blue-fg">)</span>

<span class="ansi-green-fg">~/.local/lib/python3.8/site-packages/matplotlib/pyplot.py</span> in <span class="ansi-cyan-fg">plot</span><span class="ansi-blue-fg">(scalex, scaley, data, *args, **kwargs)</span>
<span class="ansi-green-intense-fg ansi-bold">   2759</span> <span class="ansi-blue-fg">@</span>docstring<span class="ansi-blue-fg">.</span>copy<span class="ansi-blue-fg">(</span>Axes<span class="ansi-blue-fg">.</span>plot<span class="ansi-blue-fg">)</span>
<span class="ansi-green-intense-fg ansi-bold">   2760</span> <span class="ansi-green-fg">def</span> plot<span class="ansi-blue-fg">(</span><span class="ansi-blue-fg">*</span>args<span class="ansi-blue-fg">,</span> scalex<span class="ansi-blue-fg">=</span><span class="ansi-green-fg">True</span><span class="ansi-blue-fg">,</span> scaley<span class="ansi-blue-fg">=</span><span class="ansi-green-fg">True</span><span class="ansi-blue-fg">,</span> data<span class="ansi-blue-fg">=</span><span class="ansi-green-fg">None</span><span class="ansi-blue-fg">,</span> <span class="ansi-blue-fg">**</span>kwargs<span class="ansi-blue-fg">)</span><span class="ansi-blue-fg">:</span>
<span class="ansi-green-fg">-&gt; 2761</span><span class="ansi-red-fg">     return gca().plot(
</span><span class="ansi-green-intense-fg ansi-bold">   2762</span>         *args, scalex=scalex, scaley=scaley, **({"data": data} if data
<span class="ansi-green-intense-fg ansi-bold">   2763</span>         is not None else {}), **kwargs)

<span class="ansi-green-fg">~/.local/lib/python3.8/site-packages/matplotlib/axes/_axes.py</span> in <span class="ansi-cyan-fg">plot</span><span class="ansi-blue-fg">(self, scalex, scaley, data, *args, **kwargs)</span>
<span class="ansi-green-intense-fg ansi-bold">   1645</span>         """
<span class="ansi-green-intense-fg ansi-bold">   1646</span>         kwargs <span class="ansi-blue-fg">=</span> cbook<span class="ansi-blue-fg">.</span>normalize_kwargs<span class="ansi-blue-fg">(</span>kwargs<span class="ansi-blue-fg">,</span> mlines<span class="ansi-blue-fg">.</span>Line2D<span class="ansi-blue-fg">)</span>
<span class="ansi-green-fg">-&gt; 1647</span><span class="ansi-red-fg">         </span>lines <span class="ansi-blue-fg">=</span> <span class="ansi-blue-fg">[</span><span class="ansi-blue-fg">*</span>self<span class="ansi-blue-fg">.</span>_get_lines<span class="ansi-blue-fg">(</span><span class="ansi-blue-fg">*</span>args<span class="ansi-blue-fg">,</span> data<span class="ansi-blue-fg">=</span>data<span class="ansi-blue-fg">,</span> <span class="ansi-blue-fg">**</span>kwargs<span class="ansi-blue-fg">)</span><span class="ansi-blue-fg">]</span>
<span class="ansi-green-intense-fg ansi-bold">   1648</span>         <span class="ansi-green-fg">for</span> line <span class="ansi-green-fg">in</span> lines<span class="ansi-blue-fg">:</span>
<span class="ansi-green-intense-fg ansi-bold">   1649</span>             self<span class="ansi-blue-fg">.</span>add_line<span class="ansi-blue-fg">(</span>line<span class="ansi-blue-fg">)</span>

<span class="ansi-green-fg">~/.local/lib/python3.8/site-packages/matplotlib/axes/_base.py</span> in <span class="ansi-cyan-fg">__call__</span><span class="ansi-blue-fg">(self, *args, **kwargs)</span>
<span class="ansi-green-intense-fg ansi-bold">    214</span>                 this <span class="ansi-blue-fg">+=</span> args<span class="ansi-blue-fg">[</span><span class="ansi-cyan-fg">0</span><span class="ansi-blue-fg">]</span><span class="ansi-blue-fg">,</span>
<span class="ansi-green-intense-fg ansi-bold">    215</span>                 args <span class="ansi-blue-fg">=</span> args<span class="ansi-blue-fg">[</span><span class="ansi-cyan-fg">1</span><span class="ansi-blue-fg">:</span><span class="ansi-blue-fg">]</span>
<span class="ansi-green-fg">--&gt; 216</span><span class="ansi-red-fg">             </span><span class="ansi-green-fg">yield</span> <span class="ansi-green-fg">from</span> self<span class="ansi-blue-fg">.</span>_plot_args<span class="ansi-blue-fg">(</span>this<span class="ansi-blue-fg">,</span> kwargs<span class="ansi-blue-fg">)</span>
<span class="ansi-green-intense-fg ansi-bold">    217</span> 
<span class="ansi-green-intense-fg ansi-bold">    218</span>     <span class="ansi-green-fg">def</span> get_next_color<span class="ansi-blue-fg">(</span>self<span class="ansi-blue-fg">)</span><span class="ansi-blue-fg">:</span>

<span class="ansi-green-fg">~/.local/lib/python3.8/site-packages/matplotlib/axes/_base.py</span> in <span class="ansi-cyan-fg">_plot_args</span><span class="ansi-blue-fg">(self, tup, kwargs)</span>
<span class="ansi-green-intense-fg ansi-bold">    340</span> 
<span class="ansi-green-intense-fg ansi-bold">    341</span>         <span class="ansi-green-fg">if</span> x<span class="ansi-blue-fg">.</span>shape<span class="ansi-blue-fg">[</span><span class="ansi-cyan-fg">0</span><span class="ansi-blue-fg">]</span> <span class="ansi-blue-fg">!=</span> y<span class="ansi-blue-fg">.</span>shape<span class="ansi-blue-fg">[</span><span class="ansi-cyan-fg">0</span><span class="ansi-blue-fg">]</span><span class="ansi-blue-fg">:</span>
<span class="ansi-green-fg">--&gt; 342</span><span class="ansi-red-fg">             raise ValueError(f"x and y must have same first dimension, but "
</span><span class="ansi-green-intense-fg ansi-bold">    343</span>                              f"have shapes {x.shape} and {y.shape}")
<span class="ansi-green-intense-fg ansi-bold">    344</span>         <span class="ansi-green-fg">if</span> x<span class="ansi-blue-fg">.</span>ndim <span class="ansi-blue-fg">&gt;</span> <span class="ansi-cyan-fg">2</span> <span class="ansi-green-fg">or</span> y<span class="ansi-blue-fg">.</span>ndim <span class="ansi-blue-fg">&gt;</span> <span class="ansi-cyan-fg">2</span><span class="ansi-blue-fg">:</span>

<span class="ansi-red-fg">ValueError</span>: x and y must have same first dimension, but have shapes (100,) and (99, 1)

</pre></div></div><div class="output_area"><div class="run_this_cell"></div><div class="prompt"></div><div class="output_subarea output_png"><img src="data:image/png;base64,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"></div></div></div><div class="btn btn-default output_collapsed" title="click to expand output" style="display: none;">. . .</div></div></div><div class="cell code_cell unrendered selected" tabindex="2"><div class="input"><div class="prompt_container"><div class="prompt input_prompt"><bdi>In</bdi>&nbsp;[&nbsp;]:</div><div class="run_this_cell" title="Run this cell"><i class="fa-step-forward fa"></i></div></div><div class="inner_cell"><div class="ctb_hideshow"><div class="celltoolbar"></div></div><div class="input_area" aria-label="Edit code here"><div class="CodeMirror cm-s-ipython"><div style="overflow: hidden; position: relative; width: 3px; height: 0px; top: 5.59375px; left: 4px;"><textarea autocorrect="off" autocapitalize="off" spellcheck="false" tabindex="0" style="position: absolute; bottom: -1em; padding: 0px; width: 1000px; height: 1em; outline: none;"></textarea></div><div class="CodeMirror-vscrollbar" tabindex="-1" cm-not-content="true"><div style="min-width: 1px; height: 0px;"></div></div><div class="CodeMirror-hscrollbar" tabindex="-1" cm-not-content="true"><div style="height: 100%; min-height: 1px; width: 0px;"></div></div><div class="CodeMirror-scrollbar-filler" cm-not-content="true"></div><div class="CodeMirror-gutter-filler" cm-not-content="true"></div><div class="CodeMirror-scroll" tabindex="-1"><div class="CodeMirror-sizer" style="margin-left: 0px; min-width: 7px; margin-bottom: -15px; border-right-width: 15px; min-height: 28px; padding-right: 0px; padding-bottom: 0px;"><div style="position: relative; top: 0px;"><div class="CodeMirror-lines" role="presentation"><div role="presentation" style="position: relative; outline: none;"><div class="CodeMirror-measure"></div><div class="CodeMirror-measure"></div><div style="position: relative; z-index: 1;"></div><div class="CodeMirror-cursors" style="visibility: hidden;"><div class="CodeMirror-cursor" style="left: 4px; top: 0px; height: 17px;">&nbsp;</div></div><div class="CodeMirror-code" role="presentation"><pre class=" CodeMirror-line " role="presentation"><span role="presentation" style="padding-right: 0.1px;"><span cm-text="">​</span></span></pre></div></div></div></div></div><div style="position: absolute; height: 15px; width: 1px; border-bottom: 0px solid transparent; top: 28px;"></div><div class="CodeMirror-gutters" style="display: none; height: 43px;"></div></div></div></div></div></div><div class="output_wrapper"><div class="out_prompt_overlay prompt" title="click to expand output; double click to hide output"></div><div class="output"></div><div class="btn btn-default output_collapsed" title="click to expand output" style="display: none;">. . .</div></div></div></div><div class="end_space"></div></div>
        <div id="tooltip" class="ipython_tooltip" style="display:none"><div class="tooltipbuttons"><a href="http://localhost:8888/notebooks/LSTM_API.ipynb#" role="button" class="ui-button"><span class="ui-icon ui-icon-close">Close</span></a><a href="http://localhost:8888/notebooks/LSTM_API.ipynb#" role="button" class="ui-button" id="expanbutton" title="Grow the tooltip vertically (press shift-tab twice)"><span class="ui-icon ui-icon-plus">Expand</span></a><a href="http://localhost:8888/notebooks/LSTM_API.ipynb#" role="button" class="ui-button" title="show the current docstring in pager (press shift-tab 4 times)"><span class="ui-icon ui-icon-arrowstop-l-n">Open in Pager</span></a><a href="http://localhost:8888/notebooks/LSTM_API.ipynb#" role="button" class="ui-button" title="Tooltip will linger for 10 seconds while you type" style="display: none;"><span class="ui-icon ui-icon-clock">Close</span></a></div><div class="pretooltiparrow"></div><div class="tooltiptext smalltooltip"></div></div>
    </div>
</div>



</div>



<div id="pager" class="ui-resizable">
    <div id="pager-contents">
        <div id="pager-container" class="container"></div>
    </div>
    <div id="pager-button-area"><a role="button" title="Open the pager in an external window" class="ui-button"><span class="ui-icon ui-icon-extlink"></span></a><a role="button" title="Close the pager" class="ui-button"><span class="ui-icon ui-icon-close"></span></a></div>
<div class="ui-resizable-handle ui-resizable-n" style="z-index: 90;"></div></div>






<script type="text/javascript">
    sys_info = {"notebook_version": "6.0.3", "notebook_path": "/home/user/.local/lib/python3.8/site-packages/notebook", "commit_source": "", "commit_hash": "", "sys_version": "3.8.2 (default, Jul 16 2020, 14:00:26) \n[GCC 9.3.0]", "sys_executable": "/usr/bin/python3", "sys_platform": "linux", "platform": "Linux-5.4.0-47-generic-x86_64-with-glibc2.29", "os_name": "posix", "default_encoding": "utf-8"};
</script>

<script src="./LSTM_API _files/encoding.js" charset="utf-8"></script>

<script src="./LSTM_API _files/main.min.js" type="text/javascript" charset="utf-8"></script>



<script type="text/javascript">
  function _remove_token_from_url() {
    if (window.location.search.length <= 1) {
      return;
    }
    var search_parameters = window.location.search.slice(1).split('&');
    for (var i = 0; i < search_parameters.length; i++) {
      if (search_parameters[i].split('=')[0] === 'token') {
        // remote token from search parameters
        search_parameters.splice(i, 1);
        var new_search = '';
        if (search_parameters.length) {
          new_search = '?' + search_parameters.join('&');
        }
        var new_url = window.location.origin + 
                      window.location.pathname + 
                      new_search + 
                      window.location.hash;
        window.history.replaceState({}, "", new_url);
        return;
      }
    }
  }
  _remove_token_from_url();
</script>


<div style="position: absolute; width: 0px; height: 0px; overflow: hidden; padding: 0px; border: 0px; margin: 0px;"><div id="MathJax_Font_Test" style="position: absolute; visibility: hidden; top: 0px; left: 0px; width: auto; min-width: 0px; max-width: none; padding: 0px; border: 0px; margin: 0px; white-space: nowrap; text-align: left; text-indent: 0px; text-transform: none; line-height: normal; letter-spacing: normal; word-spacing: normal; font-size: 40px; font-weight: normal; font-style: normal;"></div></div><div class="modal-backdrop fade in"></div><div class="modal fade in" role="dialog" style="display: block;"><div class="modal-dialog"><div class="modal-content"><div class="modal-header"><button type="button" aria-label="close" class="close" data-dismiss="modal" aria-hidden="true">×</button><h4 class="modal-title">Notebook changed</h4></div><div class="modal-body"><p>The notebook file has changed on disk since the last time we opened or saved it. Do you want to overwrite the file on disk with the version open here, or load the version on disk (reload the page)?</p></div><div class="modal-footer"><button class="btn btn-default btn-sm btn-warning" data-dismiss="modal">Reload</button><button class="btn btn-default btn-sm" data-dismiss="modal">Cancel</button><button class="btn btn-default btn-sm btn-danger save-confirm-btn" data-dismiss="modal">Overwrite</button></div></div></div></div></body></html>